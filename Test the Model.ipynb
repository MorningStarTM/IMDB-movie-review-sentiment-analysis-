{
 "cells": [
  {
   "cell_type": "code",
   "execution_count": 12,
   "id": "ba0c4bfb",
   "metadata": {},
   "outputs": [],
   "source": [
    "from tensorflow.keras.models import load_model, Sequential\n",
    "from tensorflow.keras.layers import LSTM, Embedding, Dense\n",
    "import pandas as pd\n",
    "import numpy as np\n",
    "import re\n",
    "import nltk\n",
    "import tensorflow as tf\n",
    "from nltk.corpus import stopwords\n",
    "from nltk.stem import PorterStemmer, WordNetLemmatizer\n",
    "from tensorflow.keras.preprocessing.sequence import pad_sequences\n",
    "from tensorflow.keras.preprocessing.text import one_hot"
   ]
  },
  {
   "cell_type": "code",
   "execution_count": 13,
   "id": "f6b807fc",
   "metadata": {},
   "outputs": [
    {
     "name": "stderr",
     "output_type": "stream",
     "text": [
      "[nltk_data] Downloading package stopwords to C:\\Users\\Dark-\n",
      "[nltk_data]     Devil\\AppData\\Roaming\\nltk_data...\n",
      "[nltk_data]   Package stopwords is already up-to-date!\n"
     ]
    },
    {
     "data": {
      "text/plain": [
       "True"
      ]
     },
     "execution_count": 13,
     "metadata": {},
     "output_type": "execute_result"
    }
   ],
   "source": [
    "nltk.download('stopwords')"
   ]
  },
  {
   "cell_type": "code",
   "execution_count": 22,
   "id": "6cf1b657",
   "metadata": {},
   "outputs": [],
   "source": [
    "stop_word_text = \"a, an, the, and, or, but, if, then, else, when, where, who, whom, which, that, this, these, those, in, on, at, to, from, by, for, of, with, without, over, under, above, below, between, among, through, throughout, until, while, since, during, within, without, beyond, beside, between, except, but, up, down, in, out, off, above, below, under, too, very, so, such, just, as, both, neither, either, although, because, since, so that, though, unless, until, whether, while, why\""
   ]
  },
  {
   "cell_type": "code",
   "execution_count": 23,
   "id": "27722561",
   "metadata": {},
   "outputs": [],
   "source": [
    "stop_words = stop_word_text.split(\",\")"
   ]
  },
  {
   "cell_type": "code",
   "execution_count": 14,
   "id": "8d9c3058",
   "metadata": {},
   "outputs": [],
   "source": [
    "#filtering the text\n",
    "def full_form(text):\n",
    "    text = text.lower()\n",
    "    plain = re.sub(r'[<>?\\.,!\"(\\)\\/[\\]]', '', text)\n",
    "    plain = plain.replace(\"don't\", \"do not\")\n",
    "    plain = plain.replace(\"won't\", \"will not\")\n",
    "    plain = plain.replace(\"haven't\", \"have not\")\n",
    "    plain = plain.replace(\"can't\", \"cannot\")\n",
    "    plain = plain.replace(\"she's\", \"she is\")\n",
    "    plain = plain.replace(\"he's\", \"he is\")\n",
    "    plain = plain.replace(\"there're\", \"there are\")\n",
    "    plain = plain.replace(\"they'd\", \"they would\")\n",
    "    plain = plain.replace(\"\\'ll\", \" will\")\n",
    "    return plain              "
   ]
  },
  {
   "cell_type": "code",
   "execution_count": 15,
   "id": "26aa3941",
   "metadata": {},
   "outputs": [],
   "source": [
    "#initialize the stemmer and lemmentizer\n",
    "stemmer = PorterStemmer()\n",
    "lemmatizer = WordNetLemmatizer()"
   ]
  },
  {
   "cell_type": "code",
   "execution_count": 24,
   "id": "d65e567f",
   "metadata": {},
   "outputs": [],
   "source": [
    "#preprocessing  text \n",
    "def remove_stop_words(data):\n",
    "    corpus = []\n",
    " \n",
    "    #split the sentence\n",
    "    plain = full_form(data)\n",
    "    sentence = plain.split()\n",
    "    \n",
    "    #check and stem the word\n",
    "    review_processed = [stemmer.stem(word) for word in sentence if not word in stop_words]\n",
    "    #rebuild the sentence\n",
    "    review_joint = ' '.join(review_processed)\n",
    "    #add the sentence into list\n",
    "    corpus.append(review_joint)\n",
    "    return corpus"
   ]
  },
  {
   "cell_type": "code",
   "execution_count": 17,
   "id": "05a72aae",
   "metadata": {},
   "outputs": [],
   "source": [
    "df = pd.read_csv(\"C:\\\\Users\\\\Dark-Devil\\\\Desktop\\\\IMDB Dataset.csv\")"
   ]
  },
  {
   "cell_type": "code",
   "execution_count": 82,
   "id": "59888abd",
   "metadata": {},
   "outputs": [
    {
     "name": "stdout",
     "output_type": "stream",
     "text": [
      "No, this hilariously horrible 70's made-for-TV horror clinker isn't about a deadly demonically possessed dessert cake. Still, this exceptionally awful, yet undeniably amusing and thus enjoyable cathode ray refuse reaches a breathtaking apex of absolute, unremitting silliness and atrociousness that's quite tasty in a so-execrable-it's-downright-awesome sort of way. Richard Crenna, looking haggard and possibly inebriated, and Yvette Mimieux, who acts as if she never got over the brutal rape she endured in \"Jackson County Jail,\" sluggishly portray a disgustingly nice and respectable suburbanite couple whose quaint, dull, sleepy small town existence gets ripped asunder when the cute German Shepard they take in as the family pet turns out to be some ancient lethal evil spirit. Pretty soon Mimieux and her two repellently cutesy kids Kim Richards and Ike Eisenmann (the psychic alien moppets from the Disney \"Witch Mountain\" pictures) are worshiping a crude crayon drawing of the nasty, ugly canine entity in the den. Boy, now doesn't that sound really scary and disturbing? Well, scary and disturbing this laughably ludicrous claptrap sure ain't, but it sure is funny, thanks to Curtis (\"Night Tide\") Harrington's hopelessly weak direction, cartoonish (not so) special effects, an almost painfully risible'n'ridiculous plot, and a game cast that struggles valiantly with the absurd story (besides the leads, both Martine Beswicke and R.G. Armstrong briefly pop up as members of a Satanic cult and Victor Jory has a nice cameo as a helpful Native American shaman). Favorite scene: the malicious Mephestophelion mutt puts the whammy on Crenna, practically forcing him to stick his hand into a wildly spinning lawnmower blade. While stuck-up snobby fright film fans may hold their noses at the perfectly putrid stench of this admittedly smelly schlock, devout TV trash lovers should deem this endearingly abominable offal the boob tube equivalent to Alpo. \n",
      "\n",
      "positive\n"
     ]
    }
   ],
   "source": [
    "print(df['review'][103],'\\n')\n",
    "print(df['sentiment'][103])"
   ]
  },
  {
   "cell_type": "code",
   "execution_count": 19,
   "id": "eec32378",
   "metadata": {},
   "outputs": [],
   "source": [
    "sent_length = 200\n",
    "#vocabular size\n",
    "voc_size = 5000"
   ]
  },
  {
   "cell_type": "code",
   "execution_count": 83,
   "id": "ff05951d",
   "metadata": {},
   "outputs": [],
   "source": [
    "text = \"\"\"\n",
    "    No, this hilariously horrible 70's made-for-TV horror clinker isn't about a deadly demonically possessed dessert cake. \n",
    "    Still, this exceptionally awful, yet undeniably amusing and thus enjoyable cathode ray refuse reaches a \n",
    "    breathtaking apex of absolute, unremitting silliness and atrociousness that's quite tasty in a \n",
    "    so-execrable-it's-downright-awesome sort of way. Richard Crenna, looking haggard and possibly inebriated, and \n",
    "    Yvette Mimieux, who acts as if she never got over the brutal rape she endured in \"Jackson County Jail,\" sluggishly \n",
    "    portray a disgustingly nice and respectable suburbanite couple whose quaint, dull, sleepy small town existence gets ripped \n",
    "    asunder when the cute German Shepard they take in as the family pet turns out to be some ancient lethal evil spirit. \n",
    "    Pretty soon Mimieux and her two repellently cutesy kids Kim Richards and Ike Eisenmann (the psychic alien moppets from \n",
    "    the Disney \"Witch Mountain\" pictures) are worshiping a crude crayon drawing of the nasty, ugly canine entity in the den. \n",
    "    Boy, now doesn't that sound really scary and disturbing? Well, scary and disturbing this laughably ludicrous claptrap \n",
    "    sure ain't, but it sure is funny, thanks to Curtis (\"Night Tide\") Harrington's hopelessly weak direction, cartoonish \n",
    "    (not so) special effects, an almost painfully risible'n'ridiculous plot, and a game cast that struggles valiantly with \n",
    "    the absurd story (besides the leads, both Martine Beswicke and R.G. Armstrong briefly pop up as members of a Satanic \n",
    "    cult and Victor Jory has a nice cameo as a helpful Native American shaman). Favorite scene: the malicious Mephestophelion\n",
    "    mutt puts the whammy on Crenna, practically forcing him to stick his hand into a wildly spinning lawnmower blade. While \n",
    "    stuck-up snobby fright film fans may hold their noses at the perfectly putrid stench of this admittedly smelly schlock,\n",
    "    devout TV trash lovers should deem this endearingly abominable offal the boob tube equivalent to Alpo. \n",
    "\"\"\""
   ]
  },
  {
   "cell_type": "code",
   "execution_count": 84,
   "id": "72da9035",
   "metadata": {},
   "outputs": [],
   "source": [
    "#preprocessing \n",
    "processed_text = remove_stop_words(text)\n",
    "#one hot encoding\n",
    "onehot_sent = [one_hot(word, voc_size) for word in processed_text]\n",
    "#embedding\n",
    "embedd_docs = pad_sequences(onehot_sent, padding='pre', maxlen=sent_length)\n",
    "#convert into numpy array\n",
    "X_sample = np.array(embedd_docs)"
   ]
  },
  {
   "cell_type": "code",
   "execution_count": 85,
   "id": "7bc2d235",
   "metadata": {},
   "outputs": [
    {
     "data": {
      "text/plain": [
       "[\"no thi hilari horribl 70' made-for-tv horror clinker isn't about deadli demon possess dessert cake still thi except aw yet undeni amus and thu enjoy cathod ray refus reach breathtak apex of absolut unremit silli and atroci that' quit tasti in so-execrable-it's-downright-awesom sort of way richard crenna look haggard and possibl inebri and yvett mimieux who act as if she never got over the brutal rape she endur in jackson counti jail sluggishli portray disgustingli nice and respect suburbanit coupl whose quaint dull sleepi small town exist get rip asund when the cute german shepard they take in as the famili pet turn out to be some ancient lethal evil spirit pretti soon mimieux and her two repel cutesi kid kim richard and ike eisenmann the psychic alien moppet from the disney witch mountain pictur are worship crude crayon draw of the nasti ugli canin entiti in the den boy now doesn't that sound realli scari and disturb well scari and disturb thi laughabl ludicr claptrap sure ain't but it sure is funni thank to curti night tide harrington' hopelessli weak direct cartoonish not so special effect an almost pain risible'n'ridicul plot and game cast that struggl valiantli with the absurd stori besid the lead both martin beswick and rg armstrong briefli pop up as member of satan cult and victor jori ha nice cameo as help nativ american shaman favorit scene: the malici mephestophelion mutt put the whammi on crenna practic forc him to stick hi hand into wildli spin lawnmow blade while stuck-up snobbi fright film fan may hold their nose at the perfectli putrid stench of thi admittedli smelli schlock devout tv trash lover should deem thi endearingli abomin offal the boob tube equival to alpo\"]"
      ]
     },
     "execution_count": 85,
     "metadata": {},
     "output_type": "execute_result"
    }
   ],
   "source": [
    "processed_text"
   ]
  },
  {
   "cell_type": "code",
   "execution_count": 88,
   "id": "70f937ba",
   "metadata": {},
   "outputs": [],
   "source": [
    "rnn = load_model(\"./assets/movieSentiAnalysisV-3.h5\")"
   ]
  },
  {
   "cell_type": "code",
   "execution_count": 86,
   "id": "2aa885ca",
   "metadata": {},
   "outputs": [],
   "source": [
    "import json\n",
    "from keras.models import model_from_json\n",
    "\n",
    "# Load the saved model architecture\n",
    "with open('./assets/my_model-V3.json', 'r') as json_file:\n",
    "    loaded_model_json = json_file.read()\n",
    "\n",
    "# Create the Keras model from the loaded architecture\n",
    "loaded_model = model_from_json(loaded_model_json)\n",
    "\n",
    "loaded_model.load_weights('./assets/my_model_weights-V3.h5')"
   ]
  },
  {
   "cell_type": "code",
   "execution_count": 90,
   "id": "e537c282",
   "metadata": {},
   "outputs": [
    {
     "name": "stdout",
     "output_type": "stream",
     "text": [
      "1/1 [==============================] - 0s 16ms/step\n"
     ]
    },
    {
     "data": {
      "text/plain": [
       "array([[0]])"
      ]
     },
     "execution_count": 90,
     "metadata": {},
     "output_type": "execute_result"
    }
   ],
   "source": [
    "sample_prediction = (rnn.predict(X_sample) > 0.5).astype(\"int32\")\n",
    "sample_prediction"
   ]
  },
  {
   "cell_type": "code",
   "execution_count": null,
   "id": "652843a8",
   "metadata": {},
   "outputs": [],
   "source": []
  }
 ],
 "metadata": {
  "kernelspec": {
   "display_name": "Python 3 (ipykernel)",
   "language": "python",
   "name": "python3"
  },
  "language_info": {
   "codemirror_mode": {
    "name": "ipython",
    "version": 3
   },
   "file_extension": ".py",
   "mimetype": "text/x-python",
   "name": "python",
   "nbconvert_exporter": "python",
   "pygments_lexer": "ipython3",
   "version": "3.9.13"
  }
 },
 "nbformat": 4,
 "nbformat_minor": 5
}
