{
 "cells": [
  {
   "cell_type": "code",
   "execution_count": 58,
   "metadata": {
    "execution": {
     "iopub.execute_input": "2023-03-13T11:20:08.132169Z",
     "iopub.status.busy": "2023-03-13T11:20:08.131746Z",
     "iopub.status.idle": "2023-03-13T11:20:08.138956Z",
     "shell.execute_reply": "2023-03-13T11:20:08.137924Z",
     "shell.execute_reply.started": "2023-03-13T11:20:08.132134Z"
    }
   },
   "outputs": [],
   "source": [
    "import pandas as pd\n",
    "import numpy as np\n",
    "import re\n",
    "import nltk\n",
    "import tensorflow as tf\n",
    "from nltk.corpus import stopwords\n",
    "from nltk.stem import PorterStemmer, WordNetLemmatizer\n",
    "from nltk.corpus import wordnet\n",
    "from tensorflow.keras.layers import LSTM, Dense, Embedding\n",
    "from tensorflow.keras.layers import ReLU\n",
    "from tensorflow.keras.preprocessing.sequence import pad_sequences\n",
    "from tensorflow.keras.preprocessing.text import one_hot\n",
    "from tensorflow.keras.models import Model, Sequential\n",
    "from sklearn.model_selection import train_test_split\n",
    "from sklearn.metrics import confusion_matrix\n",
    "from sklearn.metrics import accuracy_score"
   ]
  },
  {
   "cell_type": "code",
   "execution_count": 59,
   "metadata": {
    "execution": {
     "iopub.execute_input": "2023-03-13T10:38:01.531614Z",
     "iopub.status.busy": "2023-03-13T10:38:01.530986Z",
     "iopub.status.idle": "2023-03-13T10:38:01.699307Z",
     "shell.execute_reply": "2023-03-13T10:38:01.698248Z",
     "shell.execute_reply.started": "2023-03-13T10:38:01.531584Z"
    }
   },
   "outputs": [
    {
     "name": "stderr",
     "output_type": "stream",
     "text": [
      "[nltk_data] Downloading package stopwords to C:\\Users\\Dark-\n",
      "[nltk_data]     Devil\\AppData\\Roaming\\nltk_data...\n",
      "[nltk_data]   Package stopwords is already up-to-date!\n",
      "[nltk_data] Downloading package punkt to C:\\Users\\Dark-\n",
      "[nltk_data]     Devil\\AppData\\Roaming\\nltk_data...\n",
      "[nltk_data]   Package punkt is already up-to-date!\n"
     ]
    },
    {
     "data": {
      "text/plain": [
       "True"
      ]
     },
     "execution_count": 59,
     "metadata": {},
     "output_type": "execute_result"
    }
   ],
   "source": [
    "nltk.download('stopwords')\n",
    "nltk.download('punkt')"
   ]
  },
  {
   "cell_type": "code",
   "execution_count": 60,
   "metadata": {
    "execution": {
     "iopub.execute_input": "2023-03-13T10:38:05.112126Z",
     "iopub.status.busy": "2023-03-13T10:38:05.111724Z",
     "iopub.status.idle": "2023-03-13T10:38:06.530795Z",
     "shell.execute_reply": "2023-03-13T10:38:06.528096Z",
     "shell.execute_reply.started": "2023-03-13T10:38:05.112092Z"
    }
   },
   "outputs": [],
   "source": [
    "#read data\n",
    "data = pd.read_csv(\"C:\\\\Users\\\\Dark-Devil\\\\Desktop\\\\IMDB Dataset.csv\")"
   ]
  },
  {
   "cell_type": "code",
   "execution_count": 61,
   "metadata": {
    "execution": {
     "iopub.execute_input": "2023-03-13T10:38:06.533039Z",
     "iopub.status.busy": "2023-03-13T10:38:06.532685Z",
     "iopub.status.idle": "2023-03-13T10:38:06.548791Z",
     "shell.execute_reply": "2023-03-13T10:38:06.547282Z",
     "shell.execute_reply.started": "2023-03-13T10:38:06.533003Z"
    }
   },
   "outputs": [
    {
     "data": {
      "text/plain": [
       "(50000, 2)"
      ]
     },
     "execution_count": 61,
     "metadata": {},
     "output_type": "execute_result"
    }
   ],
   "source": [
    "#size of data\n",
    "data.shape"
   ]
  },
  {
   "cell_type": "code",
   "execution_count": 62,
   "metadata": {
    "execution": {
     "iopub.execute_input": "2023-03-13T10:38:07.459056Z",
     "iopub.status.busy": "2023-03-13T10:38:07.458683Z",
     "iopub.status.idle": "2023-03-13T10:38:07.466539Z",
     "shell.execute_reply": "2023-03-13T10:38:07.465521Z",
     "shell.execute_reply.started": "2023-03-13T10:38:07.459020Z"
    }
   },
   "outputs": [
    {
     "data": {
      "text/plain": [
       "Index(['review', 'sentiment'], dtype='object')"
      ]
     },
     "execution_count": 62,
     "metadata": {},
     "output_type": "execute_result"
    }
   ],
   "source": [
    "data.columns"
   ]
  },
  {
   "cell_type": "code",
   "execution_count": 63,
   "metadata": {
    "execution": {
     "iopub.execute_input": "2023-03-13T10:38:10.164799Z",
     "iopub.status.busy": "2023-03-13T10:38:10.163860Z",
     "iopub.status.idle": "2023-03-13T10:38:10.202187Z",
     "shell.execute_reply": "2023-03-13T10:38:10.200742Z",
     "shell.execute_reply.started": "2023-03-13T10:38:10.164750Z"
    }
   },
   "outputs": [
    {
     "name": "stdout",
     "output_type": "stream",
     "text": [
      "<class 'pandas.core.frame.DataFrame'>\n",
      "RangeIndex: 50000 entries, 0 to 49999\n",
      "Data columns (total 2 columns):\n",
      " #   Column     Non-Null Count  Dtype \n",
      "---  ------     --------------  ----- \n",
      " 0   review     50000 non-null  object\n",
      " 1   sentiment  50000 non-null  object\n",
      "dtypes: object(2)\n",
      "memory usage: 781.4+ KB\n"
     ]
    }
   ],
   "source": [
    "#check null value \n",
    "data.info()"
   ]
  },
  {
   "cell_type": "code",
   "execution_count": 64,
   "metadata": {
    "execution": {
     "iopub.execute_input": "2023-03-13T10:38:10.260910Z",
     "iopub.status.busy": "2023-03-13T10:38:10.260247Z",
     "iopub.status.idle": "2023-03-13T10:38:10.274602Z",
     "shell.execute_reply": "2023-03-13T10:38:10.273566Z",
     "shell.execute_reply.started": "2023-03-13T10:38:10.260879Z"
    }
   },
   "outputs": [
    {
     "data": {
      "text/html": [
       "<div>\n",
       "<style scoped>\n",
       "    .dataframe tbody tr th:only-of-type {\n",
       "        vertical-align: middle;\n",
       "    }\n",
       "\n",
       "    .dataframe tbody tr th {\n",
       "        vertical-align: top;\n",
       "    }\n",
       "\n",
       "    .dataframe thead th {\n",
       "        text-align: right;\n",
       "    }\n",
       "</style>\n",
       "<table border=\"1\" class=\"dataframe\">\n",
       "  <thead>\n",
       "    <tr style=\"text-align: right;\">\n",
       "      <th></th>\n",
       "      <th>review</th>\n",
       "      <th>sentiment</th>\n",
       "    </tr>\n",
       "  </thead>\n",
       "  <tbody>\n",
       "    <tr>\n",
       "      <th>0</th>\n",
       "      <td>One of the other reviewers has mentioned that ...</td>\n",
       "      <td>positive</td>\n",
       "    </tr>\n",
       "    <tr>\n",
       "      <th>1</th>\n",
       "      <td>A wonderful little production. &lt;br /&gt;&lt;br /&gt;The...</td>\n",
       "      <td>positive</td>\n",
       "    </tr>\n",
       "    <tr>\n",
       "      <th>2</th>\n",
       "      <td>I thought this was a wonderful way to spend ti...</td>\n",
       "      <td>positive</td>\n",
       "    </tr>\n",
       "    <tr>\n",
       "      <th>3</th>\n",
       "      <td>Basically there's a family where a little boy ...</td>\n",
       "      <td>negative</td>\n",
       "    </tr>\n",
       "    <tr>\n",
       "      <th>4</th>\n",
       "      <td>Petter Mattei's \"Love in the Time of Money\" is...</td>\n",
       "      <td>positive</td>\n",
       "    </tr>\n",
       "    <tr>\n",
       "      <th>5</th>\n",
       "      <td>Probably my all-time favorite movie, a story o...</td>\n",
       "      <td>positive</td>\n",
       "    </tr>\n",
       "    <tr>\n",
       "      <th>6</th>\n",
       "      <td>I sure would like to see a resurrection of a u...</td>\n",
       "      <td>positive</td>\n",
       "    </tr>\n",
       "    <tr>\n",
       "      <th>7</th>\n",
       "      <td>This show was an amazing, fresh &amp; innovative i...</td>\n",
       "      <td>negative</td>\n",
       "    </tr>\n",
       "    <tr>\n",
       "      <th>8</th>\n",
       "      <td>Encouraged by the positive comments about this...</td>\n",
       "      <td>negative</td>\n",
       "    </tr>\n",
       "    <tr>\n",
       "      <th>9</th>\n",
       "      <td>If you like original gut wrenching laughter yo...</td>\n",
       "      <td>positive</td>\n",
       "    </tr>\n",
       "  </tbody>\n",
       "</table>\n",
       "</div>"
      ],
      "text/plain": [
       "                                              review sentiment\n",
       "0  One of the other reviewers has mentioned that ...  positive\n",
       "1  A wonderful little production. <br /><br />The...  positive\n",
       "2  I thought this was a wonderful way to spend ti...  positive\n",
       "3  Basically there's a family where a little boy ...  negative\n",
       "4  Petter Mattei's \"Love in the Time of Money\" is...  positive\n",
       "5  Probably my all-time favorite movie, a story o...  positive\n",
       "6  I sure would like to see a resurrection of a u...  positive\n",
       "7  This show was an amazing, fresh & innovative i...  negative\n",
       "8  Encouraged by the positive comments about this...  negative\n",
       "9  If you like original gut wrenching laughter yo...  positive"
      ]
     },
     "execution_count": 64,
     "metadata": {},
     "output_type": "execute_result"
    }
   ],
   "source": [
    "data.head(10)"
   ]
  },
  {
   "cell_type": "code",
   "execution_count": 65,
   "metadata": {
    "execution": {
     "iopub.execute_input": "2023-03-13T10:38:48.559960Z",
     "iopub.status.busy": "2023-03-13T10:38:48.559036Z",
     "iopub.status.idle": "2023-03-13T10:38:48.583928Z",
     "shell.execute_reply": "2023-03-13T10:38:48.582989Z",
     "shell.execute_reply.started": "2023-03-13T10:38:48.559909Z"
    }
   },
   "outputs": [],
   "source": [
    "data['sent_bin'] = data['sentiment'].replace({'positive': 1, 'negative': 0})"
   ]
  },
  {
   "cell_type": "code",
   "execution_count": 66,
   "metadata": {
    "execution": {
     "iopub.execute_input": "2023-03-13T10:39:03.379782Z",
     "iopub.status.busy": "2023-03-13T10:39:03.378822Z",
     "iopub.status.idle": "2023-03-13T10:39:03.390965Z",
     "shell.execute_reply": "2023-03-13T10:39:03.389682Z",
     "shell.execute_reply.started": "2023-03-13T10:39:03.379729Z"
    }
   },
   "outputs": [
    {
     "data": {
      "text/html": [
       "<div>\n",
       "<style scoped>\n",
       "    .dataframe tbody tr th:only-of-type {\n",
       "        vertical-align: middle;\n",
       "    }\n",
       "\n",
       "    .dataframe tbody tr th {\n",
       "        vertical-align: top;\n",
       "    }\n",
       "\n",
       "    .dataframe thead th {\n",
       "        text-align: right;\n",
       "    }\n",
       "</style>\n",
       "<table border=\"1\" class=\"dataframe\">\n",
       "  <thead>\n",
       "    <tr style=\"text-align: right;\">\n",
       "      <th></th>\n",
       "      <th>review</th>\n",
       "      <th>sentiment</th>\n",
       "      <th>sent_bin</th>\n",
       "    </tr>\n",
       "  </thead>\n",
       "  <tbody>\n",
       "    <tr>\n",
       "      <th>0</th>\n",
       "      <td>One of the other reviewers has mentioned that ...</td>\n",
       "      <td>positive</td>\n",
       "      <td>1</td>\n",
       "    </tr>\n",
       "    <tr>\n",
       "      <th>1</th>\n",
       "      <td>A wonderful little production. &lt;br /&gt;&lt;br /&gt;The...</td>\n",
       "      <td>positive</td>\n",
       "      <td>1</td>\n",
       "    </tr>\n",
       "    <tr>\n",
       "      <th>2</th>\n",
       "      <td>I thought this was a wonderful way to spend ti...</td>\n",
       "      <td>positive</td>\n",
       "      <td>1</td>\n",
       "    </tr>\n",
       "    <tr>\n",
       "      <th>3</th>\n",
       "      <td>Basically there's a family where a little boy ...</td>\n",
       "      <td>negative</td>\n",
       "      <td>0</td>\n",
       "    </tr>\n",
       "    <tr>\n",
       "      <th>4</th>\n",
       "      <td>Petter Mattei's \"Love in the Time of Money\" is...</td>\n",
       "      <td>positive</td>\n",
       "      <td>1</td>\n",
       "    </tr>\n",
       "  </tbody>\n",
       "</table>\n",
       "</div>"
      ],
      "text/plain": [
       "                                              review sentiment  sent_bin\n",
       "0  One of the other reviewers has mentioned that ...  positive         1\n",
       "1  A wonderful little production. <br /><br />The...  positive         1\n",
       "2  I thought this was a wonderful way to spend ti...  positive         1\n",
       "3  Basically there's a family where a little boy ...  negative         0\n",
       "4  Petter Mattei's \"Love in the Time of Money\" is...  positive         1"
      ]
     },
     "execution_count": 66,
     "metadata": {},
     "output_type": "execute_result"
    }
   ],
   "source": [
    "data.head()"
   ]
  },
  {
   "cell_type": "code",
   "execution_count": 67,
   "metadata": {
    "execution": {
     "iopub.execute_input": "2023-03-09T08:51:35.284839Z",
     "iopub.status.busy": "2023-03-09T08:51:35.284388Z",
     "iopub.status.idle": "2023-03-09T08:51:35.290303Z",
     "shell.execute_reply": "2023-03-09T08:51:35.289078Z",
     "shell.execute_reply.started": "2023-03-09T08:51:35.284803Z"
    }
   },
   "outputs": [],
   "source": [
    "df = data[0:5000]"
   ]
  },
  {
   "cell_type": "code",
   "execution_count": 68,
   "metadata": {
    "execution": {
     "iopub.execute_input": "2023-03-09T08:51:35.297169Z",
     "iopub.status.busy": "2023-03-09T08:51:35.296178Z",
     "iopub.status.idle": "2023-03-09T08:51:35.305759Z",
     "shell.execute_reply": "2023-03-09T08:51:35.304382Z",
     "shell.execute_reply.started": "2023-03-09T08:51:35.297132Z"
    }
   },
   "outputs": [
    {
     "data": {
      "text/plain": [
       "(5000, 3)"
      ]
     },
     "execution_count": 68,
     "metadata": {},
     "output_type": "execute_result"
    }
   ],
   "source": [
    "df.shape"
   ]
  },
  {
   "cell_type": "code",
   "execution_count": 69,
   "metadata": {},
   "outputs": [],
   "source": [
    "stop_word_text = \"a, an, the, and, or, but, if, then, else, when, where, who, whom, which, that, this, these, those, in, on, at, to, from, by, for, of, with, without, over, under, above, below, between, among, through, throughout, until, while, since, during, within, without, beyond, beside, between, except, but, up, down, in, out, off, above, below, under, too, very, so, such, just, as, both, neither, either, although, because, since, so that, though, unless, until, whether, while, why\""
   ]
  },
  {
   "cell_type": "code",
   "execution_count": 70,
   "metadata": {},
   "outputs": [],
   "source": [
    "stop_words = stop_word_text.split(\",\")"
   ]
  },
  {
   "cell_type": "code",
   "execution_count": 71,
   "metadata": {
    "execution": {
     "iopub.execute_input": "2023-03-13T10:39:17.704910Z",
     "iopub.status.busy": "2023-03-13T10:39:17.704519Z",
     "iopub.status.idle": "2023-03-13T10:39:17.712476Z",
     "shell.execute_reply": "2023-03-13T10:39:17.711308Z",
     "shell.execute_reply.started": "2023-03-13T10:39:17.704875Z"
    }
   },
   "outputs": [],
   "source": [
    "#filtering the text\n",
    "def full_form(text):\n",
    "    text = text.lower()\n",
    "    plain = re.sub(r'[<>?\\.,!\"(\\)\\/[\\]]', '', text)\n",
    "    plain = plain.replace(\"don't\", \"do not\")\n",
    "    plain = plain.replace(\"won't\", \"will not\")\n",
    "    plain = plain.replace(\"haven't\", \"have not\")\n",
    "    plain = plain.replace(\"can't\", \"cannot\")\n",
    "    plain = plain.replace(\"she's\", \"she is\")\n",
    "    plain = plain.replace(\"he's\", \"he is\")\n",
    "    plain = plain.replace(\"there're\", \"there are\")\n",
    "    plain = plain.replace(\"they'd\", \"they would\")\n",
    "    plain = plain.replace(\"\\'ll\", \" will\")\n",
    "    return plain              "
   ]
  },
  {
   "cell_type": "code",
   "execution_count": 72,
   "metadata": {
    "execution": {
     "iopub.execute_input": "2023-03-13T10:39:23.291600Z",
     "iopub.status.busy": "2023-03-13T10:39:23.291230Z",
     "iopub.status.idle": "2023-03-13T10:39:23.296795Z",
     "shell.execute_reply": "2023-03-13T10:39:23.295620Z",
     "shell.execute_reply.started": "2023-03-13T10:39:23.291565Z"
    }
   },
   "outputs": [],
   "source": [
    "#initialize the stemmer and lemmentizer\n",
    "stemmer = PorterStemmer()\n",
    "lemmatizer = WordNetLemmatizer()"
   ]
  },
  {
   "cell_type": "code",
   "execution_count": 73,
   "metadata": {
    "execution": {
     "iopub.execute_input": "2023-03-13T10:39:23.595170Z",
     "iopub.status.busy": "2023-03-13T10:39:23.594645Z",
     "iopub.status.idle": "2023-03-13T10:39:23.606959Z",
     "shell.execute_reply": "2023-03-13T10:39:23.605853Z",
     "shell.execute_reply.started": "2023-03-13T10:39:23.595127Z"
    }
   },
   "outputs": [],
   "source": [
    "#preprocessing  text \n",
    "def remove_stop_words(data):\n",
    "  corpus = []\n",
    "  for i in range(0, len(data)):\n",
    "    #split the sentence\n",
    "    plain = full_form(data['review'][i])\n",
    "    sentence = plain.split()\n",
    "    \n",
    "    #check and stem the word\n",
    "    review_processed = [stemmer.stem(word) for word in sentence if not word in stop_words]\n",
    "    #rebuild the sentence\n",
    "    review_joint = ' '.join(review_processed)\n",
    "    #add the sentence into list\n",
    "    corpus.append(review_joint)\n",
    "  return corpus"
   ]
  },
  {
   "cell_type": "code",
   "execution_count": 74,
   "metadata": {
    "execution": {
     "iopub.execute_input": "2023-03-13T10:39:48.780378Z",
     "iopub.status.busy": "2023-03-13T10:39:48.779424Z",
     "iopub.status.idle": "2023-03-13T11:07:33.870909Z",
     "shell.execute_reply": "2023-03-13T11:07:33.869872Z",
     "shell.execute_reply.started": "2023-03-13T10:39:48.780323Z"
    }
   },
   "outputs": [],
   "source": [
    "review_processed = remove_stop_words(data)"
   ]
  },
  {
   "cell_type": "code",
   "execution_count": 75,
   "metadata": {
    "execution": {
     "iopub.execute_input": "2023-03-13T11:09:05.766363Z",
     "iopub.status.busy": "2023-03-13T11:09:05.765950Z",
     "iopub.status.idle": "2023-03-13T11:09:05.772150Z",
     "shell.execute_reply": "2023-03-13T11:09:05.771052Z",
     "shell.execute_reply.started": "2023-03-13T11:09:05.766320Z"
    }
   },
   "outputs": [],
   "source": [
    "y = data['sent_bin']"
   ]
  },
  {
   "cell_type": "code",
   "execution_count": 76,
   "metadata": {
    "execution": {
     "iopub.execute_input": "2023-03-13T11:09:47.599694Z",
     "iopub.status.busy": "2023-03-13T11:09:47.599095Z",
     "iopub.status.idle": "2023-03-13T11:09:47.604501Z",
     "shell.execute_reply": "2023-03-13T11:09:47.603443Z",
     "shell.execute_reply.started": "2023-03-13T11:09:47.599650Z"
    }
   },
   "outputs": [],
   "source": [
    "#vocabular size\n",
    "voc_size = 5000"
   ]
  },
  {
   "cell_type": "code",
   "execution_count": 77,
   "metadata": {
    "execution": {
     "iopub.execute_input": "2023-03-13T11:09:49.747139Z",
     "iopub.status.busy": "2023-03-13T11:09:49.746719Z",
     "iopub.status.idle": "2023-03-13T11:09:53.192742Z",
     "shell.execute_reply": "2023-03-13T11:09:53.191653Z",
     "shell.execute_reply.started": "2023-03-13T11:09:49.747104Z"
    }
   },
   "outputs": [],
   "source": [
    "#convert into one hot vector\n",
    "onehot_text = [one_hot(word, voc_size) for word in review_processed]"
   ]
  },
  {
   "cell_type": "code",
   "execution_count": 78,
   "metadata": {
    "execution": {
     "iopub.execute_input": "2023-03-13T11:25:55.062697Z",
     "iopub.status.busy": "2023-03-13T11:25:55.061743Z",
     "iopub.status.idle": "2023-03-13T11:25:55.069848Z",
     "shell.execute_reply": "2023-03-13T11:25:55.068727Z",
     "shell.execute_reply.started": "2023-03-13T11:25:55.062620Z"
    }
   },
   "outputs": [
    {
     "data": {
      "text/plain": [
       "50000"
      ]
     },
     "execution_count": 78,
     "metadata": {},
     "output_type": "execute_result"
    }
   ],
   "source": [
    "len(onehot_text)"
   ]
  },
  {
   "cell_type": "markdown",
   "metadata": {},
   "source": [
    "# Embedding"
   ]
  },
  {
   "cell_type": "code",
   "execution_count": 79,
   "metadata": {
    "execution": {
     "iopub.execute_input": "2023-03-13T11:10:24.297578Z",
     "iopub.status.busy": "2023-03-13T11:10:24.296990Z",
     "iopub.status.idle": "2023-03-13T11:10:24.302494Z",
     "shell.execute_reply": "2023-03-13T11:10:24.301152Z",
     "shell.execute_reply.started": "2023-03-13T11:10:24.297540Z"
    }
   },
   "outputs": [],
   "source": [
    "sent_length = 200"
   ]
  },
  {
   "cell_type": "code",
   "execution_count": 80,
   "metadata": {
    "execution": {
     "iopub.execute_input": "2023-03-13T11:10:29.676978Z",
     "iopub.status.busy": "2023-03-13T11:10:29.676033Z",
     "iopub.status.idle": "2023-03-13T11:10:30.084490Z",
     "shell.execute_reply": "2023-03-13T11:10:30.083415Z",
     "shell.execute_reply.started": "2023-03-13T11:10:29.676926Z"
    }
   },
   "outputs": [],
   "source": [
    "#embedding\n",
    "embedd_docs = pad_sequences(onehot_text, padding='pre', maxlen=sent_length)"
   ]
  },
  {
   "cell_type": "code",
   "execution_count": 81,
   "metadata": {
    "execution": {
     "iopub.execute_input": "2023-03-13T11:10:46.943772Z",
     "iopub.status.busy": "2023-03-13T11:10:46.943153Z",
     "iopub.status.idle": "2023-03-13T11:10:46.951091Z",
     "shell.execute_reply": "2023-03-13T11:10:46.949936Z",
     "shell.execute_reply.started": "2023-03-13T11:10:46.943732Z"
    }
   },
   "outputs": [
    {
     "data": {
      "text/plain": [
       "(307, 307)"
      ]
     },
     "execution_count": 81,
     "metadata": {},
     "output_type": "execute_result"
    }
   ],
   "source": [
    "len(review_processed[0].split()), len(onehot_text[0])"
   ]
  },
  {
   "cell_type": "code",
   "execution_count": 82,
   "metadata": {
    "execution": {
     "iopub.execute_input": "2023-03-13T11:10:50.298194Z",
     "iopub.status.busy": "2023-03-13T11:10:50.297457Z",
     "iopub.status.idle": "2023-03-13T11:10:50.309996Z",
     "shell.execute_reply": "2023-03-13T11:10:50.308898Z",
     "shell.execute_reply.started": "2023-03-13T11:10:50.298152Z"
    }
   },
   "outputs": [
    {
     "data": {
      "text/plain": [
       "array([1481, 1577, 3532, 4945, 4290, 2186, 3401, 3703,  828, 2302,  178,\n",
       "       3798, 2371, 2302, 3474, 4369, 4537, 2026, 2689, 3723,  480, 3150,\n",
       "       2637,   50, 1656,  545, 3532, 2302,  368, 3892, 4290,   50, 2017,\n",
       "       1352, 2841, 4675, 1663, 2789, 4526, 4312, 3679, 2689, 2283, 1481,\n",
       "       1876, 4231, 2380,  860, 2689, 2381, 2409, 2276, 2212, 4815, 4080,\n",
       "       3238, 1228, 4357, 3235, 2302, 2984, 2671,  828, 2302, 3830,   50,\n",
       "       2462, 1352, 2302,  382,  515, 4377, 1651, 3798, 4578, 3830, 2558,\n",
       "       2838, 1390, 4902, 2017,  168,   92,  415, 2711, 1390, 4814, 1390,\n",
       "       3784, 1438, 4179, 1943, 2302, 1235, 1969, 1228,  707, 1417, 4073,\n",
       "        656, 4651, 3150, 2647, 4377, 1888, 2171, 1228, 4553, 3235, 1228,\n",
       "       1888, 2139,   92, 4377,  421, 4651, 1228,   90, 2986, 1228, 3084,\n",
       "        237,   92, 3292, 2689, 4296, 4993, 1352, 2302,  545,  486,  828,\n",
       "       1510, 3558, 1656, 1189, 3558,  421,   45, 2554, 1192, 3852,  783,\n",
       "       4174,  897, 4428,   92,  851, 3009, 3852,  783, 4527, 3532,  500,\n",
       "       2689,  258, 2111, 4652, 4377, 4401, 4850, 2963, 3884, 3009, 4174,\n",
       "       4461, 1540,  178,  973, 2462, 1352, 4449, 1483,  828, 1447, 4269,\n",
       "        104,  178, 2497,   90, 3292, 1182,  239,  343, 1414, 4652,  291,\n",
       "         50, 3365, 2606, 4107, 1182, 1166,  258,  245, 4177, 4652, 3436,\n",
       "       1379, 2665])"
      ]
     },
     "execution_count": 82,
     "metadata": {},
     "output_type": "execute_result"
    }
   ],
   "source": [
    "embedd_docs[0]"
   ]
  },
  {
   "cell_type": "code",
   "execution_count": 83,
   "metadata": {
    "execution": {
     "iopub.execute_input": "2023-03-13T11:11:01.494606Z",
     "iopub.status.busy": "2023-03-13T11:11:01.492149Z",
     "iopub.status.idle": "2023-03-13T11:11:01.503841Z",
     "shell.execute_reply": "2023-03-13T11:11:01.502548Z",
     "shell.execute_reply.started": "2023-03-13T11:11:01.494563Z"
    }
   },
   "outputs": [
    {
     "data": {
      "text/plain": [
       "(50000, (50000,))"
      ]
     },
     "execution_count": 83,
     "metadata": {},
     "output_type": "execute_result"
    }
   ],
   "source": [
    "#shape of data\n",
    "len(embedd_docs), y.shape"
   ]
  },
  {
   "cell_type": "code",
   "execution_count": 84,
   "metadata": {
    "execution": {
     "iopub.execute_input": "2023-03-13T11:11:47.269038Z",
     "iopub.status.busy": "2023-03-13T11:11:47.268678Z",
     "iopub.status.idle": "2023-03-13T11:11:47.291390Z",
     "shell.execute_reply": "2023-03-13T11:11:47.290397Z",
     "shell.execute_reply.started": "2023-03-13T11:11:47.269005Z"
    }
   },
   "outputs": [],
   "source": [
    "#convert into numpy array\n",
    "X_data = np.array(embedd_docs)\n",
    "y_data = np.array(y)\n",
    "#y_data = np.squeeze(y_data)"
   ]
  },
  {
   "cell_type": "code",
   "execution_count": 85,
   "metadata": {
    "execution": {
     "iopub.execute_input": "2023-03-13T11:11:51.586540Z",
     "iopub.status.busy": "2023-03-13T11:11:51.586178Z",
     "iopub.status.idle": "2023-03-13T11:11:51.593468Z",
     "shell.execute_reply": "2023-03-13T11:11:51.592196Z",
     "shell.execute_reply.started": "2023-03-13T11:11:51.586506Z"
    }
   },
   "outputs": [
    {
     "data": {
      "text/plain": [
       "((50000, 200), (50000,))"
      ]
     },
     "execution_count": 85,
     "metadata": {},
     "output_type": "execute_result"
    }
   ],
   "source": [
    "X_data.shape, y_data.shape"
   ]
  },
  {
   "cell_type": "code",
   "execution_count": 86,
   "metadata": {
    "execution": {
     "iopub.execute_input": "2023-03-13T11:11:56.643861Z",
     "iopub.status.busy": "2023-03-13T11:11:56.643108Z",
     "iopub.status.idle": "2023-03-13T11:11:56.669398Z",
     "shell.execute_reply": "2023-03-13T11:11:56.668394Z",
     "shell.execute_reply.started": "2023-03-13T11:11:56.643820Z"
    }
   },
   "outputs": [],
   "source": [
    "#split dataset for training and testing\n",
    "X_train, X_test, y_train, y_test = train_test_split(X_data, y_data, test_size=0.3, random_state=42)"
   ]
  },
  {
   "cell_type": "code",
   "execution_count": 87,
   "metadata": {
    "execution": {
     "iopub.execute_input": "2023-03-13T11:12:03.275575Z",
     "iopub.status.busy": "2023-03-13T11:12:03.275041Z",
     "iopub.status.idle": "2023-03-13T11:12:03.284719Z",
     "shell.execute_reply": "2023-03-13T11:12:03.282374Z",
     "shell.execute_reply.started": "2023-03-13T11:12:03.275541Z"
    }
   },
   "outputs": [
    {
     "name": "stdout",
     "output_type": "stream",
     "text": [
      "training: (35000, 200) - (35000,)\n",
      "testing: (15000, 200) - (15000,)\n"
     ]
    }
   ],
   "source": [
    "print(f'training: {X_train.shape} - {y_train.shape}')\n",
    "print(f'testing: {X_test.shape} - {y_test.shape}')"
   ]
  },
  {
   "cell_type": "code",
   "execution_count": 88,
   "metadata": {
    "execution": {
     "iopub.execute_input": "2023-03-13T11:12:13.457126Z",
     "iopub.status.busy": "2023-03-13T11:12:13.456157Z",
     "iopub.status.idle": "2023-03-13T11:12:13.466218Z",
     "shell.execute_reply": "2023-03-13T11:12:13.465140Z",
     "shell.execute_reply.started": "2023-03-13T11:12:13.457086Z"
    }
   },
   "outputs": [
    {
     "data": {
      "text/plain": [
       "array([0, 1, 0, 1, 0, 0, 0, 0, 1, 0], dtype=int64)"
      ]
     },
     "execution_count": 88,
     "metadata": {},
     "output_type": "execute_result"
    }
   ],
   "source": [
    "y_train[0:10]"
   ]
  },
  {
   "cell_type": "markdown",
   "metadata": {},
   "source": [
    "# Model"
   ]
  },
  {
   "cell_type": "code",
   "execution_count": 89,
   "metadata": {
    "execution": {
     "iopub.execute_input": "2023-03-13T11:11:35.388786Z",
     "iopub.status.busy": "2023-03-13T11:11:35.388058Z",
     "iopub.status.idle": "2023-03-13T11:11:39.495750Z",
     "shell.execute_reply": "2023-03-13T11:11:39.494798Z",
     "shell.execute_reply.started": "2023-03-13T11:11:35.388745Z"
    }
   },
   "outputs": [
    {
     "name": "stdout",
     "output_type": "stream",
     "text": [
      "Model: \"sequential_1\"\n",
      "_________________________________________________________________\n",
      " Layer (type)                Output Shape              Param #   \n",
      "=================================================================\n",
      " embedding_1 (Embedding)     (None, 200, 100)          500000    \n",
      "                                                                 \n",
      " lstm_1 (LSTM)               (None, 100)               80400     \n",
      "                                                                 \n",
      " dense_1 (Dense)             (None, 1)                 101       \n",
      "                                                                 \n",
      "=================================================================\n",
      "Total params: 580,501\n",
      "Trainable params: 580,501\n",
      "Non-trainable params: 0\n",
      "_________________________________________________________________\n",
      "None\n"
     ]
    }
   ],
   "source": [
    "## Creating model\n",
    "embedding_vector_features=100\n",
    "model=Sequential()\n",
    "model.add(Embedding(voc_size,embedding_vector_features,input_length=sent_length))\n",
    "model.add(LSTM(100))\n",
    "model.add(Dense(1,activation='sigmoid'))\n",
    "model.compile(loss='binary_crossentropy',optimizer='adam',metrics=['accuracy'])\n",
    "print(model.summary())"
   ]
  },
  {
   "cell_type": "code",
   "execution_count": 90,
   "metadata": {
    "execution": {
     "iopub.execute_input": "2023-03-13T11:12:30.087810Z",
     "iopub.status.busy": "2023-03-13T11:12:30.086878Z",
     "iopub.status.idle": "2023-03-13T11:15:28.548577Z",
     "shell.execute_reply": "2023-03-13T11:15:28.547593Z",
     "shell.execute_reply.started": "2023-03-13T11:12:30.087754Z"
    }
   },
   "outputs": [
    {
     "name": "stdout",
     "output_type": "stream",
     "text": [
      "Epoch 1/10\n",
      "547/547 [==============================] - 129s 232ms/step - loss: 0.4110 - accuracy: 0.8111 - val_loss: 0.3506 - val_accuracy: 0.8541\n",
      "Epoch 2/10\n",
      "547/547 [==============================] - 155s 284ms/step - loss: 0.3002 - accuracy: 0.8754 - val_loss: 0.3175 - val_accuracy: 0.8629\n",
      "Epoch 3/10\n",
      "547/547 [==============================] - 149s 272ms/step - loss: 0.2499 - accuracy: 0.8977 - val_loss: 0.3395 - val_accuracy: 0.8641\n",
      "Epoch 4/10\n",
      "547/547 [==============================] - 151s 276ms/step - loss: 0.2250 - accuracy: 0.9091 - val_loss: 0.3387 - val_accuracy: 0.8599\n",
      "Epoch 5/10\n",
      "547/547 [==============================] - 145s 266ms/step - loss: 0.1902 - accuracy: 0.9245 - val_loss: 0.3760 - val_accuracy: 0.8629\n",
      "Epoch 6/10\n",
      "547/547 [==============================] - 149s 272ms/step - loss: 0.1627 - accuracy: 0.9373 - val_loss: 0.4135 - val_accuracy: 0.8640\n",
      "Epoch 7/10\n",
      "547/547 [==============================] - 151s 275ms/step - loss: 0.1363 - accuracy: 0.9503 - val_loss: 0.4076 - val_accuracy: 0.8586\n",
      "Epoch 8/10\n",
      "547/547 [==============================] - 170s 311ms/step - loss: 0.1200 - accuracy: 0.9549 - val_loss: 0.4726 - val_accuracy: 0.8608\n",
      "Epoch 9/10\n",
      "547/547 [==============================] - 174s 318ms/step - loss: 0.1093 - accuracy: 0.9609 - val_loss: 0.4692 - val_accuracy: 0.8630\n",
      "Epoch 10/10\n",
      "547/547 [==============================] - 161s 295ms/step - loss: 0.0823 - accuracy: 0.9712 - val_loss: 0.5542 - val_accuracy: 0.8619\n"
     ]
    },
    {
     "data": {
      "text/plain": [
       "<keras.callbacks.History at 0x1504e6aeaf0>"
      ]
     },
     "execution_count": 90,
     "metadata": {},
     "output_type": "execute_result"
    }
   ],
   "source": [
    "model.fit(X_train, y_train, validation_data=(X_test, y_test), epochs=10, batch_size=64)"
   ]
  },
  {
   "cell_type": "markdown",
   "metadata": {},
   "source": [
    "# Model Evaluation"
   ]
  },
  {
   "cell_type": "code",
   "execution_count": 108,
   "metadata": {
    "execution": {
     "iopub.execute_input": "2023-03-13T11:16:07.680744Z",
     "iopub.status.busy": "2023-03-13T11:16:07.680093Z",
     "iopub.status.idle": "2023-03-13T11:16:12.861538Z",
     "shell.execute_reply": "2023-03-13T11:16:12.860513Z",
     "shell.execute_reply.started": "2023-03-13T11:16:07.680703Z"
    }
   },
   "outputs": [
    {
     "name": "stdout",
     "output_type": "stream",
     "text": [
      "469/469 [==============================] - 11s 24ms/step - loss: 0.5542 - accuracy: 0.8619\n"
     ]
    },
    {
     "data": {
      "text/plain": [
       "[0.5541790127754211, 0.8618666529655457]"
      ]
     },
     "execution_count": 108,
     "metadata": {},
     "output_type": "execute_result"
    }
   ],
   "source": [
    "model.evaluate(X_test, y_test)"
   ]
  },
  {
   "cell_type": "code",
   "execution_count": 109,
   "metadata": {
    "execution": {
     "iopub.execute_input": "2023-03-13T11:18:37.458422Z",
     "iopub.status.busy": "2023-03-13T11:18:37.457367Z",
     "iopub.status.idle": "2023-03-13T11:18:43.314190Z",
     "shell.execute_reply": "2023-03-13T11:18:43.313092Z",
     "shell.execute_reply.started": "2023-03-13T11:18:37.458377Z"
    }
   },
   "outputs": [
    {
     "name": "stdout",
     "output_type": "stream",
     "text": [
      "469/469 [==============================] - 11s 24ms/step\n"
     ]
    }
   ],
   "source": [
    "predictions = (model.predict(X_test) > 0.5).astype(\"int32\")"
   ]
  },
  {
   "cell_type": "code",
   "execution_count": 110,
   "metadata": {
    "execution": {
     "iopub.execute_input": "2023-03-13T11:19:47.664858Z",
     "iopub.status.busy": "2023-03-13T11:19:47.663896Z",
     "iopub.status.idle": "2023-03-13T11:19:47.676285Z",
     "shell.execute_reply": "2023-03-13T11:19:47.674999Z",
     "shell.execute_reply.started": "2023-03-13T11:19:47.664818Z"
    }
   },
   "outputs": [
    {
     "data": {
      "text/plain": [
       "array([[6203, 1208],\n",
       "       [ 864, 6725]], dtype=int64)"
      ]
     },
     "execution_count": 110,
     "metadata": {},
     "output_type": "execute_result"
    }
   ],
   "source": [
    "#confusion matrix \n",
    "confusion_matrix(y_test,predictions)"
   ]
  },
  {
   "cell_type": "code",
   "execution_count": 111,
   "metadata": {
    "execution": {
     "iopub.execute_input": "2023-03-13T11:20:27.696350Z",
     "iopub.status.busy": "2023-03-13T11:20:27.694916Z",
     "iopub.status.idle": "2023-03-13T11:20:27.709988Z",
     "shell.execute_reply": "2023-03-13T11:20:27.708921Z",
     "shell.execute_reply.started": "2023-03-13T11:20:27.696301Z"
    }
   },
   "outputs": [
    {
     "data": {
      "text/plain": [
       "0.8618666666666667"
      ]
     },
     "execution_count": 111,
     "metadata": {},
     "output_type": "execute_result"
    }
   ],
   "source": [
    "accuracy_score(y_test,predictions)"
   ]
  },
  {
   "cell_type": "markdown",
   "metadata": {},
   "source": [
    "# Testing model with text"
   ]
  },
  {
   "cell_type": "code",
   "execution_count": 112,
   "metadata": {
    "execution": {
     "iopub.execute_input": "2023-03-13T11:22:15.357159Z",
     "iopub.status.busy": "2023-03-13T11:22:15.356477Z",
     "iopub.status.idle": "2023-03-13T11:22:15.362823Z",
     "shell.execute_reply": "2023-03-13T11:22:15.361561Z",
     "shell.execute_reply.started": "2023-03-13T11:22:15.357119Z"
    }
   },
   "outputs": [
    {
     "name": "stdout",
     "output_type": "stream",
     "text": [
      "One of the other reviewers has mentioned that after watching just 1 Oz episode you'll be hooked. They are right, as this is exactly what happened with me.<br /><br />The first thing that struck me about Oz was its brutality and unflinching scenes of violence, which set in right from the word GO. Trust me, this is not a show for the faint hearted or timid. This show pulls no punches with regards to drugs, sex or violence. Its is hardcore, in the classic use of the word.<br /><br />It is called OZ as that is the nickname given to the Oswald Maximum Security State Penitentary. It focuses mainly on Emerald City, an experimental section of the prison where all the cells have glass fronts and face inwards, so privacy is not high on the agenda. Em City is home to many..Aryans, Muslims, gangstas, Latinos, Christians, Italians, Irish and more....so scuffles, death stares, dodgy dealings and shady agreements are never far away.<br /><br />I would say the main appeal of the show is due to the fact that it goes where other shows wouldn't dare. Forget pretty pictures painted for mainstream audiences, forget charm, forget romance...OZ doesn't mess around. The first episode I ever saw struck me as so nasty it was surreal, I couldn't say I was ready for it, but as I watched more, I developed a taste for Oz, and got accustomed to the high levels of graphic violence. Not just violence, but injustice (crooked guards who'll be sold out for a nickel, inmates who'll kill on order and get away with it, well mannered, middle class inmates being turned into prison bitches due to their lack of street skills or prison experience) Watching Oz, you may become comfortable with what is uncomfortable viewing....thats if you can get in touch with your darker side. \n",
      "\n",
      "positive\n"
     ]
    }
   ],
   "source": [
    "print(data['review'][0],'\\n')\n",
    "print(data['sentiment'][0])"
   ]
  },
  {
   "cell_type": "code",
   "execution_count": 125,
   "metadata": {},
   "outputs": [],
   "source": [
    "#preprocessing  text \n",
    "def remove_stop_words(data):\n",
    "    corpus = []\n",
    " \n",
    "    #split the sentence\n",
    "    plain = full_form(data)\n",
    "    sentence = plain.split()\n",
    "    \n",
    "    #check and stem the word\n",
    "    review_processed = [stemmer.stem(word) for word in sentence if not word in stop_words]\n",
    "    #rebuild the sentence\n",
    "    review_joint = ' '.join(review_processed)\n",
    "    #add the sentence into list\n",
    "    corpus.append(review_joint)\n",
    "    return corpus"
   ]
  },
  {
   "cell_type": "code",
   "execution_count": 130,
   "metadata": {},
   "outputs": [],
   "source": [
    "text = \"this movie is very good and i like this movie\"\n",
    "#preprocessing \n",
    "processed_text = remove_stop_words(text)\n",
    "#one hot encoding\n",
    "onehot_sent = [one_hot(word, voc_size) for word in processed_text]\n",
    "#embedding\n",
    "embedd_docs = pad_sequences(onehot_sent, padding='pre', maxlen=sent_length)\n",
    "#convert into numpy array\n",
    "X_sample = np.array(embedd_docs)"
   ]
  },
  {
   "cell_type": "code",
   "execution_count": 131,
   "metadata": {},
   "outputs": [
    {
     "data": {
      "text/plain": [
       "['thi movi is veri good and i like thi movi']"
      ]
     },
     "execution_count": 131,
     "metadata": {},
     "output_type": "execute_result"
    }
   ],
   "source": [
    "processed_text"
   ]
  },
  {
   "cell_type": "code",
   "execution_count": 147,
   "metadata": {
    "execution": {
     "iopub.execute_input": "2023-03-13T11:29:07.586878Z",
     "iopub.status.busy": "2023-03-13T11:29:07.586117Z",
     "iopub.status.idle": "2023-03-13T11:29:07.650480Z",
     "shell.execute_reply": "2023-03-13T11:29:07.649465Z",
     "shell.execute_reply.started": "2023-03-13T11:29:07.586840Z"
    }
   },
   "outputs": [
    {
     "name": "stdout",
     "output_type": "stream",
     "text": [
      "1/1 [==============================] - 0s 31ms/step\n"
     ]
    }
   ],
   "source": [
    "sample_prediction = (rnn.predict(X_sample) > 0.5).astype(\"int32\")"
   ]
  },
  {
   "cell_type": "code",
   "execution_count": 148,
   "metadata": {
    "execution": {
     "iopub.execute_input": "2023-03-13T11:29:10.242703Z",
     "iopub.status.busy": "2023-03-13T11:29:10.242069Z",
     "iopub.status.idle": "2023-03-13T11:29:10.249518Z",
     "shell.execute_reply": "2023-03-13T11:29:10.248328Z",
     "shell.execute_reply.started": "2023-03-13T11:29:10.242660Z"
    }
   },
   "outputs": [
    {
     "data": {
      "text/plain": [
       "array([[1]])"
      ]
     },
     "execution_count": 148,
     "metadata": {},
     "output_type": "execute_result"
    }
   ],
   "source": [
    "sample_prediction"
   ]
  },
  {
   "cell_type": "markdown",
   "metadata": {},
   "source": [
    "# Save the model"
   ]
  },
  {
   "cell_type": "code",
   "execution_count": 140,
   "metadata": {
    "execution": {
     "iopub.execute_input": "2023-03-13T11:30:38.084080Z",
     "iopub.status.busy": "2023-03-13T11:30:38.083374Z",
     "iopub.status.idle": "2023-03-13T11:30:38.133389Z",
     "shell.execute_reply": "2023-03-13T11:30:38.132423Z",
     "shell.execute_reply.started": "2023-03-13T11:30:38.084041Z"
    }
   },
   "outputs": [],
   "source": [
    "model.save(\"./assets/movieSentiAnalysisV-3.h5\")"
   ]
  },
  {
   "cell_type": "code",
   "execution_count": 141,
   "metadata": {},
   "outputs": [],
   "source": [
    "from tensorflow.keras.models import load_model\n",
    "\n",
    "model_json = model.to_json()\n",
    "\n",
    "# Save the JSON string to a file\n",
    "with open(\"./assets/my_model-V3.json\", \"w\") as json_file:\n",
    "    json_file.write(model_json)\n",
    "\n",
    "model.save_weights(\"./assets/my_model_weights-V3.h5\")"
   ]
  },
  {
   "cell_type": "code",
   "execution_count": 142,
   "metadata": {},
   "outputs": [],
   "source": [
    "from tensorflow.keras.models import load_model"
   ]
  },
  {
   "cell_type": "code",
   "execution_count": 143,
   "metadata": {},
   "outputs": [],
   "source": [
    "rnn = load_model(\"./assets/movieSentiAnalysisV-3.h5\")"
   ]
  },
  {
   "cell_type": "code",
   "execution_count": 104,
   "metadata": {},
   "outputs": [
    {
     "name": "stdout",
     "output_type": "stream",
     "text": [
      "If you like original gut wrenching laughter you will like this movie. If you are young or old then you will love this movie, hell even my mom liked it.<br /><br />Great Camp!!! \n",
      "\n",
      "positive\n"
     ]
    }
   ],
   "source": [
    "print(data['review'][9],'\\n')\n",
    "print(data['sentiment'][9])"
   ]
  },
  {
   "cell_type": "code",
   "execution_count": 165,
   "metadata": {},
   "outputs": [],
   "source": [
    "text = \"\"\"\n",
    "    This movie is really fucking distinguish movie. people really do not like this type of movies.\n",
    "\"\"\""
   ]
  },
  {
   "cell_type": "code",
   "execution_count": 166,
   "metadata": {},
   "outputs": [],
   "source": [
    "#preprocessing \n",
    "processed_text = remove_stop_words(text)\n",
    "#one hot encoding\n",
    "onehot_sent = [one_hot(word, voc_size) for word in processed_text]\n",
    "#embedding\n",
    "embedd_docs = pad_sequences(onehot_sent, padding='pre', maxlen=sent_length)\n",
    "#convert into numpy array\n",
    "X_sample = np.array(embedd_docs)"
   ]
  },
  {
   "cell_type": "code",
   "execution_count": 167,
   "metadata": {},
   "outputs": [
    {
     "data": {
      "text/plain": [
       "['thi movi is realli fuck distinguish movi peopl realli do not like thi type of movi']"
      ]
     },
     "execution_count": 167,
     "metadata": {},
     "output_type": "execute_result"
    }
   ],
   "source": [
    "processed_text"
   ]
  },
  {
   "cell_type": "code",
   "execution_count": 168,
   "metadata": {},
   "outputs": [
    {
     "name": "stdout",
     "output_type": "stream",
     "text": [
      "1/1 [==============================] - 0s 24ms/step\n"
     ]
    },
    {
     "data": {
      "text/plain": [
       "array([[1]])"
      ]
     },
     "execution_count": 168,
     "metadata": {},
     "output_type": "execute_result"
    }
   ],
   "source": [
    "sample_prediction = (rnn.predict(X_sample) > 0.9).astype(\"int32\")\n",
    "sample_prediction"
   ]
  },
  {
   "cell_type": "code",
   "execution_count": null,
   "metadata": {},
   "outputs": [],
   "source": []
  }
 ],
 "metadata": {
  "kernelspec": {
   "display_name": "Python 3 (ipykernel)",
   "language": "python",
   "name": "python3"
  },
  "language_info": {
   "codemirror_mode": {
    "name": "ipython",
    "version": 3
   },
   "file_extension": ".py",
   "mimetype": "text/x-python",
   "name": "python",
   "nbconvert_exporter": "python",
   "pygments_lexer": "ipython3",
   "version": "3.9.13"
  }
 },
 "nbformat": 4,
 "nbformat_minor": 4
}
