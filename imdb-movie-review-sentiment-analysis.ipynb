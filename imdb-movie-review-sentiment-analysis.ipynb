{
 "cells": [
  {
   "cell_type": "code",
   "execution_count": 1,
   "id": "8efb7afd",
   "metadata": {
    "execution": {
     "iopub.execute_input": "2023-03-09T09:37:26.689998Z",
     "iopub.status.busy": "2023-03-09T09:37:26.689169Z",
     "iopub.status.idle": "2023-03-09T09:37:34.237398Z",
     "shell.execute_reply": "2023-03-09T09:37:34.236304Z"
    },
    "papermill": {
     "duration": 7.560555,
     "end_time": "2023-03-09T09:37:34.240073",
     "exception": false,
     "start_time": "2023-03-09T09:37:26.679518",
     "status": "completed"
    },
    "tags": []
   },
   "outputs": [],
   "source": [
    "import pandas as pd\n",
    "import numpy as np\n",
    "import re\n",
    "import nltk\n",
    "import tensorflow as tf\n",
    "from nltk.corpus import stopwords\n",
    "from nltk.stem import PorterStemmer, WordNetLemmatizer\n",
    "from nltk.corpus import wordnet\n",
    "from tensorflow.keras.layers import LSTM, Dense, Embedding\n",
    "from tensorflow.keras.layers import ReLU\n",
    "from tensorflow.keras.preprocessing.sequence import pad_sequences\n",
    "from tensorflow.keras.preprocessing.text import one_hot\n",
    "from tensorflow.keras.models import Model, Sequential\n",
    "from sklearn.model_selection import train_test_split\n",
    "from sklearn.metrics import confusion_matrix"
   ]
  },
  {
   "cell_type": "code",
   "execution_count": 2,
   "id": "4f618f1f",
   "metadata": {
    "execution": {
     "iopub.execute_input": "2023-03-09T09:37:34.255906Z",
     "iopub.status.busy": "2023-03-09T09:37:34.255315Z",
     "iopub.status.idle": "2023-03-09T09:37:34.334421Z",
     "shell.execute_reply": "2023-03-09T09:37:34.332798Z"
    },
    "papermill": {
     "duration": 0.090982,
     "end_time": "2023-03-09T09:37:34.338181",
     "exception": false,
     "start_time": "2023-03-09T09:37:34.247199",
     "status": "completed"
    },
    "tags": []
   },
   "outputs": [
    {
     "name": "stdout",
     "output_type": "stream",
     "text": [
      "[nltk_data] Downloading package stopwords to /usr/share/nltk_data...\n",
      "[nltk_data]   Package stopwords is already up-to-date!\n"
     ]
    },
    {
     "data": {
      "text/plain": [
       "True"
      ]
     },
     "execution_count": 2,
     "metadata": {},
     "output_type": "execute_result"
    }
   ],
   "source": [
    "nltk.download('stopwords')"
   ]
  },
  {
   "cell_type": "code",
   "execution_count": 3,
   "id": "f5a53e29",
   "metadata": {
    "execution": {
     "iopub.execute_input": "2023-03-09T09:37:34.353808Z",
     "iopub.status.busy": "2023-03-09T09:37:34.352990Z",
     "iopub.status.idle": "2023-03-09T09:37:34.425404Z",
     "shell.execute_reply": "2023-03-09T09:37:34.422909Z"
    },
    "papermill": {
     "duration": 0.082744,
     "end_time": "2023-03-09T09:37:34.428007",
     "exception": false,
     "start_time": "2023-03-09T09:37:34.345263",
     "status": "completed"
    },
    "tags": []
   },
   "outputs": [
    {
     "name": "stdout",
     "output_type": "stream",
     "text": [
      "[nltk_data] Downloading package punkt to /usr/share/nltk_data...\n",
      "[nltk_data]   Package punkt is already up-to-date!\n"
     ]
    },
    {
     "data": {
      "text/plain": [
       "True"
      ]
     },
     "execution_count": 3,
     "metadata": {},
     "output_type": "execute_result"
    }
   ],
   "source": [
    "nltk.download('punkt')"
   ]
  },
  {
   "cell_type": "code",
   "execution_count": 4,
   "id": "44713ef5",
   "metadata": {
    "execution": {
     "iopub.execute_input": "2023-03-09T09:37:34.443635Z",
     "iopub.status.busy": "2023-03-09T09:37:34.443352Z",
     "iopub.status.idle": "2023-03-09T09:37:35.833953Z",
     "shell.execute_reply": "2023-03-09T09:37:35.832925Z"
    },
    "papermill": {
     "duration": 1.401332,
     "end_time": "2023-03-09T09:37:35.836823",
     "exception": false,
     "start_time": "2023-03-09T09:37:34.435491",
     "status": "completed"
    },
    "tags": []
   },
   "outputs": [],
   "source": [
    "#read data\n",
    "data = pd.read_csv(\"/kaggle/input/imdb-dataset-of-50k-movie-reviews/IMDB Dataset.csv\")"
   ]
  },
  {
   "cell_type": "code",
   "execution_count": 5,
   "id": "c969de7d",
   "metadata": {
    "execution": {
     "iopub.execute_input": "2023-03-09T09:37:35.853357Z",
     "iopub.status.busy": "2023-03-09T09:37:35.852455Z",
     "iopub.status.idle": "2023-03-09T09:37:35.859031Z",
     "shell.execute_reply": "2023-03-09T09:37:35.857972Z"
    },
    "papermill": {
     "duration": 0.017047,
     "end_time": "2023-03-09T09:37:35.861643",
     "exception": false,
     "start_time": "2023-03-09T09:37:35.844596",
     "status": "completed"
    },
    "tags": []
   },
   "outputs": [
    {
     "data": {
      "text/plain": [
       "(50000, 2)"
      ]
     },
     "execution_count": 5,
     "metadata": {},
     "output_type": "execute_result"
    }
   ],
   "source": [
    "#size of data\n",
    "data.shape"
   ]
  },
  {
   "cell_type": "code",
   "execution_count": 6,
   "id": "7a2a1b19",
   "metadata": {
    "execution": {
     "iopub.execute_input": "2023-03-09T09:37:35.876814Z",
     "iopub.status.busy": "2023-03-09T09:37:35.876543Z",
     "iopub.status.idle": "2023-03-09T09:37:35.884112Z",
     "shell.execute_reply": "2023-03-09T09:37:35.883256Z"
    },
    "papermill": {
     "duration": 0.017659,
     "end_time": "2023-03-09T09:37:35.886170",
     "exception": false,
     "start_time": "2023-03-09T09:37:35.868511",
     "status": "completed"
    },
    "tags": []
   },
   "outputs": [
    {
     "data": {
      "text/plain": [
       "Index(['review', 'sentiment'], dtype='object')"
      ]
     },
     "execution_count": 6,
     "metadata": {},
     "output_type": "execute_result"
    }
   ],
   "source": [
    "data.columns"
   ]
  },
  {
   "cell_type": "code",
   "execution_count": 7,
   "id": "312845a9",
   "metadata": {
    "execution": {
     "iopub.execute_input": "2023-03-09T09:37:35.901211Z",
     "iopub.status.busy": "2023-03-09T09:37:35.900952Z",
     "iopub.status.idle": "2023-03-09T09:37:35.927112Z",
     "shell.execute_reply": "2023-03-09T09:37:35.925856Z"
    },
    "papermill": {
     "duration": 0.037953,
     "end_time": "2023-03-09T09:37:35.931157",
     "exception": false,
     "start_time": "2023-03-09T09:37:35.893204",
     "status": "completed"
    },
    "tags": []
   },
   "outputs": [
    {
     "name": "stdout",
     "output_type": "stream",
     "text": [
      "<class 'pandas.core.frame.DataFrame'>\n",
      "RangeIndex: 50000 entries, 0 to 49999\n",
      "Data columns (total 2 columns):\n",
      " #   Column     Non-Null Count  Dtype \n",
      "---  ------     --------------  ----- \n",
      " 0   review     50000 non-null  object\n",
      " 1   sentiment  50000 non-null  object\n",
      "dtypes: object(2)\n",
      "memory usage: 781.4+ KB\n"
     ]
    }
   ],
   "source": [
    "#check null value \n",
    "data.info()"
   ]
  },
  {
   "cell_type": "code",
   "execution_count": 8,
   "id": "be45d451",
   "metadata": {
    "execution": {
     "iopub.execute_input": "2023-03-09T09:37:35.948025Z",
     "iopub.status.busy": "2023-03-09T09:37:35.947360Z",
     "iopub.status.idle": "2023-03-09T09:37:35.960342Z",
     "shell.execute_reply": "2023-03-09T09:37:35.959307Z"
    },
    "papermill": {
     "duration": 0.02312,
     "end_time": "2023-03-09T09:37:35.962423",
     "exception": false,
     "start_time": "2023-03-09T09:37:35.939303",
     "status": "completed"
    },
    "tags": []
   },
   "outputs": [
    {
     "data": {
      "text/html": [
       "<div>\n",
       "<style scoped>\n",
       "    .dataframe tbody tr th:only-of-type {\n",
       "        vertical-align: middle;\n",
       "    }\n",
       "\n",
       "    .dataframe tbody tr th {\n",
       "        vertical-align: top;\n",
       "    }\n",
       "\n",
       "    .dataframe thead th {\n",
       "        text-align: right;\n",
       "    }\n",
       "</style>\n",
       "<table border=\"1\" class=\"dataframe\">\n",
       "  <thead>\n",
       "    <tr style=\"text-align: right;\">\n",
       "      <th></th>\n",
       "      <th>review</th>\n",
       "      <th>sentiment</th>\n",
       "    </tr>\n",
       "  </thead>\n",
       "  <tbody>\n",
       "    <tr>\n",
       "      <th>0</th>\n",
       "      <td>One of the other reviewers has mentioned that ...</td>\n",
       "      <td>positive</td>\n",
       "    </tr>\n",
       "    <tr>\n",
       "      <th>1</th>\n",
       "      <td>A wonderful little production. &lt;br /&gt;&lt;br /&gt;The...</td>\n",
       "      <td>positive</td>\n",
       "    </tr>\n",
       "    <tr>\n",
       "      <th>2</th>\n",
       "      <td>I thought this was a wonderful way to spend ti...</td>\n",
       "      <td>positive</td>\n",
       "    </tr>\n",
       "    <tr>\n",
       "      <th>3</th>\n",
       "      <td>Basically there's a family where a little boy ...</td>\n",
       "      <td>negative</td>\n",
       "    </tr>\n",
       "    <tr>\n",
       "      <th>4</th>\n",
       "      <td>Petter Mattei's \"Love in the Time of Money\" is...</td>\n",
       "      <td>positive</td>\n",
       "    </tr>\n",
       "    <tr>\n",
       "      <th>5</th>\n",
       "      <td>Probably my all-time favorite movie, a story o...</td>\n",
       "      <td>positive</td>\n",
       "    </tr>\n",
       "    <tr>\n",
       "      <th>6</th>\n",
       "      <td>I sure would like to see a resurrection of a u...</td>\n",
       "      <td>positive</td>\n",
       "    </tr>\n",
       "    <tr>\n",
       "      <th>7</th>\n",
       "      <td>This show was an amazing, fresh &amp; innovative i...</td>\n",
       "      <td>negative</td>\n",
       "    </tr>\n",
       "    <tr>\n",
       "      <th>8</th>\n",
       "      <td>Encouraged by the positive comments about this...</td>\n",
       "      <td>negative</td>\n",
       "    </tr>\n",
       "    <tr>\n",
       "      <th>9</th>\n",
       "      <td>If you like original gut wrenching laughter yo...</td>\n",
       "      <td>positive</td>\n",
       "    </tr>\n",
       "  </tbody>\n",
       "</table>\n",
       "</div>"
      ],
      "text/plain": [
       "                                              review sentiment\n",
       "0  One of the other reviewers has mentioned that ...  positive\n",
       "1  A wonderful little production. <br /><br />The...  positive\n",
       "2  I thought this was a wonderful way to spend ti...  positive\n",
       "3  Basically there's a family where a little boy ...  negative\n",
       "4  Petter Mattei's \"Love in the Time of Money\" is...  positive\n",
       "5  Probably my all-time favorite movie, a story o...  positive\n",
       "6  I sure would like to see a resurrection of a u...  positive\n",
       "7  This show was an amazing, fresh & innovative i...  negative\n",
       "8  Encouraged by the positive comments about this...  negative\n",
       "9  If you like original gut wrenching laughter yo...  positive"
      ]
     },
     "execution_count": 8,
     "metadata": {},
     "output_type": "execute_result"
    }
   ],
   "source": [
    "data.head(10)"
   ]
  },
  {
   "cell_type": "code",
   "execution_count": 9,
   "id": "4125a6cc",
   "metadata": {
    "execution": {
     "iopub.execute_input": "2023-03-09T09:37:35.978725Z",
     "iopub.status.busy": "2023-03-09T09:37:35.977905Z",
     "iopub.status.idle": "2023-03-09T09:37:35.982903Z",
     "shell.execute_reply": "2023-03-09T09:37:35.981856Z"
    },
    "papermill": {
     "duration": 0.015347,
     "end_time": "2023-03-09T09:37:35.985025",
     "exception": false,
     "start_time": "2023-03-09T09:37:35.969678",
     "status": "completed"
    },
    "tags": []
   },
   "outputs": [],
   "source": [
    "df = data[0:5000]"
   ]
  },
  {
   "cell_type": "code",
   "execution_count": 10,
   "id": "4e1ac53c",
   "metadata": {
    "execution": {
     "iopub.execute_input": "2023-03-09T09:37:36.000516Z",
     "iopub.status.busy": "2023-03-09T09:37:36.000246Z",
     "iopub.status.idle": "2023-03-09T09:37:36.006196Z",
     "shell.execute_reply": "2023-03-09T09:37:36.005229Z"
    },
    "papermill": {
     "duration": 0.016151,
     "end_time": "2023-03-09T09:37:36.008439",
     "exception": false,
     "start_time": "2023-03-09T09:37:35.992288",
     "status": "completed"
    },
    "tags": []
   },
   "outputs": [
    {
     "data": {
      "text/plain": [
       "(5000, 2)"
      ]
     },
     "execution_count": 10,
     "metadata": {},
     "output_type": "execute_result"
    }
   ],
   "source": [
    "df.shape"
   ]
  },
  {
   "cell_type": "code",
   "execution_count": 11,
   "id": "785f707e",
   "metadata": {
    "execution": {
     "iopub.execute_input": "2023-03-09T09:37:36.024785Z",
     "iopub.status.busy": "2023-03-09T09:37:36.024521Z",
     "iopub.status.idle": "2023-03-09T09:37:36.030790Z",
     "shell.execute_reply": "2023-03-09T09:37:36.029814Z"
    },
    "papermill": {
     "duration": 0.016664,
     "end_time": "2023-03-09T09:37:36.032854",
     "exception": false,
     "start_time": "2023-03-09T09:37:36.016190",
     "status": "completed"
    },
    "tags": []
   },
   "outputs": [],
   "source": [
    "#filtering the text\n",
    "def full_form(text):\n",
    "    text = text.lower()\n",
    "    plain = re.sub(r'[<>?\\.,!\"(\\)\\/[\\]]', '', text)\n",
    "    plain = plain.replace(\"don't\", \"do not\")\n",
    "    plain = plain.replace(\"won't\", \"will not\")\n",
    "    plain = plain.replace(\"haven't\", \"have not\")\n",
    "    plain = plain.replace(\"can't\", \"cannot\")\n",
    "    plain = plain.replace(\"she's\", \"she is\")\n",
    "    plain = plain.replace(\"he's\", \"he is\")\n",
    "    plain = plain.replace(\"there're\", \"there are\")\n",
    "    plain = plain.replace(\"they'd\", \"they would\")\n",
    "    plain = plain.replace(\"\\'ll\", \" will\")\n",
    "    return plain              "
   ]
  },
  {
   "cell_type": "code",
   "execution_count": 12,
   "id": "e3d051a0",
   "metadata": {
    "execution": {
     "iopub.execute_input": "2023-03-09T09:37:36.048564Z",
     "iopub.status.busy": "2023-03-09T09:37:36.048288Z",
     "iopub.status.idle": "2023-03-09T09:37:36.052666Z",
     "shell.execute_reply": "2023-03-09T09:37:36.051637Z"
    },
    "papermill": {
     "duration": 0.014644,
     "end_time": "2023-03-09T09:37:36.054681",
     "exception": false,
     "start_time": "2023-03-09T09:37:36.040037",
     "status": "completed"
    },
    "tags": []
   },
   "outputs": [],
   "source": [
    "#initialize the stemmer and lemmentizer\n",
    "stemmer = PorterStemmer()\n",
    "lemmatizer = WordNetLemmatizer()"
   ]
  },
  {
   "cell_type": "code",
   "execution_count": 13,
   "id": "575551da",
   "metadata": {
    "execution": {
     "iopub.execute_input": "2023-03-09T09:37:36.070718Z",
     "iopub.status.busy": "2023-03-09T09:37:36.069948Z",
     "iopub.status.idle": "2023-03-09T09:37:36.076111Z",
     "shell.execute_reply": "2023-03-09T09:37:36.075258Z"
    },
    "papermill": {
     "duration": 0.016317,
     "end_time": "2023-03-09T09:37:36.078251",
     "exception": false,
     "start_time": "2023-03-09T09:37:36.061934",
     "status": "completed"
    },
    "tags": []
   },
   "outputs": [],
   "source": [
    "#preprocessing  text \n",
    "def remove_stop_words(data):\n",
    "  corpus = []\n",
    "  for i in range(0, len(data)):\n",
    "    #split the sentence\n",
    "    plain = full_form(data['review'][i])\n",
    "    sentence = plain.split()\n",
    "    \n",
    "    #check and stem the word\n",
    "    review_processed = [stemmer.stem(word) for word in sentence if not word in stopwords.words('english')]\n",
    "    #rebuild the sentence\n",
    "    review_joint = ' '.join(review_processed)\n",
    "    #add the sentence into list\n",
    "    corpus.append(review_joint)\n",
    "  return corpus"
   ]
  },
  {
   "cell_type": "code",
   "execution_count": 14,
   "id": "7e5353e4",
   "metadata": {
    "execution": {
     "iopub.execute_input": "2023-03-09T09:37:36.096889Z",
     "iopub.status.busy": "2023-03-09T09:37:36.095984Z",
     "iopub.status.idle": "2023-03-09T09:40:17.749971Z",
     "shell.execute_reply": "2023-03-09T09:40:17.748887Z"
    },
    "papermill": {
     "duration": 161.667295,
     "end_time": "2023-03-09T09:40:17.752765",
     "exception": false,
     "start_time": "2023-03-09T09:37:36.085470",
     "status": "completed"
    },
    "tags": []
   },
   "outputs": [],
   "source": [
    "review_processed = remove_stop_words(df)"
   ]
  },
  {
   "cell_type": "code",
   "execution_count": 15,
   "id": "6237e806",
   "metadata": {
    "execution": {
     "iopub.execute_input": "2023-03-09T09:40:17.770234Z",
     "iopub.status.busy": "2023-03-09T09:40:17.769266Z",
     "iopub.status.idle": "2023-03-09T09:40:17.774273Z",
     "shell.execute_reply": "2023-03-09T09:40:17.773275Z"
    },
    "papermill": {
     "duration": 0.015696,
     "end_time": "2023-03-09T09:40:17.776365",
     "exception": false,
     "start_time": "2023-03-09T09:40:17.760669",
     "status": "completed"
    },
    "tags": []
   },
   "outputs": [],
   "source": [
    "#vocabular size\n",
    "voc_size = 5000"
   ]
  },
  {
   "cell_type": "code",
   "execution_count": 16,
   "id": "9d15a755",
   "metadata": {
    "execution": {
     "iopub.execute_input": "2023-03-09T09:40:17.792286Z",
     "iopub.status.busy": "2023-03-09T09:40:17.791985Z",
     "iopub.status.idle": "2023-03-09T09:40:18.135143Z",
     "shell.execute_reply": "2023-03-09T09:40:18.134142Z"
    },
    "papermill": {
     "duration": 0.354046,
     "end_time": "2023-03-09T09:40:18.137713",
     "exception": false,
     "start_time": "2023-03-09T09:40:17.783667",
     "status": "completed"
    },
    "tags": []
   },
   "outputs": [],
   "source": [
    "#convert into one hot vector\n",
    "onehot_text = [one_hot(word, voc_size) for word in review_processed]"
   ]
  },
  {
   "cell_type": "code",
   "execution_count": 17,
   "id": "863b3504",
   "metadata": {
    "execution": {
     "iopub.execute_input": "2023-03-09T09:40:18.154211Z",
     "iopub.status.busy": "2023-03-09T09:40:18.153888Z",
     "iopub.status.idle": "2023-03-09T09:40:18.160015Z",
     "shell.execute_reply": "2023-03-09T09:40:18.159059Z"
    },
    "papermill": {
     "duration": 0.016581,
     "end_time": "2023-03-09T09:40:18.162013",
     "exception": false,
     "start_time": "2023-03-09T09:40:18.145432",
     "status": "completed"
    },
    "tags": []
   },
   "outputs": [
    {
     "data": {
      "text/plain": [
       "79"
      ]
     },
     "execution_count": 17,
     "metadata": {},
     "output_type": "execute_result"
    }
   ],
   "source": [
    "len(onehot_text[100])"
   ]
  },
  {
   "cell_type": "code",
   "execution_count": 18,
   "id": "b1ccf4a7",
   "metadata": {
    "execution": {
     "iopub.execute_input": "2023-03-09T09:40:18.178239Z",
     "iopub.status.busy": "2023-03-09T09:40:18.177960Z",
     "iopub.status.idle": "2023-03-09T09:40:18.219410Z",
     "shell.execute_reply": "2023-03-09T09:40:18.218503Z"
    },
    "papermill": {
     "duration": 0.052216,
     "end_time": "2023-03-09T09:40:18.221533",
     "exception": false,
     "start_time": "2023-03-09T09:40:18.169317",
     "status": "completed"
    },
    "tags": []
   },
   "outputs": [],
   "source": [
    "#y train data\n",
    "y = df['sentiment']\n",
    "onehot_y = [one_hot(char,3) for char in y]"
   ]
  },
  {
   "cell_type": "code",
   "execution_count": 19,
   "id": "4b315985",
   "metadata": {
    "execution": {
     "iopub.execute_input": "2023-03-09T09:40:18.237992Z",
     "iopub.status.busy": "2023-03-09T09:40:18.237736Z",
     "iopub.status.idle": "2023-03-09T09:40:18.243703Z",
     "shell.execute_reply": "2023-03-09T09:40:18.242752Z"
    },
    "papermill": {
     "duration": 0.016735,
     "end_time": "2023-03-09T09:40:18.245729",
     "exception": false,
     "start_time": "2023-03-09T09:40:18.228994",
     "status": "completed"
    },
    "tags": []
   },
   "outputs": [
    {
     "data": {
      "text/plain": [
       "[[1], [1], [1], [1], [1], [1], [1], [1], [1], [1]]"
      ]
     },
     "execution_count": 19,
     "metadata": {},
     "output_type": "execute_result"
    }
   ],
   "source": [
    "onehot_y[0:10]"
   ]
  },
  {
   "cell_type": "markdown",
   "id": "c904ea91",
   "metadata": {
    "papermill": {
     "duration": 0.007612,
     "end_time": "2023-03-09T09:40:18.261104",
     "exception": false,
     "start_time": "2023-03-09T09:40:18.253492",
     "status": "completed"
    },
    "tags": []
   },
   "source": [
    "# Embedding"
   ]
  },
  {
   "cell_type": "code",
   "execution_count": 20,
   "id": "4177dc82",
   "metadata": {
    "execution": {
     "iopub.execute_input": "2023-03-09T09:40:18.278277Z",
     "iopub.status.busy": "2023-03-09T09:40:18.277501Z",
     "iopub.status.idle": "2023-03-09T09:40:18.282040Z",
     "shell.execute_reply": "2023-03-09T09:40:18.281069Z"
    },
    "papermill": {
     "duration": 0.015452,
     "end_time": "2023-03-09T09:40:18.284382",
     "exception": false,
     "start_time": "2023-03-09T09:40:18.268930",
     "status": "completed"
    },
    "tags": []
   },
   "outputs": [],
   "source": [
    "sent_length = 200"
   ]
  },
  {
   "cell_type": "code",
   "execution_count": 21,
   "id": "f286a8e6",
   "metadata": {
    "execution": {
     "iopub.execute_input": "2023-03-09T09:40:18.301394Z",
     "iopub.status.busy": "2023-03-09T09:40:18.300688Z",
     "iopub.status.idle": "2023-03-09T09:40:18.344684Z",
     "shell.execute_reply": "2023-03-09T09:40:18.343727Z"
    },
    "papermill": {
     "duration": 0.054767,
     "end_time": "2023-03-09T09:40:18.346882",
     "exception": false,
     "start_time": "2023-03-09T09:40:18.292115",
     "status": "completed"
    },
    "tags": []
   },
   "outputs": [],
   "source": [
    "#embedding\n",
    "embedd_docs = pad_sequences(onehot_text, padding='post', maxlen=sent_length)"
   ]
  },
  {
   "cell_type": "code",
   "execution_count": 22,
   "id": "580a81b7",
   "metadata": {
    "execution": {
     "iopub.execute_input": "2023-03-09T09:40:18.363204Z",
     "iopub.status.busy": "2023-03-09T09:40:18.362947Z",
     "iopub.status.idle": "2023-03-09T09:40:18.369143Z",
     "shell.execute_reply": "2023-03-09T09:40:18.368190Z"
    },
    "papermill": {
     "duration": 0.016625,
     "end_time": "2023-03-09T09:40:18.371096",
     "exception": false,
     "start_time": "2023-03-09T09:40:18.354471",
     "status": "completed"
    },
    "tags": []
   },
   "outputs": [
    {
     "data": {
      "text/plain": [
       "(165, 165)"
      ]
     },
     "execution_count": 22,
     "metadata": {},
     "output_type": "execute_result"
    }
   ],
   "source": [
    "len(review_processed[0].split()), len(onehot_text[0])"
   ]
  },
  {
   "cell_type": "code",
   "execution_count": 23,
   "id": "54673845",
   "metadata": {
    "execution": {
     "iopub.execute_input": "2023-03-09T09:40:18.388421Z",
     "iopub.status.busy": "2023-03-09T09:40:18.387607Z",
     "iopub.status.idle": "2023-03-09T09:40:18.395856Z",
     "shell.execute_reply": "2023-03-09T09:40:18.394833Z"
    },
    "papermill": {
     "duration": 0.019087,
     "end_time": "2023-03-09T09:40:18.397933",
     "exception": false,
     "start_time": "2023-03-09T09:40:18.378846",
     "status": "completed"
    },
    "tags": []
   },
   "outputs": [
    {
     "data": {
      "text/plain": [
       "array([1788,  560, 2816, 4662, 4197, 1568, 4573, 2218,  265, 1887,  439,\n",
       "       4223,  581,  417, 3065, 3987, 1568,  719, 1280, 1692, 4202, 4010,\n",
       "        265,  443, 2704, 1836, 1914, 2274, 3269,  101, 1914, 3162, 2479,\n",
       "       2503, 4781, 1348, 4202, 4204, 3440, 1031, 1591,  581, 4853, 1568,\n",
       "       2797, 2173,  670, 2611, 3398, 1595, 2270, 2009, 4605, 4951, 2254,\n",
       "       1464, 3118, 1350, 3872, 1033, 3515,  433, 4476, 2842, 2895, 1138,\n",
       "       4194, 2254,  903, 2183, 3909, 4027, 4390, 2955, 3190,  748, 1058,\n",
       "       1218, 1489, 2987, 1154, 3349, 3735, 3043,  311, 1942, 3664,  581,\n",
       "        234, 4966, 1857, 3132, 1914, 3896, 3543, 1214, 1914,   28, 2155,\n",
       "       3236, 3987, 1334, 1766, 3893, 2155,  340, 2155, 2772, 3691,  476,\n",
       "        417, 4573, 2282, 2384, 3987, 1326,  769, 4966, 3710, 4662, 2207,\n",
       "       2189, 1568, 2379, 3754, 2895,  291, 4066, 4202, 4202, 3122, 4887,\n",
       "       4607,  111, 4565,  364,  925, 2183,  653, 3488, 3692, 2338,  199,\n",
       "       3820,  364, 1208, 1350, 3787, 3896, 3165, 2003,  332, 1350, 2814,\n",
       "       4662, 1568,  641,  149, 3327, 4219,    5,  653, 4330, 3341,  940,\n",
       "          0,    0,    0,    0,    0,    0,    0,    0,    0,    0,    0,\n",
       "          0,    0,    0,    0,    0,    0,    0,    0,    0,    0,    0,\n",
       "          0,    0,    0,    0,    0,    0,    0,    0,    0,    0,    0,\n",
       "          0,    0], dtype=int32)"
      ]
     },
     "execution_count": 23,
     "metadata": {},
     "output_type": "execute_result"
    }
   ],
   "source": [
    "embedd_docs[0]"
   ]
  },
  {
   "cell_type": "code",
   "execution_count": 24,
   "id": "5bd53845",
   "metadata": {
    "execution": {
     "iopub.execute_input": "2023-03-09T09:40:18.415277Z",
     "iopub.status.busy": "2023-03-09T09:40:18.414396Z",
     "iopub.status.idle": "2023-03-09T09:40:18.421027Z",
     "shell.execute_reply": "2023-03-09T09:40:18.420015Z"
    },
    "papermill": {
     "duration": 0.017614,
     "end_time": "2023-03-09T09:40:18.423166",
     "exception": false,
     "start_time": "2023-03-09T09:40:18.405552",
     "status": "completed"
    },
    "tags": []
   },
   "outputs": [
    {
     "data": {
      "text/plain": [
       "(5000, 5000)"
      ]
     },
     "execution_count": 24,
     "metadata": {},
     "output_type": "execute_result"
    }
   ],
   "source": [
    "#shape of data\n",
    "len(embedd_docs), len(onehot_y)"
   ]
  },
  {
   "cell_type": "code",
   "execution_count": 25,
   "id": "cf515770",
   "metadata": {
    "execution": {
     "iopub.execute_input": "2023-03-09T09:40:18.440168Z",
     "iopub.status.busy": "2023-03-09T09:40:18.439409Z",
     "iopub.status.idle": "2023-03-09T09:40:18.449100Z",
     "shell.execute_reply": "2023-03-09T09:40:18.448260Z"
    },
    "papermill": {
     "duration": 0.020368,
     "end_time": "2023-03-09T09:40:18.451151",
     "exception": false,
     "start_time": "2023-03-09T09:40:18.430783",
     "status": "completed"
    },
    "tags": []
   },
   "outputs": [],
   "source": [
    "#convert into numpy array\n",
    "X_data = np.array(embedd_docs)\n",
    "y_data = np.array(onehot_y)\n",
    "#y_data = np.squeeze(y_data)"
   ]
  },
  {
   "cell_type": "code",
   "execution_count": 26,
   "id": "108f9a1b",
   "metadata": {
    "execution": {
     "iopub.execute_input": "2023-03-09T09:40:18.467600Z",
     "iopub.status.busy": "2023-03-09T09:40:18.467342Z",
     "iopub.status.idle": "2023-03-09T09:40:18.473236Z",
     "shell.execute_reply": "2023-03-09T09:40:18.472283Z"
    },
    "papermill": {
     "duration": 0.016378,
     "end_time": "2023-03-09T09:40:18.475192",
     "exception": false,
     "start_time": "2023-03-09T09:40:18.458814",
     "status": "completed"
    },
    "tags": []
   },
   "outputs": [
    {
     "data": {
      "text/plain": [
       "((5000, 200), (5000, 1))"
      ]
     },
     "execution_count": 26,
     "metadata": {},
     "output_type": "execute_result"
    }
   ],
   "source": [
    "X_data.shape, y_data.shape"
   ]
  },
  {
   "cell_type": "code",
   "execution_count": 27,
   "id": "54cbd483",
   "metadata": {
    "execution": {
     "iopub.execute_input": "2023-03-09T09:40:18.492609Z",
     "iopub.status.busy": "2023-03-09T09:40:18.491830Z",
     "iopub.status.idle": "2023-03-09T09:40:18.501565Z",
     "shell.execute_reply": "2023-03-09T09:40:18.500707Z"
    },
    "papermill": {
     "duration": 0.020458,
     "end_time": "2023-03-09T09:40:18.503623",
     "exception": false,
     "start_time": "2023-03-09T09:40:18.483165",
     "status": "completed"
    },
    "tags": []
   },
   "outputs": [],
   "source": [
    "#split dataset for training and testing\n",
    "X_train, X_test, y_train, y_test = train_test_split(X_data, y_data, test_size=0.3, random_state=42)"
   ]
  },
  {
   "cell_type": "code",
   "execution_count": 28,
   "id": "0b5fdd17",
   "metadata": {
    "execution": {
     "iopub.execute_input": "2023-03-09T09:40:18.520664Z",
     "iopub.status.busy": "2023-03-09T09:40:18.520149Z",
     "iopub.status.idle": "2023-03-09T09:40:18.525220Z",
     "shell.execute_reply": "2023-03-09T09:40:18.524253Z"
    },
    "papermill": {
     "duration": 0.016735,
     "end_time": "2023-03-09T09:40:18.528206",
     "exception": false,
     "start_time": "2023-03-09T09:40:18.511471",
     "status": "completed"
    },
    "tags": []
   },
   "outputs": [
    {
     "name": "stdout",
     "output_type": "stream",
     "text": [
      "training: (3500, 200) - (3500, 1)\n",
      "testing: (1500, 200) - (1500, 1)\n"
     ]
    }
   ],
   "source": [
    "print(f'training: {X_train.shape} - {y_train.shape}')\n",
    "print(f'testing: {X_test.shape} - {y_test.shape}')"
   ]
  },
  {
   "cell_type": "code",
   "execution_count": 29,
   "id": "6337ca59",
   "metadata": {
    "execution": {
     "iopub.execute_input": "2023-03-09T09:40:18.546293Z",
     "iopub.status.busy": "2023-03-09T09:40:18.545485Z",
     "iopub.status.idle": "2023-03-09T09:40:18.552066Z",
     "shell.execute_reply": "2023-03-09T09:40:18.551029Z"
    },
    "papermill": {
     "duration": 0.017386,
     "end_time": "2023-03-09T09:40:18.554156",
     "exception": false,
     "start_time": "2023-03-09T09:40:18.536770",
     "status": "completed"
    },
    "tags": []
   },
   "outputs": [
    {
     "data": {
      "text/plain": [
       "array([[1],\n",
       "       [1],\n",
       "       [1],\n",
       "       ...,\n",
       "       [1],\n",
       "       [1],\n",
       "       [1]])"
      ]
     },
     "execution_count": 29,
     "metadata": {},
     "output_type": "execute_result"
    }
   ],
   "source": [
    "y_train"
   ]
  },
  {
   "cell_type": "markdown",
   "id": "a9f6fffb",
   "metadata": {
    "papermill": {
     "duration": 0.007737,
     "end_time": "2023-03-09T09:40:18.569864",
     "exception": false,
     "start_time": "2023-03-09T09:40:18.562127",
     "status": "completed"
    },
    "tags": []
   },
   "source": [
    "# Model"
   ]
  },
  {
   "cell_type": "code",
   "execution_count": 30,
   "id": "9d381995",
   "metadata": {
    "execution": {
     "iopub.execute_input": "2023-03-09T09:40:18.587344Z",
     "iopub.status.busy": "2023-03-09T09:40:18.586511Z",
     "iopub.status.idle": "2023-03-09T09:40:22.369169Z",
     "shell.execute_reply": "2023-03-09T09:40:22.368326Z"
    },
    "papermill": {
     "duration": 3.804769,
     "end_time": "2023-03-09T09:40:22.382507",
     "exception": false,
     "start_time": "2023-03-09T09:40:18.577738",
     "status": "completed"
    },
    "tags": []
   },
   "outputs": [
    {
     "name": "stdout",
     "output_type": "stream",
     "text": [
      "Model: \"sequential\"\n",
      "_________________________________________________________________\n",
      " Layer (type)                Output Shape              Param #   \n",
      "=================================================================\n",
      " embedding (Embedding)       (None, 200, 40)           200000    \n",
      "                                                                 \n",
      " lstm (LSTM)                 (None, 200, 512)          1132544   \n",
      "                                                                 \n",
      " dense (Dense)               (None, 200, 16)           8208      \n",
      "                                                                 \n",
      " dense_1 (Dense)             (None, 200, 16)           272       \n",
      "                                                                 \n",
      " dense_2 (Dense)             (None, 200, 8)            136       \n",
      "                                                                 \n",
      " dense_3 (Dense)             (None, 200, 1)            9         \n",
      "                                                                 \n",
      "=================================================================\n",
      "Total params: 1,341,169\n",
      "Trainable params: 1,341,169\n",
      "Non-trainable params: 0\n",
      "_________________________________________________________________\n"
     ]
    }
   ],
   "source": [
    "#embed vector that represents each token by 40 featured vector\n",
    "embed_vect = 40\n",
    "model = Sequential()\n",
    "model.add(Embedding(voc_size, embed_vect, input_length=sent_length))\n",
    "model.add(LSTM(512, return_sequences=True, input_shape=(200,1)))\n",
    "#model.add(LSTM(512, return_sequences=True))\n",
    "model.add(Dense(units=16, activation='relu', input_dim=X_train.shape[1]))\n",
    "model.add(Dense(units=16, activation='relu'))\n",
    "model.add(Dense(units=8, activation='relu'))\n",
    "model.add(Dense(units=1,activation='sigmoid'))\n",
    "model.compile(loss='binary_crossentropy', optimizer='rmsprop', metrics=['accuracy'])\n",
    "model.summary()"
   ]
  },
  {
   "cell_type": "code",
   "execution_count": 31,
   "id": "3b4972ee",
   "metadata": {
    "execution": {
     "iopub.execute_input": "2023-03-09T09:40:22.402269Z",
     "iopub.status.busy": "2023-03-09T09:40:22.401957Z",
     "iopub.status.idle": "2023-03-09T09:42:43.632142Z",
     "shell.execute_reply": "2023-03-09T09:42:43.631133Z"
    },
    "papermill": {
     "duration": 141.242588,
     "end_time": "2023-03-09T09:42:43.634461",
     "exception": false,
     "start_time": "2023-03-09T09:40:22.391873",
     "status": "completed"
    },
    "tags": []
   },
   "outputs": [
    {
     "name": "stdout",
     "output_type": "stream",
     "text": [
      "Epoch 1/10\n",
      "219/219 [==============================] - 40s 147ms/step - loss: 0.0224 - accuracy: 0.9978 - val_loss: 3.5022e-04 - val_accuracy: 1.0000\n",
      "Epoch 2/10\n",
      "219/219 [==============================] - 19s 89ms/step - loss: 1.2001e-04 - accuracy: 1.0000 - val_loss: 3.8918e-05 - val_accuracy: 1.0000\n",
      "Epoch 3/10\n",
      "219/219 [==============================] - 14s 65ms/step - loss: 2.4152e-05 - accuracy: 1.0000 - val_loss: 1.5379e-05 - val_accuracy: 1.0000\n",
      "Epoch 4/10\n",
      "219/219 [==============================] - 11s 52ms/step - loss: 1.1633e-05 - accuracy: 1.0000 - val_loss: 8.9038e-06 - val_accuracy: 1.0000\n",
      "Epoch 5/10\n",
      "219/219 [==============================] - 11s 50ms/step - loss: 7.3266e-06 - accuracy: 1.0000 - val_loss: 6.0690e-06 - val_accuracy: 1.0000\n",
      "Epoch 6/10\n",
      "219/219 [==============================] - 9s 42ms/step - loss: 5.2270e-06 - accuracy: 1.0000 - val_loss: 4.5225e-06 - val_accuracy: 1.0000\n",
      "Epoch 7/10\n",
      "219/219 [==============================] - 9s 42ms/step - loss: 4.0075e-06 - accuracy: 1.0000 - val_loss: 3.5640e-06 - val_accuracy: 1.0000\n",
      "Epoch 8/10\n",
      "219/219 [==============================] - 9s 40ms/step - loss: 3.2200e-06 - accuracy: 1.0000 - val_loss: 2.9182e-06 - val_accuracy: 1.0000\n",
      "Epoch 9/10\n",
      "219/219 [==============================] - 9s 40ms/step - loss: 2.6739e-06 - accuracy: 1.0000 - val_loss: 2.4568e-06 - val_accuracy: 1.0000\n",
      "Epoch 10/10\n",
      "219/219 [==============================] - 9s 41ms/step - loss: 2.2752e-06 - accuracy: 1.0000 - val_loss: 2.1125e-06 - val_accuracy: 1.0000\n"
     ]
    },
    {
     "data": {
      "text/plain": [
       "<keras.callbacks.History at 0x7f529c102d90>"
      ]
     },
     "execution_count": 31,
     "metadata": {},
     "output_type": "execute_result"
    }
   ],
   "source": [
    "model.fit(X_train, y_train, validation_data=(X_test, y_test), epochs=10, batch_size=16)"
   ]
  },
  {
   "cell_type": "code",
   "execution_count": 32,
   "id": "45de7b94",
   "metadata": {
    "execution": {
     "iopub.execute_input": "2023-03-09T09:42:43.788336Z",
     "iopub.status.busy": "2023-03-09T09:42:43.787963Z",
     "iopub.status.idle": "2023-03-09T09:42:44.476128Z",
     "shell.execute_reply": "2023-03-09T09:42:44.475099Z"
    },
    "papermill": {
     "duration": 0.766414,
     "end_time": "2023-03-09T09:42:44.478359",
     "exception": false,
     "start_time": "2023-03-09T09:42:43.711945",
     "status": "completed"
    },
    "tags": []
   },
   "outputs": [
    {
     "name": "stdout",
     "output_type": "stream",
     "text": [
      "47/47 [==============================] - 1s 13ms/step - loss: 2.1125e-06 - accuracy: 1.0000\n"
     ]
    },
    {
     "data": {
      "text/plain": [
       "[2.1124612885614624e-06, 1.0]"
      ]
     },
     "execution_count": 32,
     "metadata": {},
     "output_type": "execute_result"
    }
   ],
   "source": [
    "model.evaluate(X_test, y_test)"
   ]
  },
  {
   "cell_type": "code",
   "execution_count": null,
   "id": "4e4bd26a",
   "metadata": {
    "papermill": {
     "duration": 0.078357,
     "end_time": "2023-03-09T09:42:44.632762",
     "exception": false,
     "start_time": "2023-03-09T09:42:44.554405",
     "status": "completed"
    },
    "tags": []
   },
   "outputs": [],
   "source": []
  }
 ],
 "metadata": {
  "kernelspec": {
   "display_name": "Python 3",
   "language": "python",
   "name": "python3"
  },
  "language_info": {
   "codemirror_mode": {
    "name": "ipython",
    "version": 3
   },
   "file_extension": ".py",
   "mimetype": "text/x-python",
   "name": "python",
   "nbconvert_exporter": "python",
   "pygments_lexer": "ipython3",
   "version": "3.7.12"
  },
  "papermill": {
   "default_parameters": {},
   "duration": 329.878614,
   "end_time": "2023-03-09T09:42:47.996973",
   "environment_variables": {},
   "exception": null,
   "input_path": "__notebook__.ipynb",
   "output_path": "__notebook__.ipynb",
   "parameters": {},
   "start_time": "2023-03-09T09:37:18.118359",
   "version": "2.4.0"
  }
 },
 "nbformat": 4,
 "nbformat_minor": 5
}
