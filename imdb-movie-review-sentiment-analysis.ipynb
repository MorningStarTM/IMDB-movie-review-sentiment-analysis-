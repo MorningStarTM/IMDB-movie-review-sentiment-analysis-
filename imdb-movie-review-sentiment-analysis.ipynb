{
 "cells": [
  {
   "cell_type": "code",
   "execution_count": 1,
   "metadata": {
    "execution": {
     "iopub.execute_input": "2023-03-13T11:20:08.132169Z",
     "iopub.status.busy": "2023-03-13T11:20:08.131746Z",
     "iopub.status.idle": "2023-03-13T11:20:08.138956Z",
     "shell.execute_reply": "2023-03-13T11:20:08.137924Z",
     "shell.execute_reply.started": "2023-03-13T11:20:08.132134Z"
    }
   },
   "outputs": [],
   "source": [
    "import pandas as pd\n",
    "import numpy as np\n",
    "import re\n",
    "import spacy\n",
    "import tensorflow as tf\n",
    "from tensorflow.keras.layers import LSTM, Dense, Embedding\n",
    "from tensorflow.keras.layers import ReLU\n",
    "from tensorflow.keras.preprocessing.sequence import pad_sequences\n",
    "from tensorflow.keras.preprocessing.text import one_hot\n",
    "from tensorflow.keras.models import Model, Sequential\n",
    "from sklearn.model_selection import train_test_split\n",
    "from sklearn.metrics import confusion_matrix\n",
    "from sklearn.metrics import accuracy_score"
   ]
  },
  {
   "cell_type": "code",
   "execution_count": 2,
   "metadata": {
    "execution": {
     "iopub.execute_input": "2023-03-13T10:38:05.112126Z",
     "iopub.status.busy": "2023-03-13T10:38:05.111724Z",
     "iopub.status.idle": "2023-03-13T10:38:06.530795Z",
     "shell.execute_reply": "2023-03-13T10:38:06.528096Z",
     "shell.execute_reply.started": "2023-03-13T10:38:05.112092Z"
    }
   },
   "outputs": [],
   "source": [
    "#read data\n",
    "data = pd.read_csv(\"./data/IMDB Dataset.csv\")"
   ]
  },
  {
   "cell_type": "code",
   "execution_count": 3,
   "metadata": {
    "execution": {
     "iopub.execute_input": "2023-03-13T10:38:06.533039Z",
     "iopub.status.busy": "2023-03-13T10:38:06.532685Z",
     "iopub.status.idle": "2023-03-13T10:38:06.548791Z",
     "shell.execute_reply": "2023-03-13T10:38:06.547282Z",
     "shell.execute_reply.started": "2023-03-13T10:38:06.533003Z"
    }
   },
   "outputs": [
    {
     "data": {
      "text/plain": [
       "(50000, 2)"
      ]
     },
     "execution_count": 3,
     "metadata": {},
     "output_type": "execute_result"
    }
   ],
   "source": [
    "#size of data\n",
    "data.shape"
   ]
  },
  {
   "cell_type": "code",
   "execution_count": 4,
   "metadata": {
    "execution": {
     "iopub.execute_input": "2023-03-13T10:38:07.459056Z",
     "iopub.status.busy": "2023-03-13T10:38:07.458683Z",
     "iopub.status.idle": "2023-03-13T10:38:07.466539Z",
     "shell.execute_reply": "2023-03-13T10:38:07.465521Z",
     "shell.execute_reply.started": "2023-03-13T10:38:07.459020Z"
    }
   },
   "outputs": [
    {
     "data": {
      "text/plain": [
       "Index(['review', 'sentiment'], dtype='object')"
      ]
     },
     "execution_count": 4,
     "metadata": {},
     "output_type": "execute_result"
    }
   ],
   "source": [
    "data.columns"
   ]
  },
  {
   "cell_type": "code",
   "execution_count": 5,
   "metadata": {
    "execution": {
     "iopub.execute_input": "2023-03-13T10:38:10.164799Z",
     "iopub.status.busy": "2023-03-13T10:38:10.163860Z",
     "iopub.status.idle": "2023-03-13T10:38:10.202187Z",
     "shell.execute_reply": "2023-03-13T10:38:10.200742Z",
     "shell.execute_reply.started": "2023-03-13T10:38:10.164750Z"
    }
   },
   "outputs": [
    {
     "name": "stdout",
     "output_type": "stream",
     "text": [
      "<class 'pandas.core.frame.DataFrame'>\n",
      "RangeIndex: 50000 entries, 0 to 49999\n",
      "Data columns (total 2 columns):\n",
      " #   Column     Non-Null Count  Dtype \n",
      "---  ------     --------------  ----- \n",
      " 0   review     50000 non-null  object\n",
      " 1   sentiment  50000 non-null  object\n",
      "dtypes: object(2)\n",
      "memory usage: 781.4+ KB\n"
     ]
    }
   ],
   "source": [
    "#check null value \n",
    "data.info()"
   ]
  },
  {
   "cell_type": "code",
   "execution_count": 6,
   "metadata": {
    "execution": {
     "iopub.execute_input": "2023-03-13T10:38:10.260910Z",
     "iopub.status.busy": "2023-03-13T10:38:10.260247Z",
     "iopub.status.idle": "2023-03-13T10:38:10.274602Z",
     "shell.execute_reply": "2023-03-13T10:38:10.273566Z",
     "shell.execute_reply.started": "2023-03-13T10:38:10.260879Z"
    }
   },
   "outputs": [
    {
     "data": {
      "text/html": [
       "<div>\n",
       "<style scoped>\n",
       "    .dataframe tbody tr th:only-of-type {\n",
       "        vertical-align: middle;\n",
       "    }\n",
       "\n",
       "    .dataframe tbody tr th {\n",
       "        vertical-align: top;\n",
       "    }\n",
       "\n",
       "    .dataframe thead th {\n",
       "        text-align: right;\n",
       "    }\n",
       "</style>\n",
       "<table border=\"1\" class=\"dataframe\">\n",
       "  <thead>\n",
       "    <tr style=\"text-align: right;\">\n",
       "      <th></th>\n",
       "      <th>review</th>\n",
       "      <th>sentiment</th>\n",
       "    </tr>\n",
       "  </thead>\n",
       "  <tbody>\n",
       "    <tr>\n",
       "      <th>0</th>\n",
       "      <td>One of the other reviewers has mentioned that ...</td>\n",
       "      <td>positive</td>\n",
       "    </tr>\n",
       "    <tr>\n",
       "      <th>1</th>\n",
       "      <td>A wonderful little production. &lt;br /&gt;&lt;br /&gt;The...</td>\n",
       "      <td>positive</td>\n",
       "    </tr>\n",
       "    <tr>\n",
       "      <th>2</th>\n",
       "      <td>I thought this was a wonderful way to spend ti...</td>\n",
       "      <td>positive</td>\n",
       "    </tr>\n",
       "    <tr>\n",
       "      <th>3</th>\n",
       "      <td>Basically there's a family where a little boy ...</td>\n",
       "      <td>negative</td>\n",
       "    </tr>\n",
       "    <tr>\n",
       "      <th>4</th>\n",
       "      <td>Petter Mattei's \"Love in the Time of Money\" is...</td>\n",
       "      <td>positive</td>\n",
       "    </tr>\n",
       "    <tr>\n",
       "      <th>5</th>\n",
       "      <td>Probably my all-time favorite movie, a story o...</td>\n",
       "      <td>positive</td>\n",
       "    </tr>\n",
       "    <tr>\n",
       "      <th>6</th>\n",
       "      <td>I sure would like to see a resurrection of a u...</td>\n",
       "      <td>positive</td>\n",
       "    </tr>\n",
       "    <tr>\n",
       "      <th>7</th>\n",
       "      <td>This show was an amazing, fresh &amp; innovative i...</td>\n",
       "      <td>negative</td>\n",
       "    </tr>\n",
       "    <tr>\n",
       "      <th>8</th>\n",
       "      <td>Encouraged by the positive comments about this...</td>\n",
       "      <td>negative</td>\n",
       "    </tr>\n",
       "    <tr>\n",
       "      <th>9</th>\n",
       "      <td>If you like original gut wrenching laughter yo...</td>\n",
       "      <td>positive</td>\n",
       "    </tr>\n",
       "  </tbody>\n",
       "</table>\n",
       "</div>"
      ],
      "text/plain": [
       "                                              review sentiment\n",
       "0  One of the other reviewers has mentioned that ...  positive\n",
       "1  A wonderful little production. <br /><br />The...  positive\n",
       "2  I thought this was a wonderful way to spend ti...  positive\n",
       "3  Basically there's a family where a little boy ...  negative\n",
       "4  Petter Mattei's \"Love in the Time of Money\" is...  positive\n",
       "5  Probably my all-time favorite movie, a story o...  positive\n",
       "6  I sure would like to see a resurrection of a u...  positive\n",
       "7  This show was an amazing, fresh & innovative i...  negative\n",
       "8  Encouraged by the positive comments about this...  negative\n",
       "9  If you like original gut wrenching laughter yo...  positive"
      ]
     },
     "execution_count": 6,
     "metadata": {},
     "output_type": "execute_result"
    }
   ],
   "source": [
    "data.head(10)"
   ]
  },
  {
   "cell_type": "code",
   "execution_count": 7,
   "metadata": {
    "execution": {
     "iopub.execute_input": "2023-03-13T10:38:48.559960Z",
     "iopub.status.busy": "2023-03-13T10:38:48.559036Z",
     "iopub.status.idle": "2023-03-13T10:38:48.583928Z",
     "shell.execute_reply": "2023-03-13T10:38:48.582989Z",
     "shell.execute_reply.started": "2023-03-13T10:38:48.559909Z"
    }
   },
   "outputs": [],
   "source": [
    "data['sent_bin'] = data['sentiment'].replace({'positive': 1, 'negative': 0})"
   ]
  },
  {
   "cell_type": "code",
   "execution_count": 8,
   "metadata": {
    "execution": {
     "iopub.execute_input": "2023-03-13T10:39:03.379782Z",
     "iopub.status.busy": "2023-03-13T10:39:03.378822Z",
     "iopub.status.idle": "2023-03-13T10:39:03.390965Z",
     "shell.execute_reply": "2023-03-13T10:39:03.389682Z",
     "shell.execute_reply.started": "2023-03-13T10:39:03.379729Z"
    }
   },
   "outputs": [
    {
     "data": {
      "text/html": [
       "<div>\n",
       "<style scoped>\n",
       "    .dataframe tbody tr th:only-of-type {\n",
       "        vertical-align: middle;\n",
       "    }\n",
       "\n",
       "    .dataframe tbody tr th {\n",
       "        vertical-align: top;\n",
       "    }\n",
       "\n",
       "    .dataframe thead th {\n",
       "        text-align: right;\n",
       "    }\n",
       "</style>\n",
       "<table border=\"1\" class=\"dataframe\">\n",
       "  <thead>\n",
       "    <tr style=\"text-align: right;\">\n",
       "      <th></th>\n",
       "      <th>review</th>\n",
       "      <th>sentiment</th>\n",
       "      <th>sent_bin</th>\n",
       "    </tr>\n",
       "  </thead>\n",
       "  <tbody>\n",
       "    <tr>\n",
       "      <th>0</th>\n",
       "      <td>One of the other reviewers has mentioned that ...</td>\n",
       "      <td>positive</td>\n",
       "      <td>1</td>\n",
       "    </tr>\n",
       "    <tr>\n",
       "      <th>1</th>\n",
       "      <td>A wonderful little production. &lt;br /&gt;&lt;br /&gt;The...</td>\n",
       "      <td>positive</td>\n",
       "      <td>1</td>\n",
       "    </tr>\n",
       "    <tr>\n",
       "      <th>2</th>\n",
       "      <td>I thought this was a wonderful way to spend ti...</td>\n",
       "      <td>positive</td>\n",
       "      <td>1</td>\n",
       "    </tr>\n",
       "    <tr>\n",
       "      <th>3</th>\n",
       "      <td>Basically there's a family where a little boy ...</td>\n",
       "      <td>negative</td>\n",
       "      <td>0</td>\n",
       "    </tr>\n",
       "    <tr>\n",
       "      <th>4</th>\n",
       "      <td>Petter Mattei's \"Love in the Time of Money\" is...</td>\n",
       "      <td>positive</td>\n",
       "      <td>1</td>\n",
       "    </tr>\n",
       "  </tbody>\n",
       "</table>\n",
       "</div>"
      ],
      "text/plain": [
       "                                              review sentiment  sent_bin\n",
       "0  One of the other reviewers has mentioned that ...  positive         1\n",
       "1  A wonderful little production. <br /><br />The...  positive         1\n",
       "2  I thought this was a wonderful way to spend ti...  positive         1\n",
       "3  Basically there's a family where a little boy ...  negative         0\n",
       "4  Petter Mattei's \"Love in the Time of Money\" is...  positive         1"
      ]
     },
     "execution_count": 8,
     "metadata": {},
     "output_type": "execute_result"
    }
   ],
   "source": [
    "data.head()"
   ]
  },
  {
   "cell_type": "code",
   "execution_count": 9,
   "metadata": {},
   "outputs": [],
   "source": [
    "stop_word_text = ['a', 'an', 'br', 'the', 'and', 'or', 'but', 'if', 'then', 'else', 'when', 'where', 'who', \n",
    "                  'whom', 'which', 'that', 'this', 'these', 'those', 'in', 'on', 'at', 'to', 'from', 'by', 'for', 'of', 'with',\n",
    "                  'without', 'over', 'under', 'above', 'below', 'between', 'among', 'through', 'throughout', 'until', 'while', \n",
    "                  'since', 'during', 'within', 'without', 'beyond', 'beside', 'between', 'except', 'but', 'up', 'down', 'in', \n",
    "                  'out', 'off', 'above', 'below', 'under', 'too', 'very', 'so', 'such', 'just', 'as', 'both', 'neither', 'either', \n",
    "                  'although', 'because', 'since', 'so that', 'though', 'this', 'I', 'i', 'she', 'he', 'they', 'it', 'unless', \n",
    "                  'until', 'whether', 'while', 'why', '<', '>', 'it', 'that']"
   ]
  },
  {
   "cell_type": "code",
   "execution_count": 11,
   "metadata": {
    "execution": {
     "iopub.execute_input": "2023-03-13T10:39:17.704910Z",
     "iopub.status.busy": "2023-03-13T10:39:17.704519Z",
     "iopub.status.idle": "2023-03-13T10:39:17.712476Z",
     "shell.execute_reply": "2023-03-13T10:39:17.711308Z",
     "shell.execute_reply.started": "2023-03-13T10:39:17.704875Z"
    }
   },
   "outputs": [],
   "source": [
    "#filtering the text\n",
    "def full_form(text):\n",
    "    text = text.lower()\n",
    "    plain = re.sub(r'[<>?\\.,!\"(\\)\\/[\\]]', '', text)\n",
    "    plain = plain.replace(\"don't\", \"do not\")\n",
    "    plain = plain.replace(\"won't\", \"will not\")\n",
    "    plain = plain.replace(\"haven't\", \"have not\")\n",
    "    plain = plain.replace(\"can't\", \"cannot\")\n",
    "    plain = plain.replace(\"she's\", \"she is\")\n",
    "    plain = plain.replace(\"he's\", \"he is\")\n",
    "    plain = plain.replace(\"there're\", \"there are\")\n",
    "    plain = plain.replace(\"they'd\", \"they would\")\n",
    "    plain = plain.replace(\"\\'ll\", \" will\")\n",
    "    return plain              "
   ]
  },
  {
   "cell_type": "code",
   "execution_count": 11,
   "metadata": {
    "execution": {
     "iopub.execute_input": "2023-03-13T10:39:23.291600Z",
     "iopub.status.busy": "2023-03-13T10:39:23.291230Z",
     "iopub.status.idle": "2023-03-13T10:39:23.296795Z",
     "shell.execute_reply": "2023-03-13T10:39:23.295620Z",
     "shell.execute_reply.started": "2023-03-13T10:39:23.291565Z"
    }
   },
   "outputs": [],
   "source": [
    "#load language model for preprocessing text\n",
    "nlp = spacy.load(\"en_core_web_sm\")"
   ]
  },
  {
   "cell_type": "code",
   "execution_count": 12,
   "metadata": {},
   "outputs": [],
   "source": [
    "def preprocess_text(data):\n",
    "    corpus = []\n",
    "    for i in range(0, len(data)):\n",
    "        plain = full_form(data['review'][i])\n",
    "        # Apply spacy pipeline to the text\n",
    "        doc = nlp(plain)\n",
    "    \n",
    "        # Apply stemming and remove stopwords\n",
    "        stemmed_text = []\n",
    "        for token in doc:\n",
    "            # Check if the token is not a stop word and is alphabetic\n",
    "            if not token.is_stop and token.is_alpha:\n",
    "                stemmed_text.append(token.lemma_)\n",
    "\n",
    "        # Remove custom stopwords\n",
    "        stemmed_text = [word for word in stemmed_text if word.lower() not in stop_word_text]\n",
    "    \n",
    "        # Join the stemmed words into a text\n",
    "        preprocessed_text = ' '.join(stemmed_text)\n",
    "        corpus.append(preprocessed_text)\n",
    "    \n",
    "    return corpus"
   ]
  },
  {
   "cell_type": "code",
   "execution_count": 13,
   "metadata": {
    "execution": {
     "iopub.execute_input": "2023-03-13T10:39:48.780378Z",
     "iopub.status.busy": "2023-03-13T10:39:48.779424Z",
     "iopub.status.idle": "2023-03-13T11:07:33.870909Z",
     "shell.execute_reply": "2023-03-13T11:07:33.869872Z",
     "shell.execute_reply.started": "2023-03-13T10:39:48.780323Z"
    }
   },
   "outputs": [],
   "source": [
    "#review_processed = preprocess_text(data)\n",
    "data['review'] = data['review'].apply(full_form)"
   ]
  },
  {
   "cell_type": "code",
   "execution_count": 15,
   "metadata": {
    "execution": {
     "iopub.execute_input": "2023-03-13T11:09:05.766363Z",
     "iopub.status.busy": "2023-03-13T11:09:05.765950Z",
     "iopub.status.idle": "2023-03-13T11:09:05.772150Z",
     "shell.execute_reply": "2023-03-13T11:09:05.771052Z",
     "shell.execute_reply.started": "2023-03-13T11:09:05.766320Z"
    }
   },
   "outputs": [],
   "source": [
    "y = data['sent_bin']"
   ]
  },
  {
   "cell_type": "code",
   "execution_count": 14,
   "metadata": {
    "execution": {
     "iopub.execute_input": "2023-03-13T11:09:47.599694Z",
     "iopub.status.busy": "2023-03-13T11:09:47.599095Z",
     "iopub.status.idle": "2023-03-13T11:09:47.604501Z",
     "shell.execute_reply": "2023-03-13T11:09:47.603443Z",
     "shell.execute_reply.started": "2023-03-13T11:09:47.599650Z"
    }
   },
   "outputs": [],
   "source": [
    "#vocabular size\n",
    "voc_size = 5000"
   ]
  },
  {
   "cell_type": "code",
   "execution_count": 16,
   "metadata": {
    "execution": {
     "iopub.execute_input": "2023-03-13T11:09:49.747139Z",
     "iopub.status.busy": "2023-03-13T11:09:49.746719Z",
     "iopub.status.idle": "2023-03-13T11:09:53.192742Z",
     "shell.execute_reply": "2023-03-13T11:09:53.191653Z",
     "shell.execute_reply.started": "2023-03-13T11:09:49.747104Z"
    }
   },
   "outputs": [],
   "source": [
    "#convert into one hot vector\n",
    "onehot_text = [one_hot(word, voc_size) for word in data['review']]"
   ]
  },
  {
   "cell_type": "code",
   "execution_count": 89,
   "metadata": {},
   "outputs": [
    {
     "data": {
      "text/plain": [
       "310"
      ]
     },
     "execution_count": 89,
     "metadata": {},
     "output_type": "execute_result"
    }
   ],
   "source": [
    "len(onehot_text[0])"
   ]
  },
  {
   "cell_type": "code",
   "execution_count": 17,
   "metadata": {
    "execution": {
     "iopub.execute_input": "2023-03-13T11:25:55.062697Z",
     "iopub.status.busy": "2023-03-13T11:25:55.061743Z",
     "iopub.status.idle": "2023-03-13T11:25:55.069848Z",
     "shell.execute_reply": "2023-03-13T11:25:55.068727Z",
     "shell.execute_reply.started": "2023-03-13T11:25:55.062620Z"
    }
   },
   "outputs": [
    {
     "data": {
      "text/plain": [
       "50000"
      ]
     },
     "execution_count": 17,
     "metadata": {},
     "output_type": "execute_result"
    }
   ],
   "source": [
    "len(onehot_text)"
   ]
  },
  {
   "cell_type": "markdown",
   "metadata": {},
   "source": [
    "# Embedding"
   ]
  },
  {
   "cell_type": "code",
   "execution_count": 18,
   "metadata": {
    "execution": {
     "iopub.execute_input": "2023-03-13T11:10:24.297578Z",
     "iopub.status.busy": "2023-03-13T11:10:24.296990Z",
     "iopub.status.idle": "2023-03-13T11:10:24.302494Z",
     "shell.execute_reply": "2023-03-13T11:10:24.301152Z",
     "shell.execute_reply.started": "2023-03-13T11:10:24.297540Z"
    }
   },
   "outputs": [],
   "source": [
    "sent_length = 200"
   ]
  },
  {
   "cell_type": "code",
   "execution_count": 19,
   "metadata": {
    "execution": {
     "iopub.execute_input": "2023-03-13T11:10:29.676978Z",
     "iopub.status.busy": "2023-03-13T11:10:29.676033Z",
     "iopub.status.idle": "2023-03-13T11:10:30.084490Z",
     "shell.execute_reply": "2023-03-13T11:10:30.083415Z",
     "shell.execute_reply.started": "2023-03-13T11:10:29.676926Z"
    }
   },
   "outputs": [],
   "source": [
    "#embedding\n",
    "embedd_docs = pad_sequences(onehot_text, padding='pre', maxlen=sent_length)"
   ]
  },
  {
   "cell_type": "code",
   "execution_count": 20,
   "metadata": {
    "execution": {
     "iopub.execute_input": "2023-03-13T11:10:46.943772Z",
     "iopub.status.busy": "2023-03-13T11:10:46.943153Z",
     "iopub.status.idle": "2023-03-13T11:10:46.951091Z",
     "shell.execute_reply": "2023-03-13T11:10:46.949936Z",
     "shell.execute_reply.started": "2023-03-13T11:10:46.943732Z"
    }
   },
   "outputs": [
    {
     "data": {
      "text/plain": [
       "(310, 310)"
      ]
     },
     "execution_count": 20,
     "metadata": {},
     "output_type": "execute_result"
    }
   ],
   "source": [
    "len(data['review'][0].split()), len(onehot_text[0])"
   ]
  },
  {
   "cell_type": "code",
   "execution_count": 21,
   "metadata": {
    "execution": {
     "iopub.execute_input": "2023-03-13T11:10:50.298194Z",
     "iopub.status.busy": "2023-03-13T11:10:50.297457Z",
     "iopub.status.idle": "2023-03-13T11:10:50.309996Z",
     "shell.execute_reply": "2023-03-13T11:10:50.308898Z",
     "shell.execute_reply.started": "2023-03-13T11:10:50.298152Z"
    }
   },
   "outputs": [
    {
     "data": {
      "text/plain": [
       "array([2426,  100, 1898, 3376,  167, 3603, 4409, 4928, 2761, 3941, 2919,\n",
       "       4928, 3921,   75, 4443, 4525, 4739, 1622, 1159, 3095, 1385,   25,\n",
       "       1075,  187, 2426, 4928, 1858,   39, 1898,   25, 3291, 4095,  974,\n",
       "       3796,  404, 4798,  513,   73, 1164, 4739, 2034,  517,  576, 4600,\n",
       "       2428, 3988, 4739, 4616, 4701, 1273, 1403, 3740, 3795,  779, 3861,\n",
       "       1942, 1407, 4928, 4846, 4501, 4409, 4928,  139,   25, 1460, 4095,\n",
       "       4928, 3710, 3725, 1192, 2655, 3941, 4001, 1526, 4094,  699, 1433,\n",
       "       1750,  165, 4412,  928, 1336, 3989, 1433, 4362, 1433, 2668, 4332,\n",
       "       3938, 1585, 4928, 2982, 1700, 3861, 4887,  234,  336, 3203,  527,\n",
       "       3095, 2992, 1192,  731, 3208, 3861,  857, 1407, 3861,  731, 4474,\n",
       "        928, 1192, 4575,  527, 3861, 3320, 3590, 3861, 3182, 2139, 2941,\n",
       "        928, 4879, 4739, 4413, 4371, 4095, 4928,  187,  392, 4409, 1732,\n",
       "       1305, 1075, 4987, 1305, 4575, 3205, 2078,  503,  854, 4860, 1494,\n",
       "       1089, 1071,  928, 2139,  981, 1301,  854, 4860, 4074, 2426, 3908,\n",
       "       4739,  406, 1150,  626, 1192, 3232, 3987,  685,  634, 1301, 2876,\n",
       "       3715,  561, 2761, 1855, 1460, 4095,  115,  164, 4409,  615,  874,\n",
       "       2817, 2761, 3700, 4590, 4879, 2798, 2606,  583,  711,  626, 1655,\n",
       "         25,  895, 4506, 1582, 2798, 3617,  406,  312,  469,  626, 2643,\n",
       "         96,  553])"
      ]
     },
     "execution_count": 21,
     "metadata": {},
     "output_type": "execute_result"
    }
   ],
   "source": [
    "embedd_docs[0]"
   ]
  },
  {
   "cell_type": "code",
   "execution_count": 22,
   "metadata": {
    "execution": {
     "iopub.execute_input": "2023-03-13T11:11:01.494606Z",
     "iopub.status.busy": "2023-03-13T11:11:01.492149Z",
     "iopub.status.idle": "2023-03-13T11:11:01.503841Z",
     "shell.execute_reply": "2023-03-13T11:11:01.502548Z",
     "shell.execute_reply.started": "2023-03-13T11:11:01.494563Z"
    }
   },
   "outputs": [
    {
     "data": {
      "text/plain": [
       "(50000, (50000,))"
      ]
     },
     "execution_count": 22,
     "metadata": {},
     "output_type": "execute_result"
    }
   ],
   "source": [
    "#shape of data\n",
    "len(embedd_docs), y.shape"
   ]
  },
  {
   "cell_type": "code",
   "execution_count": 23,
   "metadata": {
    "execution": {
     "iopub.execute_input": "2023-03-13T11:11:47.269038Z",
     "iopub.status.busy": "2023-03-13T11:11:47.268678Z",
     "iopub.status.idle": "2023-03-13T11:11:47.291390Z",
     "shell.execute_reply": "2023-03-13T11:11:47.290397Z",
     "shell.execute_reply.started": "2023-03-13T11:11:47.269005Z"
    }
   },
   "outputs": [],
   "source": [
    "#convert into numpy array\n",
    "X_data = np.array(embedd_docs)\n",
    "y_data = np.array(y)\n",
    "#y_data = np.squeeze(y_data)"
   ]
  },
  {
   "cell_type": "code",
   "execution_count": 24,
   "metadata": {
    "execution": {
     "iopub.execute_input": "2023-03-13T11:11:51.586540Z",
     "iopub.status.busy": "2023-03-13T11:11:51.586178Z",
     "iopub.status.idle": "2023-03-13T11:11:51.593468Z",
     "shell.execute_reply": "2023-03-13T11:11:51.592196Z",
     "shell.execute_reply.started": "2023-03-13T11:11:51.586506Z"
    }
   },
   "outputs": [
    {
     "data": {
      "text/plain": [
       "((50000, 200), (50000,))"
      ]
     },
     "execution_count": 24,
     "metadata": {},
     "output_type": "execute_result"
    }
   ],
   "source": [
    "X_data.shape, y_data.shape"
   ]
  },
  {
   "cell_type": "code",
   "execution_count": 29,
   "metadata": {
    "execution": {
     "iopub.execute_input": "2023-03-13T11:11:56.643861Z",
     "iopub.status.busy": "2023-03-13T11:11:56.643108Z",
     "iopub.status.idle": "2023-03-13T11:11:56.669398Z",
     "shell.execute_reply": "2023-03-13T11:11:56.668394Z",
     "shell.execute_reply.started": "2023-03-13T11:11:56.643820Z"
    }
   },
   "outputs": [],
   "source": [
    "#split dataset for training and testing\n",
    "X_train, temp_data, y_train, temp_label = train_test_split(X_data, y_data, test_size=0.4, random_state=42)\n",
    "val_data, X_test, val_label, y_test = train_test_split(temp_data, temp_label, test_size=0.3, random_state=42)"
   ]
  },
  {
   "cell_type": "code",
   "execution_count": 30,
   "metadata": {
    "execution": {
     "iopub.execute_input": "2023-03-13T11:12:03.275575Z",
     "iopub.status.busy": "2023-03-13T11:12:03.275041Z",
     "iopub.status.idle": "2023-03-13T11:12:03.284719Z",
     "shell.execute_reply": "2023-03-13T11:12:03.282374Z",
     "shell.execute_reply.started": "2023-03-13T11:12:03.275541Z"
    }
   },
   "outputs": [
    {
     "name": "stdout",
     "output_type": "stream",
     "text": [
      "training: (30000, 200) - (30000,)\n",
      "Validation: (14000, 200) - (14000,)\n",
      "testing: (6000, 200) - (6000,)\n"
     ]
    }
   ],
   "source": [
    "print(f'training: {X_train.shape} - {y_train.shape}')\n",
    "print(f'Validation: {val_data.shape} - {val_label.shape}')\n",
    "print(f'testing: {X_test.shape} - {y_test.shape}')"
   ]
  },
  {
   "cell_type": "code",
   "execution_count": 31,
   "metadata": {
    "execution": {
     "iopub.execute_input": "2023-03-13T11:12:13.457126Z",
     "iopub.status.busy": "2023-03-13T11:12:13.456157Z",
     "iopub.status.idle": "2023-03-13T11:12:13.466218Z",
     "shell.execute_reply": "2023-03-13T11:12:13.465140Z",
     "shell.execute_reply.started": "2023-03-13T11:12:13.457086Z"
    }
   },
   "outputs": [
    {
     "data": {
      "text/plain": [
       "array([1, 1, 0, 1, 1, 1, 0, 1, 1, 1], dtype=int64)"
      ]
     },
     "execution_count": 31,
     "metadata": {},
     "output_type": "execute_result"
    }
   ],
   "source": [
    "y_train[0:10]"
   ]
  },
  {
   "cell_type": "markdown",
   "metadata": {},
   "source": [
    "# Model"
   ]
  },
  {
   "cell_type": "code",
   "execution_count": 33,
   "metadata": {
    "execution": {
     "iopub.execute_input": "2023-03-13T11:11:35.388786Z",
     "iopub.status.busy": "2023-03-13T11:11:35.388058Z",
     "iopub.status.idle": "2023-03-13T11:11:39.495750Z",
     "shell.execute_reply": "2023-03-13T11:11:39.494798Z",
     "shell.execute_reply.started": "2023-03-13T11:11:35.388745Z"
    }
   },
   "outputs": [
    {
     "name": "stdout",
     "output_type": "stream",
     "text": [
      "Model: \"sequential_1\"\n",
      "_________________________________________________________________\n",
      " Layer (type)                Output Shape              Param #   \n",
      "=================================================================\n",
      " embedding_1 (Embedding)     (None, 200, 100)          500000    \n",
      "                                                                 \n",
      " lstm_1 (LSTM)               (None, 128)               117248    \n",
      "                                                                 \n",
      " dense_1 (Dense)             (None, 1)                 129       \n",
      "                                                                 \n",
      "=================================================================\n",
      "Total params: 617,377\n",
      "Trainable params: 617,377\n",
      "Non-trainable params: 0\n",
      "_________________________________________________________________\n",
      "None\n"
     ]
    }
   ],
   "source": [
    "## Creating model\n",
    "embedding_vector_features=100\n",
    "model=Sequential()\n",
    "model.add(Embedding(voc_size,embedding_vector_features,input_length=sent_length))\n",
    "model.add(LSTM(128))\n",
    "model.add(Dense(1,activation='sigmoid'))\n",
    "model.compile(loss='binary_crossentropy',optimizer='adam',metrics=['accuracy'])\n",
    "print(model.summary())"
   ]
  },
  {
   "cell_type": "code",
   "execution_count": 34,
   "metadata": {
    "execution": {
     "iopub.execute_input": "2023-03-13T11:12:30.087810Z",
     "iopub.status.busy": "2023-03-13T11:12:30.086878Z",
     "iopub.status.idle": "2023-03-13T11:15:28.548577Z",
     "shell.execute_reply": "2023-03-13T11:15:28.547593Z",
     "shell.execute_reply.started": "2023-03-13T11:12:30.087754Z"
    }
   },
   "outputs": [
    {
     "name": "stdout",
     "output_type": "stream",
     "text": [
      "Epoch 1/10\n",
      "469/469 [==============================] - 12s 19ms/step - loss: 0.4471 - accuracy: 0.7914 - val_loss: 0.3579 - val_accuracy: 0.8487\n",
      "Epoch 2/10\n",
      "469/469 [==============================] - 8s 18ms/step - loss: 0.3120 - accuracy: 0.8705 - val_loss: 0.3518 - val_accuracy: 0.8449\n",
      "Epoch 3/10\n",
      "469/469 [==============================] - 9s 18ms/step - loss: 0.2601 - accuracy: 0.8954 - val_loss: 0.3748 - val_accuracy: 0.8461\n",
      "Epoch 4/10\n",
      "469/469 [==============================] - 9s 18ms/step - loss: 0.2149 - accuracy: 0.9157 - val_loss: 0.3827 - val_accuracy: 0.8466\n",
      "Epoch 5/10\n",
      "469/469 [==============================] - 10s 21ms/step - loss: 0.1890 - accuracy: 0.9275 - val_loss: 0.4202 - val_accuracy: 0.8446\n",
      "Epoch 6/10\n",
      "469/469 [==============================] - 10s 22ms/step - loss: 0.1581 - accuracy: 0.9411 - val_loss: 0.4694 - val_accuracy: 0.8400\n",
      "Epoch 7/10\n",
      "469/469 [==============================] - 10s 22ms/step - loss: 0.1365 - accuracy: 0.9484 - val_loss: 0.4891 - val_accuracy: 0.8409\n",
      "Epoch 8/10\n",
      "469/469 [==============================] - 10s 22ms/step - loss: 0.1119 - accuracy: 0.9605 - val_loss: 0.5325 - val_accuracy: 0.8309\n",
      "Epoch 9/10\n",
      "469/469 [==============================] - 10s 22ms/step - loss: 0.1011 - accuracy: 0.9637 - val_loss: 0.5834 - val_accuracy: 0.8349\n",
      "Epoch 10/10\n",
      "469/469 [==============================] - 10s 21ms/step - loss: 0.0768 - accuracy: 0.9740 - val_loss: 0.7505 - val_accuracy: 0.8331\n"
     ]
    },
    {
     "data": {
      "text/plain": [
       "<keras.callbacks.History at 0x1a78e961af0>"
      ]
     },
     "execution_count": 34,
     "metadata": {},
     "output_type": "execute_result"
    }
   ],
   "source": [
    "model.fit(X_train, y_train, validation_data=(val_data, val_label), epochs=10, batch_size=64)"
   ]
  },
  {
   "cell_type": "markdown",
   "metadata": {},
   "source": [
    "# Model Evaluation"
   ]
  },
  {
   "cell_type": "code",
   "execution_count": 35,
   "metadata": {
    "execution": {
     "iopub.execute_input": "2023-03-13T11:16:07.680744Z",
     "iopub.status.busy": "2023-03-13T11:16:07.680093Z",
     "iopub.status.idle": "2023-03-13T11:16:12.861538Z",
     "shell.execute_reply": "2023-03-13T11:16:12.860513Z",
     "shell.execute_reply.started": "2023-03-13T11:16:07.680703Z"
    }
   },
   "outputs": [
    {
     "name": "stdout",
     "output_type": "stream",
     "text": [
      "188/188 [==============================] - 1s 7ms/step - loss: 0.7258 - accuracy: 0.8343\n"
     ]
    },
    {
     "data": {
      "text/plain": [
       "[0.7257998585700989, 0.8343333601951599]"
      ]
     },
     "execution_count": 35,
     "metadata": {},
     "output_type": "execute_result"
    }
   ],
   "source": [
    "model.evaluate(X_test, y_test)"
   ]
  },
  {
   "cell_type": "code",
   "execution_count": 36,
   "metadata": {
    "execution": {
     "iopub.execute_input": "2023-03-13T11:18:37.458422Z",
     "iopub.status.busy": "2023-03-13T11:18:37.457367Z",
     "iopub.status.idle": "2023-03-13T11:18:43.314190Z",
     "shell.execute_reply": "2023-03-13T11:18:43.313092Z",
     "shell.execute_reply.started": "2023-03-13T11:18:37.458377Z"
    }
   },
   "outputs": [
    {
     "name": "stdout",
     "output_type": "stream",
     "text": [
      "188/188 [==============================] - 1s 6ms/step\n"
     ]
    }
   ],
   "source": [
    "predictions = (model.predict(X_test) > 0.5).astype(\"int32\")"
   ]
  },
  {
   "cell_type": "code",
   "execution_count": 37,
   "metadata": {
    "execution": {
     "iopub.execute_input": "2023-03-13T11:19:47.664858Z",
     "iopub.status.busy": "2023-03-13T11:19:47.663896Z",
     "iopub.status.idle": "2023-03-13T11:19:47.676285Z",
     "shell.execute_reply": "2023-03-13T11:19:47.674999Z",
     "shell.execute_reply.started": "2023-03-13T11:19:47.664818Z"
    }
   },
   "outputs": [
    {
     "data": {
      "text/plain": [
       "array([[2295,  698],\n",
       "       [ 296, 2711]], dtype=int64)"
      ]
     },
     "execution_count": 37,
     "metadata": {},
     "output_type": "execute_result"
    }
   ],
   "source": [
    "#confusion matrix \n",
    "confusion_matrix(y_test,predictions)"
   ]
  },
  {
   "cell_type": "code",
   "execution_count": 38,
   "metadata": {
    "execution": {
     "iopub.execute_input": "2023-03-13T11:20:27.696350Z",
     "iopub.status.busy": "2023-03-13T11:20:27.694916Z",
     "iopub.status.idle": "2023-03-13T11:20:27.709988Z",
     "shell.execute_reply": "2023-03-13T11:20:27.708921Z",
     "shell.execute_reply.started": "2023-03-13T11:20:27.696301Z"
    }
   },
   "outputs": [
    {
     "data": {
      "text/plain": [
       "0.8343333333333334"
      ]
     },
     "execution_count": 38,
     "metadata": {},
     "output_type": "execute_result"
    }
   ],
   "source": [
    "accuracy_score(y_test,predictions)"
   ]
  },
  {
   "cell_type": "markdown",
   "metadata": {},
   "source": [
    "# Testing model with text"
   ]
  },
  {
   "cell_type": "code",
   "execution_count": null,
   "metadata": {
    "execution": {
     "iopub.execute_input": "2023-03-13T11:22:15.357159Z",
     "iopub.status.busy": "2023-03-13T11:22:15.356477Z",
     "iopub.status.idle": "2023-03-13T11:22:15.362823Z",
     "shell.execute_reply": "2023-03-13T11:22:15.361561Z",
     "shell.execute_reply.started": "2023-03-13T11:22:15.357119Z"
    }
   },
   "outputs": [],
   "source": [
    "print(data['review'][0],'\\n')\n",
    "print(data['sentiment'][0])"
   ]
  },
  {
   "cell_type": "code",
   "execution_count": 118,
   "metadata": {},
   "outputs": [],
   "source": [
    "text = \"this movie is very bad and i don't like this movie\"\n",
    "#preprocessing \n",
    "processed_text = full_form(text)\n",
    "#one hot encoding\n",
    "onehot_sent = [one_hot(word, voc_size)[0] for word in processed_text.split(\" \")]\n",
    "#embedding\n",
    "embedd_docs = pad_sequences([onehot_sent], padding='pre', maxlen=sent_length)\n",
    "#convert into numpy array\n",
    "X_sample = np.array(embedd_docs)"
   ]
  },
  {
   "cell_type": "code",
   "execution_count": 119,
   "metadata": {},
   "outputs": [
    {
     "data": {
      "text/plain": [
       "array([[   0,    0,    0,    0,    0,    0,    0,    0,    0,    0,    0,\n",
       "           0,    0,    0,    0,    0,    0,    0,    0,    0,    0,    0,\n",
       "           0,    0,    0,    0,    0,    0,    0,    0,    0,    0,    0,\n",
       "           0,    0,    0,    0,    0,    0,    0,    0,    0,    0,    0,\n",
       "           0,    0,    0,    0,    0,    0,    0,    0,    0,    0,    0,\n",
       "           0,    0,    0,    0,    0,    0,    0,    0,    0,    0,    0,\n",
       "           0,    0,    0,    0,    0,    0,    0,    0,    0,    0,    0,\n",
       "           0,    0,    0,    0,    0,    0,    0,    0,    0,    0,    0,\n",
       "           0,    0,    0,    0,    0,    0,    0,    0,    0,    0,    0,\n",
       "           0,    0,    0,    0,    0,    0,    0,    0,    0,    0,    0,\n",
       "           0,    0,    0,    0,    0,    0,    0,    0,    0,    0,    0,\n",
       "           0,    0,    0,    0,    0,    0,    0,    0,    0,    0,    0,\n",
       "           0,    0,    0,    0,    0,    0,    0,    0,    0,    0,    0,\n",
       "           0,    0,    0,    0,    0,    0,    0,    0,    0,    0,    0,\n",
       "           0,    0,    0,    0,    0,    0,    0,    0,    0,    0,    0,\n",
       "           0,    0,    0,    0,    0,    0,    0,    0,    0,    0,    0,\n",
       "           0,    0,    0,    0,    0,    0,    0,    0,    0,    0,    0,\n",
       "           0, 4446, 3791,   25, 4482, 3794, 4739, 3861, 3028, 1075, 1940,\n",
       "        4446, 3791]])"
      ]
     },
     "execution_count": 119,
     "metadata": {},
     "output_type": "execute_result"
    }
   ],
   "source": [
    "X_sample"
   ]
  },
  {
   "cell_type": "code",
   "execution_count": 120,
   "metadata": {
    "execution": {
     "iopub.execute_input": "2023-03-13T11:29:07.586878Z",
     "iopub.status.busy": "2023-03-13T11:29:07.586117Z",
     "iopub.status.idle": "2023-03-13T11:29:07.650480Z",
     "shell.execute_reply": "2023-03-13T11:29:07.649465Z",
     "shell.execute_reply.started": "2023-03-13T11:29:07.586840Z"
    }
   },
   "outputs": [
    {
     "name": "stdout",
     "output_type": "stream",
     "text": [
      "1/1 [==============================] - 0s 22ms/step\n"
     ]
    }
   ],
   "source": [
    "sample_prediction = (model.predict(X_sample) > 0.5).astype(\"int32\")"
   ]
  },
  {
   "cell_type": "code",
   "execution_count": 121,
   "metadata": {
    "execution": {
     "iopub.execute_input": "2023-03-13T11:29:10.242703Z",
     "iopub.status.busy": "2023-03-13T11:29:10.242069Z",
     "iopub.status.idle": "2023-03-13T11:29:10.249518Z",
     "shell.execute_reply": "2023-03-13T11:29:10.248328Z",
     "shell.execute_reply.started": "2023-03-13T11:29:10.242660Z"
    }
   },
   "outputs": [
    {
     "data": {
      "text/plain": [
       "array([[0]])"
      ]
     },
     "execution_count": 121,
     "metadata": {},
     "output_type": "execute_result"
    }
   ],
   "source": [
    "(sample_prediction)"
   ]
  },
  {
   "cell_type": "markdown",
   "metadata": {},
   "source": [
    "# Save the model"
   ]
  },
  {
   "cell_type": "code",
   "execution_count": 102,
   "metadata": {
    "execution": {
     "iopub.execute_input": "2023-03-13T11:30:38.084080Z",
     "iopub.status.busy": "2023-03-13T11:30:38.083374Z",
     "iopub.status.idle": "2023-03-13T11:30:38.133389Z",
     "shell.execute_reply": "2023-03-13T11:30:38.132423Z",
     "shell.execute_reply.started": "2023-03-13T11:30:38.084041Z"
    }
   },
   "outputs": [],
   "source": [
    "model.save(\"./assets/movieSentiAnalysisV-5.h5\")"
   ]
  },
  {
   "cell_type": "code",
   "execution_count": 130,
   "metadata": {},
   "outputs": [],
   "source": [
    "text = \"this movie is very bad and i don't like this movie.\""
   ]
  },
  {
   "cell_type": "code",
   "execution_count": 131,
   "metadata": {},
   "outputs": [],
   "source": [
    "processed_text = full_form(text)\n",
    "#one hot encoding\n",
    "onehot_sent = [one_hot(word, voc_size)[0] for word in processed_text.split(\" \")]\n",
    "#embedding\n",
    "embedd_docs = pad_sequences([onehot_sent], padding='pre', maxlen=sent_length)\n",
    "#convert into numpy array\n",
    "sample = np.array(embedd_docs)"
   ]
  },
  {
   "cell_type": "code",
   "execution_count": 132,
   "metadata": {},
   "outputs": [
    {
     "data": {
      "text/plain": [
       "array([[   0,    0,    0,    0,    0,    0,    0,    0,    0,    0,    0,\n",
       "           0,    0,    0,    0,    0,    0,    0,    0,    0,    0,    0,\n",
       "           0,    0,    0,    0,    0,    0,    0,    0,    0,    0,    0,\n",
       "           0,    0,    0,    0,    0,    0,    0,    0,    0,    0,    0,\n",
       "           0,    0,    0,    0,    0,    0,    0,    0,    0,    0,    0,\n",
       "           0,    0,    0,    0,    0,    0,    0,    0,    0,    0,    0,\n",
       "           0,    0,    0,    0,    0,    0,    0,    0,    0,    0,    0,\n",
       "           0,    0,    0,    0,    0,    0,    0,    0,    0,    0,    0,\n",
       "           0,    0,    0,    0,    0,    0,    0,    0,    0,    0,    0,\n",
       "           0,    0,    0,    0,    0,    0,    0,    0,    0,    0,    0,\n",
       "           0,    0,    0,    0,    0,    0,    0,    0,    0,    0,    0,\n",
       "           0,    0,    0,    0,    0,    0,    0,    0,    0,    0,    0,\n",
       "           0,    0,    0,    0,    0,    0,    0,    0,    0,    0,    0,\n",
       "           0,    0,    0,    0,    0,    0,    0,    0,    0,    0,    0,\n",
       "           0,    0,    0,    0,    0,    0,    0,    0,    0,    0,    0,\n",
       "           0,    0,    0,    0,    0,    0,    0,    0,    0,    0,    0,\n",
       "           0,    0,    0,    0,    0,    0,    0,    0,    0,    0,    0,\n",
       "           0, 4446, 3791,   25, 4482, 3794, 4739, 3861, 3028, 1075, 1940,\n",
       "        4446, 3791]])"
      ]
     },
     "execution_count": 132,
     "metadata": {},
     "output_type": "execute_result"
    }
   ],
   "source": [
    "sample"
   ]
  },
  {
   "cell_type": "code",
   "execution_count": 133,
   "metadata": {},
   "outputs": [
    {
     "name": "stdout",
     "output_type": "stream",
     "text": [
      "1/1 [==============================] - 0s 25ms/step\n"
     ]
    },
    {
     "data": {
      "text/plain": [
       "array([[0]])"
      ]
     },
     "execution_count": 133,
     "metadata": {},
     "output_type": "execute_result"
    }
   ],
   "source": [
    "sample_prediction = (rnn.predict(sample) > 0.9).astype(\"int32\")\n",
    "sample_prediction"
   ]
  },
  {
   "cell_type": "code",
   "execution_count": null,
   "metadata": {},
   "outputs": [],
   "source": []
  }
 ],
 "metadata": {
  "kernelspec": {
   "display_name": "Python 3 (ipykernel)",
   "language": "python",
   "name": "python3"
  },
  "language_info": {
   "codemirror_mode": {
    "name": "ipython",
    "version": 3
   },
   "file_extension": ".py",
   "mimetype": "text/x-python",
   "name": "python",
   "nbconvert_exporter": "python",
   "pygments_lexer": "ipython3",
   "version": "3.9.13"
  }
 },
 "nbformat": 4,
 "nbformat_minor": 4
}
