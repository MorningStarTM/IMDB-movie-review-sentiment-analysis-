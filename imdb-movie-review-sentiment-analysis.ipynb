{
 "cells": [
  {
   "cell_type": "code",
   "execution_count": 1,
   "id": "761223ae",
   "metadata": {
    "execution": {
     "iopub.execute_input": "2023-03-09T09:27:57.313544Z",
     "iopub.status.busy": "2023-03-09T09:27:57.313139Z",
     "iopub.status.idle": "2023-03-09T09:28:05.066458Z",
     "shell.execute_reply": "2023-03-09T09:28:05.065365Z"
    },
    "papermill": {
     "duration": 7.76531,
     "end_time": "2023-03-09T09:28:05.069158",
     "exception": false,
     "start_time": "2023-03-09T09:27:57.303848",
     "status": "completed"
    },
    "tags": []
   },
   "outputs": [],
   "source": [
    "import pandas as pd\n",
    "import numpy as np\n",
    "import re\n",
    "import nltk\n",
    "import tensorflow as tf\n",
    "from nltk.corpus import stopwords\n",
    "from nltk.stem import PorterStemmer, WordNetLemmatizer\n",
    "from nltk.corpus import wordnet\n",
    "from tensorflow.keras.layers import LSTM, Dense, Embedding\n",
    "from tensorflow.keras.layers import ReLU\n",
    "from tensorflow.keras.preprocessing.sequence import pad_sequences\n",
    "from tensorflow.keras.preprocessing.text import one_hot\n",
    "from tensorflow.keras.models import Model, Sequential\n",
    "from sklearn.model_selection import train_test_split\n",
    "from sklearn.metrics import confusion_matrix"
   ]
  },
  {
   "cell_type": "code",
   "execution_count": 2,
   "id": "d7f2608b",
   "metadata": {
    "execution": {
     "iopub.execute_input": "2023-03-09T09:28:05.084636Z",
     "iopub.status.busy": "2023-03-09T09:28:05.083978Z",
     "iopub.status.idle": "2023-03-09T09:28:05.161786Z",
     "shell.execute_reply": "2023-03-09T09:28:05.159900Z"
    },
    "papermill": {
     "duration": 0.088335,
     "end_time": "2023-03-09T09:28:05.164537",
     "exception": false,
     "start_time": "2023-03-09T09:28:05.076202",
     "status": "completed"
    },
    "tags": []
   },
   "outputs": [
    {
     "name": "stdout",
     "output_type": "stream",
     "text": [
      "[nltk_data] Downloading package stopwords to /usr/share/nltk_data...\n",
      "[nltk_data]   Package stopwords is already up-to-date!\n"
     ]
    },
    {
     "data": {
      "text/plain": [
       "True"
      ]
     },
     "execution_count": 2,
     "metadata": {},
     "output_type": "execute_result"
    }
   ],
   "source": [
    "nltk.download('stopwords')"
   ]
  },
  {
   "cell_type": "code",
   "execution_count": 3,
   "id": "b921f83c",
   "metadata": {
    "execution": {
     "iopub.execute_input": "2023-03-09T09:28:05.180057Z",
     "iopub.status.busy": "2023-03-09T09:28:05.179154Z",
     "iopub.status.idle": "2023-03-09T09:28:05.251214Z",
     "shell.execute_reply": "2023-03-09T09:28:05.250165Z"
    },
    "papermill": {
     "duration": 0.081782,
     "end_time": "2023-03-09T09:28:05.253239",
     "exception": false,
     "start_time": "2023-03-09T09:28:05.171457",
     "status": "completed"
    },
    "tags": []
   },
   "outputs": [
    {
     "name": "stdout",
     "output_type": "stream",
     "text": [
      "[nltk_data] Downloading package punkt to /usr/share/nltk_data...\n",
      "[nltk_data]   Package punkt is already up-to-date!\n"
     ]
    },
    {
     "data": {
      "text/plain": [
       "True"
      ]
     },
     "execution_count": 3,
     "metadata": {},
     "output_type": "execute_result"
    }
   ],
   "source": [
    "nltk.download('punkt')"
   ]
  },
  {
   "cell_type": "code",
   "execution_count": 4,
   "id": "2e856695",
   "metadata": {
    "execution": {
     "iopub.execute_input": "2023-03-09T09:28:05.270164Z",
     "iopub.status.busy": "2023-03-09T09:28:05.268494Z",
     "iopub.status.idle": "2023-03-09T09:28:06.735655Z",
     "shell.execute_reply": "2023-03-09T09:28:06.734622Z"
    },
    "papermill": {
     "duration": 1.477734,
     "end_time": "2023-03-09T09:28:06.738274",
     "exception": false,
     "start_time": "2023-03-09T09:28:05.260540",
     "status": "completed"
    },
    "tags": []
   },
   "outputs": [],
   "source": [
    "#read data\n",
    "data = pd.read_csv(\"/kaggle/input/imdb-dataset-of-50k-movie-reviews/IMDB Dataset.csv\")"
   ]
  },
  {
   "cell_type": "code",
   "execution_count": 5,
   "id": "fc999025",
   "metadata": {
    "execution": {
     "iopub.execute_input": "2023-03-09T09:28:06.755173Z",
     "iopub.status.busy": "2023-03-09T09:28:06.753638Z",
     "iopub.status.idle": "2023-03-09T09:28:06.761227Z",
     "shell.execute_reply": "2023-03-09T09:28:06.760317Z"
    },
    "papermill": {
     "duration": 0.017941,
     "end_time": "2023-03-09T09:28:06.763505",
     "exception": false,
     "start_time": "2023-03-09T09:28:06.745564",
     "status": "completed"
    },
    "tags": []
   },
   "outputs": [
    {
     "data": {
      "text/plain": [
       "(50000, 2)"
      ]
     },
     "execution_count": 5,
     "metadata": {},
     "output_type": "execute_result"
    }
   ],
   "source": [
    "#size of data\n",
    "data.shape"
   ]
  },
  {
   "cell_type": "code",
   "execution_count": 6,
   "id": "79c5bb3c",
   "metadata": {
    "execution": {
     "iopub.execute_input": "2023-03-09T09:28:06.779041Z",
     "iopub.status.busy": "2023-03-09T09:28:06.778233Z",
     "iopub.status.idle": "2023-03-09T09:28:06.784857Z",
     "shell.execute_reply": "2023-03-09T09:28:06.783838Z"
    },
    "papermill": {
     "duration": 0.016612,
     "end_time": "2023-03-09T09:28:06.787012",
     "exception": false,
     "start_time": "2023-03-09T09:28:06.770400",
     "status": "completed"
    },
    "tags": []
   },
   "outputs": [
    {
     "data": {
      "text/plain": [
       "Index(['review', 'sentiment'], dtype='object')"
      ]
     },
     "execution_count": 6,
     "metadata": {},
     "output_type": "execute_result"
    }
   ],
   "source": [
    "data.columns"
   ]
  },
  {
   "cell_type": "code",
   "execution_count": 7,
   "id": "7471f1e1",
   "metadata": {
    "execution": {
     "iopub.execute_input": "2023-03-09T09:28:06.802193Z",
     "iopub.status.busy": "2023-03-09T09:28:06.801923Z",
     "iopub.status.idle": "2023-03-09T09:28:06.827741Z",
     "shell.execute_reply": "2023-03-09T09:28:06.826549Z"
    },
    "papermill": {
     "duration": 0.036103,
     "end_time": "2023-03-09T09:28:06.830093",
     "exception": false,
     "start_time": "2023-03-09T09:28:06.793990",
     "status": "completed"
    },
    "tags": []
   },
   "outputs": [
    {
     "name": "stdout",
     "output_type": "stream",
     "text": [
      "<class 'pandas.core.frame.DataFrame'>\n",
      "RangeIndex: 50000 entries, 0 to 49999\n",
      "Data columns (total 2 columns):\n",
      " #   Column     Non-Null Count  Dtype \n",
      "---  ------     --------------  ----- \n",
      " 0   review     50000 non-null  object\n",
      " 1   sentiment  50000 non-null  object\n",
      "dtypes: object(2)\n",
      "memory usage: 781.4+ KB\n"
     ]
    }
   ],
   "source": [
    "#check null value \n",
    "data.info()"
   ]
  },
  {
   "cell_type": "code",
   "execution_count": 8,
   "id": "ed3dd3ef",
   "metadata": {
    "execution": {
     "iopub.execute_input": "2023-03-09T09:28:06.845638Z",
     "iopub.status.busy": "2023-03-09T09:28:06.845337Z",
     "iopub.status.idle": "2023-03-09T09:28:06.859664Z",
     "shell.execute_reply": "2023-03-09T09:28:06.858708Z"
    },
    "papermill": {
     "duration": 0.024676,
     "end_time": "2023-03-09T09:28:06.861778",
     "exception": false,
     "start_time": "2023-03-09T09:28:06.837102",
     "status": "completed"
    },
    "tags": []
   },
   "outputs": [
    {
     "data": {
      "text/html": [
       "<div>\n",
       "<style scoped>\n",
       "    .dataframe tbody tr th:only-of-type {\n",
       "        vertical-align: middle;\n",
       "    }\n",
       "\n",
       "    .dataframe tbody tr th {\n",
       "        vertical-align: top;\n",
       "    }\n",
       "\n",
       "    .dataframe thead th {\n",
       "        text-align: right;\n",
       "    }\n",
       "</style>\n",
       "<table border=\"1\" class=\"dataframe\">\n",
       "  <thead>\n",
       "    <tr style=\"text-align: right;\">\n",
       "      <th></th>\n",
       "      <th>review</th>\n",
       "      <th>sentiment</th>\n",
       "    </tr>\n",
       "  </thead>\n",
       "  <tbody>\n",
       "    <tr>\n",
       "      <th>0</th>\n",
       "      <td>One of the other reviewers has mentioned that ...</td>\n",
       "      <td>positive</td>\n",
       "    </tr>\n",
       "    <tr>\n",
       "      <th>1</th>\n",
       "      <td>A wonderful little production. &lt;br /&gt;&lt;br /&gt;The...</td>\n",
       "      <td>positive</td>\n",
       "    </tr>\n",
       "    <tr>\n",
       "      <th>2</th>\n",
       "      <td>I thought this was a wonderful way to spend ti...</td>\n",
       "      <td>positive</td>\n",
       "    </tr>\n",
       "    <tr>\n",
       "      <th>3</th>\n",
       "      <td>Basically there's a family where a little boy ...</td>\n",
       "      <td>negative</td>\n",
       "    </tr>\n",
       "    <tr>\n",
       "      <th>4</th>\n",
       "      <td>Petter Mattei's \"Love in the Time of Money\" is...</td>\n",
       "      <td>positive</td>\n",
       "    </tr>\n",
       "    <tr>\n",
       "      <th>5</th>\n",
       "      <td>Probably my all-time favorite movie, a story o...</td>\n",
       "      <td>positive</td>\n",
       "    </tr>\n",
       "    <tr>\n",
       "      <th>6</th>\n",
       "      <td>I sure would like to see a resurrection of a u...</td>\n",
       "      <td>positive</td>\n",
       "    </tr>\n",
       "    <tr>\n",
       "      <th>7</th>\n",
       "      <td>This show was an amazing, fresh &amp; innovative i...</td>\n",
       "      <td>negative</td>\n",
       "    </tr>\n",
       "    <tr>\n",
       "      <th>8</th>\n",
       "      <td>Encouraged by the positive comments about this...</td>\n",
       "      <td>negative</td>\n",
       "    </tr>\n",
       "    <tr>\n",
       "      <th>9</th>\n",
       "      <td>If you like original gut wrenching laughter yo...</td>\n",
       "      <td>positive</td>\n",
       "    </tr>\n",
       "  </tbody>\n",
       "</table>\n",
       "</div>"
      ],
      "text/plain": [
       "                                              review sentiment\n",
       "0  One of the other reviewers has mentioned that ...  positive\n",
       "1  A wonderful little production. <br /><br />The...  positive\n",
       "2  I thought this was a wonderful way to spend ti...  positive\n",
       "3  Basically there's a family where a little boy ...  negative\n",
       "4  Petter Mattei's \"Love in the Time of Money\" is...  positive\n",
       "5  Probably my all-time favorite movie, a story o...  positive\n",
       "6  I sure would like to see a resurrection of a u...  positive\n",
       "7  This show was an amazing, fresh & innovative i...  negative\n",
       "8  Encouraged by the positive comments about this...  negative\n",
       "9  If you like original gut wrenching laughter yo...  positive"
      ]
     },
     "execution_count": 8,
     "metadata": {},
     "output_type": "execute_result"
    }
   ],
   "source": [
    "data.head(10)"
   ]
  },
  {
   "cell_type": "code",
   "execution_count": 9,
   "id": "2f4d2663",
   "metadata": {
    "execution": {
     "iopub.execute_input": "2023-03-09T09:28:06.879423Z",
     "iopub.status.busy": "2023-03-09T09:28:06.878594Z",
     "iopub.status.idle": "2023-03-09T09:28:06.883576Z",
     "shell.execute_reply": "2023-03-09T09:28:06.882482Z"
    },
    "papermill": {
     "duration": 0.016103,
     "end_time": "2023-03-09T09:28:06.885718",
     "exception": false,
     "start_time": "2023-03-09T09:28:06.869615",
     "status": "completed"
    },
    "tags": []
   },
   "outputs": [],
   "source": [
    "df = data[0:5000]"
   ]
  },
  {
   "cell_type": "code",
   "execution_count": 10,
   "id": "144bb1ff",
   "metadata": {
    "execution": {
     "iopub.execute_input": "2023-03-09T09:28:06.902661Z",
     "iopub.status.busy": "2023-03-09T09:28:06.901650Z",
     "iopub.status.idle": "2023-03-09T09:28:06.910050Z",
     "shell.execute_reply": "2023-03-09T09:28:06.909108Z"
    },
    "papermill": {
     "duration": 0.018827,
     "end_time": "2023-03-09T09:28:06.912203",
     "exception": false,
     "start_time": "2023-03-09T09:28:06.893376",
     "status": "completed"
    },
    "tags": []
   },
   "outputs": [
    {
     "data": {
      "text/plain": [
       "(5000, 2)"
      ]
     },
     "execution_count": 10,
     "metadata": {},
     "output_type": "execute_result"
    }
   ],
   "source": [
    "df.shape"
   ]
  },
  {
   "cell_type": "code",
   "execution_count": 11,
   "id": "52f47ae8",
   "metadata": {
    "execution": {
     "iopub.execute_input": "2023-03-09T09:28:06.928940Z",
     "iopub.status.busy": "2023-03-09T09:28:06.928231Z",
     "iopub.status.idle": "2023-03-09T09:28:06.935939Z",
     "shell.execute_reply": "2023-03-09T09:28:06.934733Z"
    },
    "papermill": {
     "duration": 0.018265,
     "end_time": "2023-03-09T09:28:06.938262",
     "exception": false,
     "start_time": "2023-03-09T09:28:06.919997",
     "status": "completed"
    },
    "tags": []
   },
   "outputs": [],
   "source": [
    "#filtering the text\n",
    "def full_form(text):\n",
    "    text = text.lower()\n",
    "    plain = re.sub(r'[<>?\\.,!\"(\\)\\/[\\]]', '', text)\n",
    "    plain = plain.replace(\"don't\", \"do not\")\n",
    "    plain = plain.replace(\"won't\", \"will not\")\n",
    "    plain = plain.replace(\"haven't\", \"have not\")\n",
    "    plain = plain.replace(\"can't\", \"cannot\")\n",
    "    plain = plain.replace(\"she's\", \"she is\")\n",
    "    plain = plain.replace(\"he's\", \"he is\")\n",
    "    plain = plain.replace(\"there're\", \"there are\")\n",
    "    plain = plain.replace(\"they'd\", \"they would\")\n",
    "    plain = plain.replace(\"\\'ll\", \" will\")\n",
    "    return plain              "
   ]
  },
  {
   "cell_type": "code",
   "execution_count": 12,
   "id": "a1e322aa",
   "metadata": {
    "execution": {
     "iopub.execute_input": "2023-03-09T09:28:06.954057Z",
     "iopub.status.busy": "2023-03-09T09:28:06.953780Z",
     "iopub.status.idle": "2023-03-09T09:28:06.959152Z",
     "shell.execute_reply": "2023-03-09T09:28:06.958290Z"
    },
    "papermill": {
     "duration": 0.015629,
     "end_time": "2023-03-09T09:28:06.961304",
     "exception": false,
     "start_time": "2023-03-09T09:28:06.945675",
     "status": "completed"
    },
    "tags": []
   },
   "outputs": [],
   "source": [
    "#initialize the stemmer and lemmentizer\n",
    "stemmer = PorterStemmer()\n",
    "lemmatizer = WordNetLemmatizer()"
   ]
  },
  {
   "cell_type": "code",
   "execution_count": 13,
   "id": "1e1de2bf",
   "metadata": {
    "execution": {
     "iopub.execute_input": "2023-03-09T09:28:06.977828Z",
     "iopub.status.busy": "2023-03-09T09:28:06.977000Z",
     "iopub.status.idle": "2023-03-09T09:28:06.983233Z",
     "shell.execute_reply": "2023-03-09T09:28:06.982231Z"
    },
    "papermill": {
     "duration": 0.016676,
     "end_time": "2023-03-09T09:28:06.985489",
     "exception": false,
     "start_time": "2023-03-09T09:28:06.968813",
     "status": "completed"
    },
    "tags": []
   },
   "outputs": [],
   "source": [
    "#preprocessing  text \n",
    "def remove_stop_words(data):\n",
    "  corpus = []\n",
    "  for i in range(0, len(data)):\n",
    "    #split the sentence\n",
    "    plain = full_form(data['review'][i])\n",
    "    sentence = plain.split()\n",
    "    \n",
    "    #check and stem the word\n",
    "    review_processed = [stemmer.stem(word) for word in sentence if not word in stopwords.words('english')]\n",
    "    #rebuild the sentence\n",
    "    review_joint = ' '.join(review_processed)\n",
    "    #add the sentence into list\n",
    "    corpus.append(review_joint)\n",
    "  return corpus"
   ]
  },
  {
   "cell_type": "code",
   "execution_count": 14,
   "id": "2a5184fd",
   "metadata": {
    "execution": {
     "iopub.execute_input": "2023-03-09T09:28:07.001068Z",
     "iopub.status.busy": "2023-03-09T09:28:07.000784Z",
     "iopub.status.idle": "2023-03-09T09:30:51.660393Z",
     "shell.execute_reply": "2023-03-09T09:30:51.659355Z"
    },
    "papermill": {
     "duration": 164.670495,
     "end_time": "2023-03-09T09:30:51.663240",
     "exception": false,
     "start_time": "2023-03-09T09:28:06.992745",
     "status": "completed"
    },
    "tags": []
   },
   "outputs": [],
   "source": [
    "review_processed = remove_stop_words(df)"
   ]
  },
  {
   "cell_type": "code",
   "execution_count": 15,
   "id": "9211c7e4",
   "metadata": {
    "execution": {
     "iopub.execute_input": "2023-03-09T09:30:51.680189Z",
     "iopub.status.busy": "2023-03-09T09:30:51.679877Z",
     "iopub.status.idle": "2023-03-09T09:30:51.684223Z",
     "shell.execute_reply": "2023-03-09T09:30:51.683246Z"
    },
    "papermill": {
     "duration": 0.0152,
     "end_time": "2023-03-09T09:30:51.686384",
     "exception": false,
     "start_time": "2023-03-09T09:30:51.671184",
     "status": "completed"
    },
    "tags": []
   },
   "outputs": [],
   "source": [
    "#vocabular size\n",
    "voc_size = 5000"
   ]
  },
  {
   "cell_type": "code",
   "execution_count": 16,
   "id": "5589581f",
   "metadata": {
    "execution": {
     "iopub.execute_input": "2023-03-09T09:30:51.702227Z",
     "iopub.status.busy": "2023-03-09T09:30:51.701952Z",
     "iopub.status.idle": "2023-03-09T09:30:52.047958Z",
     "shell.execute_reply": "2023-03-09T09:30:52.046904Z"
    },
    "papermill": {
     "duration": 0.356609,
     "end_time": "2023-03-09T09:30:52.050476",
     "exception": false,
     "start_time": "2023-03-09T09:30:51.693867",
     "status": "completed"
    },
    "tags": []
   },
   "outputs": [],
   "source": [
    "#convert into one hot vector\n",
    "onehot_text = [one_hot(word, voc_size) for word in review_processed]"
   ]
  },
  {
   "cell_type": "code",
   "execution_count": 17,
   "id": "363216e8",
   "metadata": {
    "execution": {
     "iopub.execute_input": "2023-03-09T09:30:52.067074Z",
     "iopub.status.busy": "2023-03-09T09:30:52.066766Z",
     "iopub.status.idle": "2023-03-09T09:30:52.073591Z",
     "shell.execute_reply": "2023-03-09T09:30:52.072560Z"
    },
    "papermill": {
     "duration": 0.017685,
     "end_time": "2023-03-09T09:30:52.075782",
     "exception": false,
     "start_time": "2023-03-09T09:30:52.058097",
     "status": "completed"
    },
    "tags": []
   },
   "outputs": [
    {
     "data": {
      "text/plain": [
       "79"
      ]
     },
     "execution_count": 17,
     "metadata": {},
     "output_type": "execute_result"
    }
   ],
   "source": [
    "len(onehot_text[100])"
   ]
  },
  {
   "cell_type": "code",
   "execution_count": 18,
   "id": "54753c1f",
   "metadata": {
    "execution": {
     "iopub.execute_input": "2023-03-09T09:30:52.091724Z",
     "iopub.status.busy": "2023-03-09T09:30:52.091441Z",
     "iopub.status.idle": "2023-03-09T09:30:52.133156Z",
     "shell.execute_reply": "2023-03-09T09:30:52.132305Z"
    },
    "papermill": {
     "duration": 0.052125,
     "end_time": "2023-03-09T09:30:52.135164",
     "exception": false,
     "start_time": "2023-03-09T09:30:52.083039",
     "status": "completed"
    },
    "tags": []
   },
   "outputs": [],
   "source": [
    "#y train data\n",
    "y = df['sentiment']\n",
    "onehot_y = [one_hot(char,3) for char in y]"
   ]
  },
  {
   "cell_type": "code",
   "execution_count": 19,
   "id": "d1c34bfd",
   "metadata": {
    "execution": {
     "iopub.execute_input": "2023-03-09T09:30:52.151059Z",
     "iopub.status.busy": "2023-03-09T09:30:52.150785Z",
     "iopub.status.idle": "2023-03-09T09:30:52.156816Z",
     "shell.execute_reply": "2023-03-09T09:30:52.155874Z"
    },
    "papermill": {
     "duration": 0.016389,
     "end_time": "2023-03-09T09:30:52.158873",
     "exception": false,
     "start_time": "2023-03-09T09:30:52.142484",
     "status": "completed"
    },
    "tags": []
   },
   "outputs": [
    {
     "data": {
      "text/plain": [
       "[[1], [1], [1], [2], [1], [1], [1], [2], [2], [1]]"
      ]
     },
     "execution_count": 19,
     "metadata": {},
     "output_type": "execute_result"
    }
   ],
   "source": [
    "onehot_y[0:10]"
   ]
  },
  {
   "cell_type": "markdown",
   "id": "85a41e5f",
   "metadata": {
    "papermill": {
     "duration": 0.007288,
     "end_time": "2023-03-09T09:30:52.173503",
     "exception": false,
     "start_time": "2023-03-09T09:30:52.166215",
     "status": "completed"
    },
    "tags": []
   },
   "source": [
    "# Embedding"
   ]
  },
  {
   "cell_type": "code",
   "execution_count": 20,
   "id": "e165c875",
   "metadata": {
    "execution": {
     "iopub.execute_input": "2023-03-09T09:30:52.190179Z",
     "iopub.status.busy": "2023-03-09T09:30:52.189374Z",
     "iopub.status.idle": "2023-03-09T09:30:52.193974Z",
     "shell.execute_reply": "2023-03-09T09:30:52.193100Z"
    },
    "papermill": {
     "duration": 0.015339,
     "end_time": "2023-03-09T09:30:52.196242",
     "exception": false,
     "start_time": "2023-03-09T09:30:52.180903",
     "status": "completed"
    },
    "tags": []
   },
   "outputs": [],
   "source": [
    "sent_length = 200"
   ]
  },
  {
   "cell_type": "code",
   "execution_count": 21,
   "id": "7f8938ec",
   "metadata": {
    "execution": {
     "iopub.execute_input": "2023-03-09T09:30:52.212848Z",
     "iopub.status.busy": "2023-03-09T09:30:52.212588Z",
     "iopub.status.idle": "2023-03-09T09:30:52.255754Z",
     "shell.execute_reply": "2023-03-09T09:30:52.254856Z"
    },
    "papermill": {
     "duration": 0.05385,
     "end_time": "2023-03-09T09:30:52.257928",
     "exception": false,
     "start_time": "2023-03-09T09:30:52.204078",
     "status": "completed"
    },
    "tags": []
   },
   "outputs": [],
   "source": [
    "#embedding\n",
    "embedd_docs = pad_sequences(onehot_text, padding='post', maxlen=sent_length)"
   ]
  },
  {
   "cell_type": "code",
   "execution_count": 22,
   "id": "688aec6f",
   "metadata": {
    "execution": {
     "iopub.execute_input": "2023-03-09T09:30:52.275247Z",
     "iopub.status.busy": "2023-03-09T09:30:52.274471Z",
     "iopub.status.idle": "2023-03-09T09:30:52.281643Z",
     "shell.execute_reply": "2023-03-09T09:30:52.280324Z"
    },
    "papermill": {
     "duration": 0.017737,
     "end_time": "2023-03-09T09:30:52.283694",
     "exception": false,
     "start_time": "2023-03-09T09:30:52.265957",
     "status": "completed"
    },
    "tags": []
   },
   "outputs": [
    {
     "data": {
      "text/plain": [
       "(165, 165)"
      ]
     },
     "execution_count": 22,
     "metadata": {},
     "output_type": "execute_result"
    }
   ],
   "source": [
    "len(review_processed[0].split()), len(onehot_text[0])"
   ]
  },
  {
   "cell_type": "code",
   "execution_count": 23,
   "id": "eceedbda",
   "metadata": {
    "execution": {
     "iopub.execute_input": "2023-03-09T09:30:52.300708Z",
     "iopub.status.busy": "2023-03-09T09:30:52.300185Z",
     "iopub.status.idle": "2023-03-09T09:30:52.307827Z",
     "shell.execute_reply": "2023-03-09T09:30:52.306807Z"
    },
    "papermill": {
     "duration": 0.018485,
     "end_time": "2023-03-09T09:30:52.309751",
     "exception": false,
     "start_time": "2023-03-09T09:30:52.291266",
     "status": "completed"
    },
    "tags": []
   },
   "outputs": [
    {
     "data": {
      "text/plain": [
       "array([  68, 1154, 2814, 2013,   68, 3534, 1496,  216,  922,  256,    2,\n",
       "       4054, 2395, 4131, 1761, 4535, 3534, 3386, 2417, 2850, 2098, 4387,\n",
       "        922, 2296, 4330, 1480, 2333, 4985, 4813, 4460, 2333, 1646, 4761,\n",
       "       1283, 2270, 2146, 2098,  429, 4476,  878, 3062, 2395,  922, 3534,\n",
       "       1268, 2821, 4318, 1060, 3219, 2824, 2440,  975, 2976, 4934, 1572,\n",
       "       3443, 3566, 4449, 1798, 3822, 2663,  373, 4439,  693, 2856, 4801,\n",
       "       3369, 1572, 1670, 4059, 2484, 1683, 1999,  946, 4771, 2388,   24,\n",
       "       2265, 3374, 1921, 4328, 1618, 3833, 1822, 4398, 1031, 4205, 2395,\n",
       "       4790, 3058, 2500, 2657, 2333, 4176,   72,  644, 2333, 2884, 2875,\n",
       "        892, 3014, 4660, 3315,  208, 2875,  160, 2875, 2218, 4068, 3725,\n",
       "       4131, 1496, 3731,  611, 4535, 4199, 1169, 3058, 1563, 2013, 3706,\n",
       "        208, 3534, 4573, 2716, 2856, 4940, 1035, 2098, 2098, 3018, 4033,\n",
       "       4361,  100, 2086,  496,  896, 3196, 4107, 1392, 2007, 3375, 2207,\n",
       "       2162,  496, 2476, 4449, 1380, 4176, 4370,  997, 2247, 4449, 3543,\n",
       "       2013, 3534,  347, 3458, 1408, 3672, 3240, 4107, 3922,  870, 3330,\n",
       "          0,    0,    0,    0,    0,    0,    0,    0,    0,    0,    0,\n",
       "          0,    0,    0,    0,    0,    0,    0,    0,    0,    0,    0,\n",
       "          0,    0,    0,    0,    0,    0,    0,    0,    0,    0,    0,\n",
       "          0,    0], dtype=int32)"
      ]
     },
     "execution_count": 23,
     "metadata": {},
     "output_type": "execute_result"
    }
   ],
   "source": [
    "embedd_docs[0]"
   ]
  },
  {
   "cell_type": "code",
   "execution_count": 24,
   "id": "b23cc6d3",
   "metadata": {
    "execution": {
     "iopub.execute_input": "2023-03-09T09:30:52.326495Z",
     "iopub.status.busy": "2023-03-09T09:30:52.325732Z",
     "iopub.status.idle": "2023-03-09T09:30:52.332066Z",
     "shell.execute_reply": "2023-03-09T09:30:52.331016Z"
    },
    "papermill": {
     "duration": 0.01736,
     "end_time": "2023-03-09T09:30:52.334658",
     "exception": false,
     "start_time": "2023-03-09T09:30:52.317298",
     "status": "completed"
    },
    "tags": []
   },
   "outputs": [
    {
     "data": {
      "text/plain": [
       "(5000, 5000)"
      ]
     },
     "execution_count": 24,
     "metadata": {},
     "output_type": "execute_result"
    }
   ],
   "source": [
    "#shape of data\n",
    "len(embedd_docs), len(onehot_y)"
   ]
  },
  {
   "cell_type": "code",
   "execution_count": 25,
   "id": "03af0b5c",
   "metadata": {
    "execution": {
     "iopub.execute_input": "2023-03-09T09:30:52.351276Z",
     "iopub.status.busy": "2023-03-09T09:30:52.351016Z",
     "iopub.status.idle": "2023-03-09T09:30:52.360328Z",
     "shell.execute_reply": "2023-03-09T09:30:52.359382Z"
    },
    "papermill": {
     "duration": 0.020052,
     "end_time": "2023-03-09T09:30:52.362414",
     "exception": false,
     "start_time": "2023-03-09T09:30:52.342362",
     "status": "completed"
    },
    "tags": []
   },
   "outputs": [],
   "source": [
    "#convert into numpy array\n",
    "X_data = np.array(embedd_docs)\n",
    "y_data = np.array(onehot_y)\n",
    "#y_data = np.squeeze(y_data)"
   ]
  },
  {
   "cell_type": "code",
   "execution_count": 26,
   "id": "5d365691",
   "metadata": {
    "execution": {
     "iopub.execute_input": "2023-03-09T09:30:52.378995Z",
     "iopub.status.busy": "2023-03-09T09:30:52.378733Z",
     "iopub.status.idle": "2023-03-09T09:30:52.384268Z",
     "shell.execute_reply": "2023-03-09T09:30:52.383344Z"
    },
    "papermill": {
     "duration": 0.016136,
     "end_time": "2023-03-09T09:30:52.386302",
     "exception": false,
     "start_time": "2023-03-09T09:30:52.370166",
     "status": "completed"
    },
    "tags": []
   },
   "outputs": [
    {
     "data": {
      "text/plain": [
       "((5000, 200), (5000, 1))"
      ]
     },
     "execution_count": 26,
     "metadata": {},
     "output_type": "execute_result"
    }
   ],
   "source": [
    "X_data.shape, y_data.shape"
   ]
  },
  {
   "cell_type": "code",
   "execution_count": 27,
   "id": "e83e1fd4",
   "metadata": {
    "execution": {
     "iopub.execute_input": "2023-03-09T09:30:52.403366Z",
     "iopub.status.busy": "2023-03-09T09:30:52.402588Z",
     "iopub.status.idle": "2023-03-09T09:30:52.412448Z",
     "shell.execute_reply": "2023-03-09T09:30:52.411570Z"
    },
    "papermill": {
     "duration": 0.020526,
     "end_time": "2023-03-09T09:30:52.414520",
     "exception": false,
     "start_time": "2023-03-09T09:30:52.393994",
     "status": "completed"
    },
    "tags": []
   },
   "outputs": [],
   "source": [
    "#split dataset for training and testing\n",
    "X_train, X_test, y_train, y_test = train_test_split(X_data, y_data, test_size=0.3, random_state=42)"
   ]
  },
  {
   "cell_type": "code",
   "execution_count": 28,
   "id": "ebea3fad",
   "metadata": {
    "execution": {
     "iopub.execute_input": "2023-03-09T09:30:52.431757Z",
     "iopub.status.busy": "2023-03-09T09:30:52.430846Z",
     "iopub.status.idle": "2023-03-09T09:30:52.437119Z",
     "shell.execute_reply": "2023-03-09T09:30:52.435527Z"
    },
    "papermill": {
     "duration": 0.017681,
     "end_time": "2023-03-09T09:30:52.439907",
     "exception": false,
     "start_time": "2023-03-09T09:30:52.422226",
     "status": "completed"
    },
    "tags": []
   },
   "outputs": [
    {
     "name": "stdout",
     "output_type": "stream",
     "text": [
      "training: (3500, 200) - (3500, 1)\n",
      "testing: (1500, 200) - (1500, 1)\n"
     ]
    }
   ],
   "source": [
    "print(f'training: {X_train.shape} - {y_train.shape}')\n",
    "print(f'testing: {X_test.shape} - {y_test.shape}')"
   ]
  },
  {
   "cell_type": "code",
   "execution_count": 29,
   "id": "db200430",
   "metadata": {
    "execution": {
     "iopub.execute_input": "2023-03-09T09:30:52.458139Z",
     "iopub.status.busy": "2023-03-09T09:30:52.457236Z",
     "iopub.status.idle": "2023-03-09T09:30:52.463797Z",
     "shell.execute_reply": "2023-03-09T09:30:52.462727Z"
    },
    "papermill": {
     "duration": 0.017525,
     "end_time": "2023-03-09T09:30:52.465893",
     "exception": false,
     "start_time": "2023-03-09T09:30:52.448368",
     "status": "completed"
    },
    "tags": []
   },
   "outputs": [
    {
     "data": {
      "text/plain": [
       "array([[1],\n",
       "       [1],\n",
       "       [2],\n",
       "       ...,\n",
       "       [1],\n",
       "       [2],\n",
       "       [1]])"
      ]
     },
     "execution_count": 29,
     "metadata": {},
     "output_type": "execute_result"
    }
   ],
   "source": [
    "y_train"
   ]
  },
  {
   "cell_type": "markdown",
   "id": "dd7cc36c",
   "metadata": {
    "papermill": {
     "duration": 0.008317,
     "end_time": "2023-03-09T09:30:52.482128",
     "exception": false,
     "start_time": "2023-03-09T09:30:52.473811",
     "status": "completed"
    },
    "tags": []
   },
   "source": [
    "# Model"
   ]
  },
  {
   "cell_type": "code",
   "execution_count": 30,
   "id": "5375e59b",
   "metadata": {
    "execution": {
     "iopub.execute_input": "2023-03-09T09:30:52.499945Z",
     "iopub.status.busy": "2023-03-09T09:30:52.499056Z",
     "iopub.status.idle": "2023-03-09T09:30:56.432797Z",
     "shell.execute_reply": "2023-03-09T09:30:56.432010Z"
    },
    "papermill": {
     "duration": 3.955914,
     "end_time": "2023-03-09T09:30:56.446185",
     "exception": false,
     "start_time": "2023-03-09T09:30:52.490271",
     "status": "completed"
    },
    "tags": []
   },
   "outputs": [
    {
     "name": "stdout",
     "output_type": "stream",
     "text": [
      "Model: \"sequential\"\n",
      "_________________________________________________________________\n",
      " Layer (type)                Output Shape              Param #   \n",
      "=================================================================\n",
      " embedding (Embedding)       (None, 200, 40)           200000    \n",
      "                                                                 \n",
      " lstm (LSTM)                 (None, 200, 512)          1132544   \n",
      "                                                                 \n",
      " dense (Dense)               (None, 200, 16)           8208      \n",
      "                                                                 \n",
      " dense_1 (Dense)             (None, 200, 16)           272       \n",
      "                                                                 \n",
      " dense_2 (Dense)             (None, 200, 8)            136       \n",
      "                                                                 \n",
      " dense_3 (Dense)             (None, 200, 1)            9         \n",
      "                                                                 \n",
      "=================================================================\n",
      "Total params: 1,341,169\n",
      "Trainable params: 1,341,169\n",
      "Non-trainable params: 0\n",
      "_________________________________________________________________\n"
     ]
    }
   ],
   "source": [
    "#embed vector that represents each token by 40 featured vector\n",
    "embed_vect = 40\n",
    "model = Sequential()\n",
    "model.add(Embedding(voc_size, embed_vect, input_length=sent_length))\n",
    "model.add(LSTM(512, return_sequences=True, input_shape=(200,1)))\n",
    "#model.add(LSTM(512, return_sequences=True))\n",
    "model.add(Dense(units=16, activation='relu', input_dim=X_train.shape[1]))\n",
    "model.add(Dense(units=16, activation='relu'))\n",
    "model.add(Dense(units=8, activation='relu'))\n",
    "model.add(Dense(units=1,activation='sigmoid'))\n",
    "model.compile(loss='binary_crossentropy', optimizer='rmsprop', metrics=['accuracy'])\n",
    "model.summary()"
   ]
  },
  {
   "cell_type": "code",
   "execution_count": 31,
   "id": "2578b657",
   "metadata": {
    "execution": {
     "iopub.execute_input": "2023-03-09T09:30:56.466178Z",
     "iopub.status.busy": "2023-03-09T09:30:56.465879Z",
     "iopub.status.idle": "2023-03-09T09:33:19.118972Z",
     "shell.execute_reply": "2023-03-09T09:33:19.117999Z"
    },
    "papermill": {
     "duration": 142.665483,
     "end_time": "2023-03-09T09:33:19.121173",
     "exception": false,
     "start_time": "2023-03-09T09:30:56.455690",
     "status": "completed"
    },
    "tags": []
   },
   "outputs": [
    {
     "name": "stdout",
     "output_type": "stream",
     "text": [
      "Epoch 1/10\n",
      "219/219 [==============================] - 39s 144ms/step - loss: -7.3652 - accuracy: 0.4997 - val_loss: -7.9601 - val_accuracy: 0.4780\n",
      "Epoch 2/10\n",
      "219/219 [==============================] - 19s 89ms/step - loss: -7.6203 - accuracy: 0.5003 - val_loss: -7.9601 - val_accuracy: 0.4780\n",
      "Epoch 3/10\n",
      "219/219 [==============================] - 15s 69ms/step - loss: -7.6203 - accuracy: 0.5003 - val_loss: -7.9601 - val_accuracy: 0.4780\n",
      "Epoch 4/10\n",
      "219/219 [==============================] - 12s 56ms/step - loss: -7.6203 - accuracy: 0.5003 - val_loss: -7.9601 - val_accuracy: 0.4780\n",
      "Epoch 5/10\n",
      "219/219 [==============================] - 10s 47ms/step - loss: -7.6203 - accuracy: 0.5003 - val_loss: -7.9601 - val_accuracy: 0.4780\n",
      "Epoch 6/10\n",
      "219/219 [==============================] - 10s 43ms/step - loss: -7.6203 - accuracy: 0.5003 - val_loss: -7.9601 - val_accuracy: 0.4780\n",
      "Epoch 7/10\n",
      "219/219 [==============================] - 9s 43ms/step - loss: -7.6203 - accuracy: 0.5003 - val_loss: -7.9601 - val_accuracy: 0.4780\n",
      "Epoch 8/10\n",
      "219/219 [==============================] - 9s 42ms/step - loss: -7.6203 - accuracy: 0.5003 - val_loss: -7.9601 - val_accuracy: 0.4780\n",
      "Epoch 9/10\n",
      "219/219 [==============================] - 9s 41ms/step - loss: -7.6203 - accuracy: 0.5003 - val_loss: -7.9601 - val_accuracy: 0.4780\n",
      "Epoch 10/10\n",
      "219/219 [==============================] - 9s 41ms/step - loss: -7.6203 - accuracy: 0.5003 - val_loss: -7.9601 - val_accuracy: 0.4780\n"
     ]
    },
    {
     "data": {
      "text/plain": [
       "<keras.callbacks.History at 0x7fd0ebfd8090>"
      ]
     },
     "execution_count": 31,
     "metadata": {},
     "output_type": "execute_result"
    }
   ],
   "source": [
    "model.fit(X_train, y_train, validation_data=(X_test, y_test), epochs=10, batch_size=16)"
   ]
  },
  {
   "cell_type": "code",
   "execution_count": 32,
   "id": "2943a951",
   "metadata": {
    "execution": {
     "iopub.execute_input": "2023-03-09T09:33:19.271623Z",
     "iopub.status.busy": "2023-03-09T09:33:19.271269Z",
     "iopub.status.idle": "2023-03-09T09:33:19.955776Z",
     "shell.execute_reply": "2023-03-09T09:33:19.954650Z"
    },
    "papermill": {
     "duration": 0.761465,
     "end_time": "2023-03-09T09:33:19.958488",
     "exception": false,
     "start_time": "2023-03-09T09:33:19.197023",
     "status": "completed"
    },
    "tags": []
   },
   "outputs": [
    {
     "name": "stdout",
     "output_type": "stream",
     "text": [
      "47/47 [==============================] - 1s 13ms/step - loss: -7.9601 - accuracy: 0.4780\n"
     ]
    },
    {
     "data": {
      "text/plain": [
       "[-7.9601030349731445, 0.4779999852180481]"
      ]
     },
     "execution_count": 32,
     "metadata": {},
     "output_type": "execute_result"
    }
   ],
   "source": [
    "model.evaluate(X_test, y_test)"
   ]
  },
  {
   "cell_type": "code",
   "execution_count": null,
   "id": "8b1ef782",
   "metadata": {
    "papermill": {
     "duration": 0.079349,
     "end_time": "2023-03-09T09:33:20.118889",
     "exception": false,
     "start_time": "2023-03-09T09:33:20.039540",
     "status": "completed"
    },
    "tags": []
   },
   "outputs": [],
   "source": []
  }
 ],
 "metadata": {
  "kernelspec": {
   "display_name": "Python 3",
   "language": "python",
   "name": "python3"
  },
  "language_info": {
   "codemirror_mode": {
    "name": "ipython",
    "version": 3
   },
   "file_extension": ".py",
   "mimetype": "text/x-python",
   "name": "python",
   "nbconvert_exporter": "python",
   "pygments_lexer": "ipython3",
   "version": "3.7.12"
  },
  "papermill": {
   "default_parameters": {},
   "duration": 334.787284,
   "end_time": "2023-03-09T09:33:23.672989",
   "environment_variables": {},
   "exception": null,
   "input_path": "__notebook__.ipynb",
   "output_path": "__notebook__.ipynb",
   "parameters": {},
   "start_time": "2023-03-09T09:27:48.885705",
   "version": "2.4.0"
  }
 },
 "nbformat": 4,
 "nbformat_minor": 5
}
