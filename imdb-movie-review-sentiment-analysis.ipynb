{
 "cells": [
  {
   "cell_type": "code",
   "execution_count": 1,
   "id": "c284ff17",
   "metadata": {
    "execution": {
     "iopub.execute_input": "2023-03-08T17:36:48.034213Z",
     "iopub.status.busy": "2023-03-08T17:36:48.033735Z",
     "iopub.status.idle": "2023-03-08T17:36:59.414259Z",
     "shell.execute_reply": "2023-03-08T17:36:59.412346Z"
    },
    "papermill": {
     "duration": 11.390482,
     "end_time": "2023-03-08T17:36:59.417844",
     "exception": false,
     "start_time": "2023-03-08T17:36:48.027362",
     "status": "completed"
    },
    "tags": []
   },
   "outputs": [],
   "source": [
    "import pandas as pd\n",
    "import numpy as np\n",
    "import re\n",
    "import nltk\n",
    "import tensorflow as tf\n",
    "from tensorflow.keras.layers import LSTM, Dense\n",
    "from tensorflow.keras.models import Model\n",
    "from sklearn.model_selection import train_test_split\n",
    "from sklearn.metrics import confusion_matrix"
   ]
  },
  {
   "cell_type": "code",
   "execution_count": 2,
   "id": "dabad574",
   "metadata": {
    "execution": {
     "iopub.execute_input": "2023-03-08T17:36:59.428136Z",
     "iopub.status.busy": "2023-03-08T17:36:59.427265Z",
     "iopub.status.idle": "2023-03-08T17:37:01.271305Z",
     "shell.execute_reply": "2023-03-08T17:37:01.269724Z"
    },
    "papermill": {
     "duration": 1.852828,
     "end_time": "2023-03-08T17:37:01.274720",
     "exception": false,
     "start_time": "2023-03-08T17:36:59.421892",
     "status": "completed"
    },
    "tags": []
   },
   "outputs": [],
   "source": [
    "data = pd.read_csv(\"/kaggle/input/imdb-dataset-of-50k-movie-reviews/IMDB Dataset.csv\")"
   ]
  },
  {
   "cell_type": "code",
   "execution_count": 3,
   "id": "c7745768",
   "metadata": {
    "execution": {
     "iopub.execute_input": "2023-03-08T17:37:01.283761Z",
     "iopub.status.busy": "2023-03-08T17:37:01.282898Z",
     "iopub.status.idle": "2023-03-08T17:37:01.293515Z",
     "shell.execute_reply": "2023-03-08T17:37:01.292013Z"
    },
    "papermill": {
     "duration": 0.018009,
     "end_time": "2023-03-08T17:37:01.296220",
     "exception": false,
     "start_time": "2023-03-08T17:37:01.278211",
     "status": "completed"
    },
    "tags": []
   },
   "outputs": [
    {
     "data": {
      "text/plain": [
       "(50000, 2)"
      ]
     },
     "execution_count": 3,
     "metadata": {},
     "output_type": "execute_result"
    }
   ],
   "source": [
    "data.shape"
   ]
  },
  {
   "cell_type": "code",
   "execution_count": 4,
   "id": "301ae95b",
   "metadata": {
    "execution": {
     "iopub.execute_input": "2023-03-08T17:37:01.306174Z",
     "iopub.status.busy": "2023-03-08T17:37:01.305099Z",
     "iopub.status.idle": "2023-03-08T17:37:01.314530Z",
     "shell.execute_reply": "2023-03-08T17:37:01.313281Z"
    },
    "papermill": {
     "duration": 0.017483,
     "end_time": "2023-03-08T17:37:01.317302",
     "exception": false,
     "start_time": "2023-03-08T17:37:01.299819",
     "status": "completed"
    },
    "tags": []
   },
   "outputs": [
    {
     "data": {
      "text/plain": [
       "Index(['review', 'sentiment'], dtype='object')"
      ]
     },
     "execution_count": 4,
     "metadata": {},
     "output_type": "execute_result"
    }
   ],
   "source": [
    "data.columns"
   ]
  },
  {
   "cell_type": "code",
   "execution_count": 5,
   "id": "7a369f2e",
   "metadata": {
    "execution": {
     "iopub.execute_input": "2023-03-08T17:37:01.327509Z",
     "iopub.status.busy": "2023-03-08T17:37:01.326736Z",
     "iopub.status.idle": "2023-03-08T17:37:01.367142Z",
     "shell.execute_reply": "2023-03-08T17:37:01.366242Z"
    },
    "papermill": {
     "duration": 0.04862,
     "end_time": "2023-03-08T17:37:01.369925",
     "exception": false,
     "start_time": "2023-03-08T17:37:01.321305",
     "status": "completed"
    },
    "tags": []
   },
   "outputs": [
    {
     "name": "stdout",
     "output_type": "stream",
     "text": [
      "<class 'pandas.core.frame.DataFrame'>\n",
      "RangeIndex: 50000 entries, 0 to 49999\n",
      "Data columns (total 2 columns):\n",
      " #   Column     Non-Null Count  Dtype \n",
      "---  ------     --------------  ----- \n",
      " 0   review     50000 non-null  object\n",
      " 1   sentiment  50000 non-null  object\n",
      "dtypes: object(2)\n",
      "memory usage: 781.4+ KB\n"
     ]
    }
   ],
   "source": [
    "data.info()"
   ]
  },
  {
   "cell_type": "code",
   "execution_count": 6,
   "id": "a36cd14c",
   "metadata": {
    "execution": {
     "iopub.execute_input": "2023-03-08T17:37:01.380267Z",
     "iopub.status.busy": "2023-03-08T17:37:01.379842Z",
     "iopub.status.idle": "2023-03-08T17:37:01.402912Z",
     "shell.execute_reply": "2023-03-08T17:37:01.401445Z"
    },
    "papermill": {
     "duration": 0.032348,
     "end_time": "2023-03-08T17:37:01.406250",
     "exception": false,
     "start_time": "2023-03-08T17:37:01.373902",
     "status": "completed"
    },
    "tags": []
   },
   "outputs": [
    {
     "data": {
      "text/html": [
       "<div>\n",
       "<style scoped>\n",
       "    .dataframe tbody tr th:only-of-type {\n",
       "        vertical-align: middle;\n",
       "    }\n",
       "\n",
       "    .dataframe tbody tr th {\n",
       "        vertical-align: top;\n",
       "    }\n",
       "\n",
       "    .dataframe thead th {\n",
       "        text-align: right;\n",
       "    }\n",
       "</style>\n",
       "<table border=\"1\" class=\"dataframe\">\n",
       "  <thead>\n",
       "    <tr style=\"text-align: right;\">\n",
       "      <th></th>\n",
       "      <th>review</th>\n",
       "      <th>sentiment</th>\n",
       "    </tr>\n",
       "  </thead>\n",
       "  <tbody>\n",
       "    <tr>\n",
       "      <th>0</th>\n",
       "      <td>One of the other reviewers has mentioned that ...</td>\n",
       "      <td>positive</td>\n",
       "    </tr>\n",
       "    <tr>\n",
       "      <th>1</th>\n",
       "      <td>A wonderful little production. &lt;br /&gt;&lt;br /&gt;The...</td>\n",
       "      <td>positive</td>\n",
       "    </tr>\n",
       "    <tr>\n",
       "      <th>2</th>\n",
       "      <td>I thought this was a wonderful way to spend ti...</td>\n",
       "      <td>positive</td>\n",
       "    </tr>\n",
       "    <tr>\n",
       "      <th>3</th>\n",
       "      <td>Basically there's a family where a little boy ...</td>\n",
       "      <td>negative</td>\n",
       "    </tr>\n",
       "    <tr>\n",
       "      <th>4</th>\n",
       "      <td>Petter Mattei's \"Love in the Time of Money\" is...</td>\n",
       "      <td>positive</td>\n",
       "    </tr>\n",
       "  </tbody>\n",
       "</table>\n",
       "</div>"
      ],
      "text/plain": [
       "                                              review sentiment\n",
       "0  One of the other reviewers has mentioned that ...  positive\n",
       "1  A wonderful little production. <br /><br />The...  positive\n",
       "2  I thought this was a wonderful way to spend ti...  positive\n",
       "3  Basically there's a family where a little boy ...  negative\n",
       "4  Petter Mattei's \"Love in the Time of Money\" is...  positive"
      ]
     },
     "execution_count": 6,
     "metadata": {},
     "output_type": "execute_result"
    }
   ],
   "source": [
    "data.head()"
   ]
  },
  {
   "cell_type": "code",
   "execution_count": 7,
   "id": "250c448a",
   "metadata": {
    "execution": {
     "iopub.execute_input": "2023-03-08T17:37:01.417130Z",
     "iopub.status.busy": "2023-03-08T17:37:01.416398Z",
     "iopub.status.idle": "2023-03-08T17:37:01.424502Z",
     "shell.execute_reply": "2023-03-08T17:37:01.423054Z"
    },
    "papermill": {
     "duration": 0.017085,
     "end_time": "2023-03-08T17:37:01.427757",
     "exception": false,
     "start_time": "2023-03-08T17:37:01.410672",
     "status": "completed"
    },
    "tags": []
   },
   "outputs": [],
   "source": [
    "def full_form(text):\n",
    "    text = text.lower()\n",
    "    plain = re.sub(r'[<>?\\.,\"\\[\\]]', '', text)\n",
    "    plain = plain.replace(\"don't\", \"do not\")\n",
    "    plain = plain.replace(\"won't\", \"will not\")\n",
    "    plain = plain.replace(\"haven't\", \"have not\")\n",
    "    plain = plain.replace(\"can't\", \"cannot\")\n",
    "    plain = plain.replace(\"she's\", \"she is\")\n",
    "    plain = plain.replace(\"he's\", \"he is\")\n",
    "    plain = plain.replace(\"there're\", \"there are\")\n",
    "    plain = plain.replace(\"they'd\", \"they would\")\n",
    "    plain = plain.replace(\"\\'ll\", \" will\")\n",
    "    return plain              "
   ]
  },
  {
   "cell_type": "code",
   "execution_count": 8,
   "id": "e83115dd",
   "metadata": {
    "execution": {
     "iopub.execute_input": "2023-03-08T17:37:01.437593Z",
     "iopub.status.busy": "2023-03-08T17:37:01.437198Z",
     "iopub.status.idle": "2023-03-08T17:37:01.442964Z",
     "shell.execute_reply": "2023-03-08T17:37:01.441280Z"
    },
    "papermill": {
     "duration": 0.013727,
     "end_time": "2023-03-08T17:37:01.445505",
     "exception": false,
     "start_time": "2023-03-08T17:37:01.431778",
     "status": "completed"
    },
    "tags": []
   },
   "outputs": [],
   "source": [
    "text = \"<hi> [br] \\\"is State. they'll, she's\""
   ]
  },
  {
   "cell_type": "code",
   "execution_count": 9,
   "id": "fe9a3539",
   "metadata": {
    "execution": {
     "iopub.execute_input": "2023-03-08T17:37:01.455126Z",
     "iopub.status.busy": "2023-03-08T17:37:01.454699Z",
     "iopub.status.idle": "2023-03-08T17:37:01.462843Z",
     "shell.execute_reply": "2023-03-08T17:37:01.461209Z"
    },
    "papermill": {
     "duration": 0.016001,
     "end_time": "2023-03-08T17:37:01.465337",
     "exception": false,
     "start_time": "2023-03-08T17:37:01.449336",
     "status": "completed"
    },
    "tags": []
   },
   "outputs": [
    {
     "data": {
      "text/plain": [
       "'hi br is state they will she is'"
      ]
     },
     "execution_count": 9,
     "metadata": {},
     "output_type": "execute_result"
    }
   ],
   "source": [
    "full_form(text)"
   ]
  },
  {
   "cell_type": "code",
   "execution_count": null,
   "id": "a9097d91",
   "metadata": {
    "papermill": {
     "duration": 0.003517,
     "end_time": "2023-03-08T17:37:01.472800",
     "exception": false,
     "start_time": "2023-03-08T17:37:01.469283",
     "status": "completed"
    },
    "tags": []
   },
   "outputs": [],
   "source": []
  }
 ],
 "metadata": {
  "kernelspec": {
   "display_name": "Python 3",
   "language": "python",
   "name": "python3"
  },
  "language_info": {
   "codemirror_mode": {
    "name": "ipython",
    "version": 3
   },
   "file_extension": ".py",
   "mimetype": "text/x-python",
   "name": "python",
   "nbconvert_exporter": "python",
   "pygments_lexer": "ipython3",
   "version": "3.7.12"
  },
  "papermill": {
   "default_parameters": {},
   "duration": 27.7751,
   "end_time": "2023-03-08T17:37:05.013163",
   "environment_variables": {},
   "exception": null,
   "input_path": "__notebook__.ipynb",
   "output_path": "__notebook__.ipynb",
   "parameters": {},
   "start_time": "2023-03-08T17:36:37.238063",
   "version": "2.4.0"
  }
 },
 "nbformat": 4,
 "nbformat_minor": 5
}
