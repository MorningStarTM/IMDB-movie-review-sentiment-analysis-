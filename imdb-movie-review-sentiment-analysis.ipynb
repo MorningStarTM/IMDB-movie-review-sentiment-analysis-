{
 "cells": [
  {
   "cell_type": "code",
   "execution_count": 1,
   "metadata": {
    "execution": {
     "iopub.execute_input": "2023-03-13T11:20:08.132169Z",
     "iopub.status.busy": "2023-03-13T11:20:08.131746Z",
     "iopub.status.idle": "2023-03-13T11:20:08.138956Z",
     "shell.execute_reply": "2023-03-13T11:20:08.137924Z",
     "shell.execute_reply.started": "2023-03-13T11:20:08.132134Z"
    }
   },
   "outputs": [],
   "source": [
    "import pandas as pd\n",
    "import numpy as np\n",
    "import re\n",
    "import spacy\n",
    "import tensorflow as tf\n",
    "from tensorflow.keras.layers import LSTM, Dense, Embedding\n",
    "from tensorflow.keras.layers import ReLU\n",
    "from tensorflow.keras.preprocessing.sequence import pad_sequences\n",
    "from tensorflow.keras.preprocessing.text import one_hot\n",
    "from tensorflow.keras.models import Model, Sequential\n",
    "from sklearn.model_selection import train_test_split\n",
    "from sklearn.metrics import confusion_matrix\n",
    "from sklearn.metrics import accuracy_score"
   ]
  },
  {
   "cell_type": "code",
   "execution_count": 2,
   "metadata": {
    "execution": {
     "iopub.execute_input": "2023-03-13T10:38:05.112126Z",
     "iopub.status.busy": "2023-03-13T10:38:05.111724Z",
     "iopub.status.idle": "2023-03-13T10:38:06.530795Z",
     "shell.execute_reply": "2023-03-13T10:38:06.528096Z",
     "shell.execute_reply.started": "2023-03-13T10:38:05.112092Z"
    }
   },
   "outputs": [],
   "source": [
    "#read data\n",
    "data = pd.read_csv(\"C:\\\\Users\\\\Dark-Devil\\\\Desktop\\\\IMDB Dataset.csv\")"
   ]
  },
  {
   "cell_type": "code",
   "execution_count": 3,
   "metadata": {
    "execution": {
     "iopub.execute_input": "2023-03-13T10:38:06.533039Z",
     "iopub.status.busy": "2023-03-13T10:38:06.532685Z",
     "iopub.status.idle": "2023-03-13T10:38:06.548791Z",
     "shell.execute_reply": "2023-03-13T10:38:06.547282Z",
     "shell.execute_reply.started": "2023-03-13T10:38:06.533003Z"
    }
   },
   "outputs": [
    {
     "data": {
      "text/plain": [
       "(50000, 2)"
      ]
     },
     "execution_count": 3,
     "metadata": {},
     "output_type": "execute_result"
    }
   ],
   "source": [
    "#size of data\n",
    "data.shape"
   ]
  },
  {
   "cell_type": "code",
   "execution_count": 4,
   "metadata": {
    "execution": {
     "iopub.execute_input": "2023-03-13T10:38:07.459056Z",
     "iopub.status.busy": "2023-03-13T10:38:07.458683Z",
     "iopub.status.idle": "2023-03-13T10:38:07.466539Z",
     "shell.execute_reply": "2023-03-13T10:38:07.465521Z",
     "shell.execute_reply.started": "2023-03-13T10:38:07.459020Z"
    }
   },
   "outputs": [
    {
     "data": {
      "text/plain": [
       "Index(['review', 'sentiment'], dtype='object')"
      ]
     },
     "execution_count": 4,
     "metadata": {},
     "output_type": "execute_result"
    }
   ],
   "source": [
    "data.columns"
   ]
  },
  {
   "cell_type": "code",
   "execution_count": 5,
   "metadata": {
    "execution": {
     "iopub.execute_input": "2023-03-13T10:38:10.164799Z",
     "iopub.status.busy": "2023-03-13T10:38:10.163860Z",
     "iopub.status.idle": "2023-03-13T10:38:10.202187Z",
     "shell.execute_reply": "2023-03-13T10:38:10.200742Z",
     "shell.execute_reply.started": "2023-03-13T10:38:10.164750Z"
    }
   },
   "outputs": [
    {
     "name": "stdout",
     "output_type": "stream",
     "text": [
      "<class 'pandas.core.frame.DataFrame'>\n",
      "RangeIndex: 50000 entries, 0 to 49999\n",
      "Data columns (total 2 columns):\n",
      " #   Column     Non-Null Count  Dtype \n",
      "---  ------     --------------  ----- \n",
      " 0   review     50000 non-null  object\n",
      " 1   sentiment  50000 non-null  object\n",
      "dtypes: object(2)\n",
      "memory usage: 781.4+ KB\n"
     ]
    }
   ],
   "source": [
    "#check null value \n",
    "data.info()"
   ]
  },
  {
   "cell_type": "code",
   "execution_count": 6,
   "metadata": {
    "execution": {
     "iopub.execute_input": "2023-03-13T10:38:10.260910Z",
     "iopub.status.busy": "2023-03-13T10:38:10.260247Z",
     "iopub.status.idle": "2023-03-13T10:38:10.274602Z",
     "shell.execute_reply": "2023-03-13T10:38:10.273566Z",
     "shell.execute_reply.started": "2023-03-13T10:38:10.260879Z"
    }
   },
   "outputs": [
    {
     "data": {
      "text/html": [
       "<div>\n",
       "<style scoped>\n",
       "    .dataframe tbody tr th:only-of-type {\n",
       "        vertical-align: middle;\n",
       "    }\n",
       "\n",
       "    .dataframe tbody tr th {\n",
       "        vertical-align: top;\n",
       "    }\n",
       "\n",
       "    .dataframe thead th {\n",
       "        text-align: right;\n",
       "    }\n",
       "</style>\n",
       "<table border=\"1\" class=\"dataframe\">\n",
       "  <thead>\n",
       "    <tr style=\"text-align: right;\">\n",
       "      <th></th>\n",
       "      <th>review</th>\n",
       "      <th>sentiment</th>\n",
       "    </tr>\n",
       "  </thead>\n",
       "  <tbody>\n",
       "    <tr>\n",
       "      <th>0</th>\n",
       "      <td>One of the other reviewers has mentioned that ...</td>\n",
       "      <td>positive</td>\n",
       "    </tr>\n",
       "    <tr>\n",
       "      <th>1</th>\n",
       "      <td>A wonderful little production. &lt;br /&gt;&lt;br /&gt;The...</td>\n",
       "      <td>positive</td>\n",
       "    </tr>\n",
       "    <tr>\n",
       "      <th>2</th>\n",
       "      <td>I thought this was a wonderful way to spend ti...</td>\n",
       "      <td>positive</td>\n",
       "    </tr>\n",
       "    <tr>\n",
       "      <th>3</th>\n",
       "      <td>Basically there's a family where a little boy ...</td>\n",
       "      <td>negative</td>\n",
       "    </tr>\n",
       "    <tr>\n",
       "      <th>4</th>\n",
       "      <td>Petter Mattei's \"Love in the Time of Money\" is...</td>\n",
       "      <td>positive</td>\n",
       "    </tr>\n",
       "    <tr>\n",
       "      <th>5</th>\n",
       "      <td>Probably my all-time favorite movie, a story o...</td>\n",
       "      <td>positive</td>\n",
       "    </tr>\n",
       "    <tr>\n",
       "      <th>6</th>\n",
       "      <td>I sure would like to see a resurrection of a u...</td>\n",
       "      <td>positive</td>\n",
       "    </tr>\n",
       "    <tr>\n",
       "      <th>7</th>\n",
       "      <td>This show was an amazing, fresh &amp; innovative i...</td>\n",
       "      <td>negative</td>\n",
       "    </tr>\n",
       "    <tr>\n",
       "      <th>8</th>\n",
       "      <td>Encouraged by the positive comments about this...</td>\n",
       "      <td>negative</td>\n",
       "    </tr>\n",
       "    <tr>\n",
       "      <th>9</th>\n",
       "      <td>If you like original gut wrenching laughter yo...</td>\n",
       "      <td>positive</td>\n",
       "    </tr>\n",
       "  </tbody>\n",
       "</table>\n",
       "</div>"
      ],
      "text/plain": [
       "                                              review sentiment\n",
       "0  One of the other reviewers has mentioned that ...  positive\n",
       "1  A wonderful little production. <br /><br />The...  positive\n",
       "2  I thought this was a wonderful way to spend ti...  positive\n",
       "3  Basically there's a family where a little boy ...  negative\n",
       "4  Petter Mattei's \"Love in the Time of Money\" is...  positive\n",
       "5  Probably my all-time favorite movie, a story o...  positive\n",
       "6  I sure would like to see a resurrection of a u...  positive\n",
       "7  This show was an amazing, fresh & innovative i...  negative\n",
       "8  Encouraged by the positive comments about this...  negative\n",
       "9  If you like original gut wrenching laughter yo...  positive"
      ]
     },
     "execution_count": 6,
     "metadata": {},
     "output_type": "execute_result"
    }
   ],
   "source": [
    "data.head(10)"
   ]
  },
  {
   "cell_type": "code",
   "execution_count": 7,
   "metadata": {
    "execution": {
     "iopub.execute_input": "2023-03-13T10:38:48.559960Z",
     "iopub.status.busy": "2023-03-13T10:38:48.559036Z",
     "iopub.status.idle": "2023-03-13T10:38:48.583928Z",
     "shell.execute_reply": "2023-03-13T10:38:48.582989Z",
     "shell.execute_reply.started": "2023-03-13T10:38:48.559909Z"
    }
   },
   "outputs": [],
   "source": [
    "data['sent_bin'] = data['sentiment'].replace({'positive': 1, 'negative': 0})"
   ]
  },
  {
   "cell_type": "code",
   "execution_count": 8,
   "metadata": {
    "execution": {
     "iopub.execute_input": "2023-03-13T10:39:03.379782Z",
     "iopub.status.busy": "2023-03-13T10:39:03.378822Z",
     "iopub.status.idle": "2023-03-13T10:39:03.390965Z",
     "shell.execute_reply": "2023-03-13T10:39:03.389682Z",
     "shell.execute_reply.started": "2023-03-13T10:39:03.379729Z"
    }
   },
   "outputs": [
    {
     "data": {
      "text/html": [
       "<div>\n",
       "<style scoped>\n",
       "    .dataframe tbody tr th:only-of-type {\n",
       "        vertical-align: middle;\n",
       "    }\n",
       "\n",
       "    .dataframe tbody tr th {\n",
       "        vertical-align: top;\n",
       "    }\n",
       "\n",
       "    .dataframe thead th {\n",
       "        text-align: right;\n",
       "    }\n",
       "</style>\n",
       "<table border=\"1\" class=\"dataframe\">\n",
       "  <thead>\n",
       "    <tr style=\"text-align: right;\">\n",
       "      <th></th>\n",
       "      <th>review</th>\n",
       "      <th>sentiment</th>\n",
       "      <th>sent_bin</th>\n",
       "    </tr>\n",
       "  </thead>\n",
       "  <tbody>\n",
       "    <tr>\n",
       "      <th>0</th>\n",
       "      <td>One of the other reviewers has mentioned that ...</td>\n",
       "      <td>positive</td>\n",
       "      <td>1</td>\n",
       "    </tr>\n",
       "    <tr>\n",
       "      <th>1</th>\n",
       "      <td>A wonderful little production. &lt;br /&gt;&lt;br /&gt;The...</td>\n",
       "      <td>positive</td>\n",
       "      <td>1</td>\n",
       "    </tr>\n",
       "    <tr>\n",
       "      <th>2</th>\n",
       "      <td>I thought this was a wonderful way to spend ti...</td>\n",
       "      <td>positive</td>\n",
       "      <td>1</td>\n",
       "    </tr>\n",
       "    <tr>\n",
       "      <th>3</th>\n",
       "      <td>Basically there's a family where a little boy ...</td>\n",
       "      <td>negative</td>\n",
       "      <td>0</td>\n",
       "    </tr>\n",
       "    <tr>\n",
       "      <th>4</th>\n",
       "      <td>Petter Mattei's \"Love in the Time of Money\" is...</td>\n",
       "      <td>positive</td>\n",
       "      <td>1</td>\n",
       "    </tr>\n",
       "  </tbody>\n",
       "</table>\n",
       "</div>"
      ],
      "text/plain": [
       "                                              review sentiment  sent_bin\n",
       "0  One of the other reviewers has mentioned that ...  positive         1\n",
       "1  A wonderful little production. <br /><br />The...  positive         1\n",
       "2  I thought this was a wonderful way to spend ti...  positive         1\n",
       "3  Basically there's a family where a little boy ...  negative         0\n",
       "4  Petter Mattei's \"Love in the Time of Money\" is...  positive         1"
      ]
     },
     "execution_count": 8,
     "metadata": {},
     "output_type": "execute_result"
    }
   ],
   "source": [
    "data.head()"
   ]
  },
  {
   "cell_type": "code",
   "execution_count": 9,
   "metadata": {},
   "outputs": [],
   "source": [
    "stop_word_text = ['a', 'an', 'br', 'the', 'and', 'or', 'but', 'if', 'then', 'else', 'when', 'where', 'who', \n",
    "                  'whom', 'which', 'that', 'this', 'these', 'those', 'in', 'on', 'at', 'to', 'from', 'by', 'for', 'of', 'with',\n",
    "                  'without', 'over', 'under', 'above', 'below', 'between', 'among', 'through', 'throughout', 'until', 'while', \n",
    "                  'since', 'during', 'within', 'without', 'beyond', 'beside', 'between', 'except', 'but', 'up', 'down', 'in', \n",
    "                  'out', 'off', 'above', 'below', 'under', 'too', 'very', 'so', 'such', 'just', 'as', 'both', 'neither', 'either', \n",
    "                  'although', 'because', 'since', 'so that', 'though', 'this', 'I', 'i', 'she', 'he', 'they', 'it', 'unless', \n",
    "                  'until', 'whether', 'while', 'why', '<', '>', 'it', 'that']"
   ]
  },
  {
   "cell_type": "code",
   "execution_count": 10,
   "metadata": {
    "execution": {
     "iopub.execute_input": "2023-03-13T10:39:17.704910Z",
     "iopub.status.busy": "2023-03-13T10:39:17.704519Z",
     "iopub.status.idle": "2023-03-13T10:39:17.712476Z",
     "shell.execute_reply": "2023-03-13T10:39:17.711308Z",
     "shell.execute_reply.started": "2023-03-13T10:39:17.704875Z"
    }
   },
   "outputs": [],
   "source": [
    "#filtering the text\n",
    "def full_form(text):\n",
    "    text = text.lower()\n",
    "    plain = re.sub(r'[<>?\\.,!\"(\\)\\/[\\]]', '', text)\n",
    "    plain = plain.replace(\"don't\", \"do not\")\n",
    "    plain = plain.replace(\"won't\", \"will not\")\n",
    "    plain = plain.replace(\"haven't\", \"have not\")\n",
    "    plain = plain.replace(\"can't\", \"cannot\")\n",
    "    plain = plain.replace(\"she's\", \"she is\")\n",
    "    plain = plain.replace(\"he's\", \"he is\")\n",
    "    plain = plain.replace(\"there're\", \"there are\")\n",
    "    plain = plain.replace(\"they'd\", \"they would\")\n",
    "    plain = plain.replace(\"\\'ll\", \" will\")\n",
    "    return plain              "
   ]
  },
  {
   "cell_type": "code",
   "execution_count": 11,
   "metadata": {
    "execution": {
     "iopub.execute_input": "2023-03-13T10:39:23.291600Z",
     "iopub.status.busy": "2023-03-13T10:39:23.291230Z",
     "iopub.status.idle": "2023-03-13T10:39:23.296795Z",
     "shell.execute_reply": "2023-03-13T10:39:23.295620Z",
     "shell.execute_reply.started": "2023-03-13T10:39:23.291565Z"
    }
   },
   "outputs": [],
   "source": [
    "#load language model for preprocessing text\n",
    "nlp = spacy.load(\"en_core_web_sm\")"
   ]
  },
  {
   "cell_type": "code",
   "execution_count": 12,
   "metadata": {},
   "outputs": [],
   "source": [
    "def preprocess_text(data):\n",
    "    corpus = []\n",
    "    for i in range(0, len(data)):\n",
    "        plain = full_form(data['review'][i])\n",
    "        # Apply spacy pipeline to the text\n",
    "        doc = nlp(plain)\n",
    "    \n",
    "        # Apply stemming and remove stopwords\n",
    "        stemmed_text = []\n",
    "        for token in doc:\n",
    "            # Check if the token is not a stop word and is alphabetic\n",
    "            if not token.is_stop and token.is_alpha:\n",
    "                stemmed_text.append(token.lemma_)\n",
    "\n",
    "        # Remove custom stopwords\n",
    "        stemmed_text = [word for word in stemmed_text if word.lower() not in stop_word_text]\n",
    "    \n",
    "        # Join the stemmed words into a text\n",
    "        preprocessed_text = ' '.join(stemmed_text)\n",
    "        corpus.append(preprocessed_text)\n",
    "    \n",
    "    return corpus"
   ]
  },
  {
   "cell_type": "code",
   "execution_count": 13,
   "metadata": {
    "execution": {
     "iopub.execute_input": "2023-03-13T10:39:48.780378Z",
     "iopub.status.busy": "2023-03-13T10:39:48.779424Z",
     "iopub.status.idle": "2023-03-13T11:07:33.870909Z",
     "shell.execute_reply": "2023-03-13T11:07:33.869872Z",
     "shell.execute_reply.started": "2023-03-13T10:39:48.780323Z"
    }
   },
   "outputs": [],
   "source": [
    "review_processed = preprocess_text(data)"
   ]
  },
  {
   "cell_type": "code",
   "execution_count": 14,
   "metadata": {},
   "outputs": [
    {
     "data": {
      "text/plain": [
       "50000"
      ]
     },
     "execution_count": 14,
     "metadata": {},
     "output_type": "execute_result"
    }
   ],
   "source": [
    "len(review_processed)"
   ]
  },
  {
   "cell_type": "code",
   "execution_count": 15,
   "metadata": {
    "execution": {
     "iopub.execute_input": "2023-03-13T11:09:05.766363Z",
     "iopub.status.busy": "2023-03-13T11:09:05.765950Z",
     "iopub.status.idle": "2023-03-13T11:09:05.772150Z",
     "shell.execute_reply": "2023-03-13T11:09:05.771052Z",
     "shell.execute_reply.started": "2023-03-13T11:09:05.766320Z"
    }
   },
   "outputs": [],
   "source": [
    "y = data['sent_bin']"
   ]
  },
  {
   "cell_type": "code",
   "execution_count": 16,
   "metadata": {
    "execution": {
     "iopub.execute_input": "2023-03-13T11:09:47.599694Z",
     "iopub.status.busy": "2023-03-13T11:09:47.599095Z",
     "iopub.status.idle": "2023-03-13T11:09:47.604501Z",
     "shell.execute_reply": "2023-03-13T11:09:47.603443Z",
     "shell.execute_reply.started": "2023-03-13T11:09:47.599650Z"
    }
   },
   "outputs": [],
   "source": [
    "#vocabular size\n",
    "voc_size = 5000"
   ]
  },
  {
   "cell_type": "code",
   "execution_count": 17,
   "metadata": {
    "execution": {
     "iopub.execute_input": "2023-03-13T11:09:49.747139Z",
     "iopub.status.busy": "2023-03-13T11:09:49.746719Z",
     "iopub.status.idle": "2023-03-13T11:09:53.192742Z",
     "shell.execute_reply": "2023-03-13T11:09:53.191653Z",
     "shell.execute_reply.started": "2023-03-13T11:09:49.747104Z"
    }
   },
   "outputs": [],
   "source": [
    "#convert into one hot vector\n",
    "onehot_text = [one_hot(word, voc_size) for word in review_processed]"
   ]
  },
  {
   "cell_type": "code",
   "execution_count": 18,
   "metadata": {
    "execution": {
     "iopub.execute_input": "2023-03-13T11:25:55.062697Z",
     "iopub.status.busy": "2023-03-13T11:25:55.061743Z",
     "iopub.status.idle": "2023-03-13T11:25:55.069848Z",
     "shell.execute_reply": "2023-03-13T11:25:55.068727Z",
     "shell.execute_reply.started": "2023-03-13T11:25:55.062620Z"
    }
   },
   "outputs": [
    {
     "data": {
      "text/plain": [
       "50000"
      ]
     },
     "execution_count": 18,
     "metadata": {},
     "output_type": "execute_result"
    }
   ],
   "source": [
    "len(onehot_text)"
   ]
  },
  {
   "cell_type": "markdown",
   "metadata": {},
   "source": [
    "# Embedding"
   ]
  },
  {
   "cell_type": "code",
   "execution_count": 19,
   "metadata": {
    "execution": {
     "iopub.execute_input": "2023-03-13T11:10:24.297578Z",
     "iopub.status.busy": "2023-03-13T11:10:24.296990Z",
     "iopub.status.idle": "2023-03-13T11:10:24.302494Z",
     "shell.execute_reply": "2023-03-13T11:10:24.301152Z",
     "shell.execute_reply.started": "2023-03-13T11:10:24.297540Z"
    }
   },
   "outputs": [],
   "source": [
    "sent_length = 200"
   ]
  },
  {
   "cell_type": "code",
   "execution_count": 20,
   "metadata": {
    "execution": {
     "iopub.execute_input": "2023-03-13T11:10:29.676978Z",
     "iopub.status.busy": "2023-03-13T11:10:29.676033Z",
     "iopub.status.idle": "2023-03-13T11:10:30.084490Z",
     "shell.execute_reply": "2023-03-13T11:10:30.083415Z",
     "shell.execute_reply.started": "2023-03-13T11:10:29.676926Z"
    }
   },
   "outputs": [],
   "source": [
    "#embedding\n",
    "embedd_docs = pad_sequences(onehot_text, padding='pre', maxlen=sent_length)"
   ]
  },
  {
   "cell_type": "code",
   "execution_count": 21,
   "metadata": {
    "execution": {
     "iopub.execute_input": "2023-03-13T11:10:46.943772Z",
     "iopub.status.busy": "2023-03-13T11:10:46.943153Z",
     "iopub.status.idle": "2023-03-13T11:10:46.951091Z",
     "shell.execute_reply": "2023-03-13T11:10:46.949936Z",
     "shell.execute_reply.started": "2023-03-13T11:10:46.943732Z"
    }
   },
   "outputs": [
    {
     "data": {
      "text/plain": [
       "(140, 140)"
      ]
     },
     "execution_count": 21,
     "metadata": {},
     "output_type": "execute_result"
    }
   ],
   "source": [
    "len(review_processed[0].split()), len(onehot_text[0])"
   ]
  },
  {
   "cell_type": "code",
   "execution_count": 22,
   "metadata": {
    "execution": {
     "iopub.execute_input": "2023-03-13T11:10:50.298194Z",
     "iopub.status.busy": "2023-03-13T11:10:50.297457Z",
     "iopub.status.idle": "2023-03-13T11:10:50.309996Z",
     "shell.execute_reply": "2023-03-13T11:10:50.308898Z",
     "shell.execute_reply.started": "2023-03-13T11:10:50.298152Z"
    }
   },
   "outputs": [
    {
     "data": {
      "text/plain": [
       "array([   0,    0,    0,    0,    0,    0,    0,    0,    0,    0,    0,\n",
       "          0,    0,    0,    0,    0,    0,    0,    0,    0,    0,    0,\n",
       "          0,    0,    0,    0,    0,    0,    0,    0,    0,    0,    0,\n",
       "          0,    0,    0,    0,    0,    0,    0,    0,    0,    0,    0,\n",
       "          0,    0,    0,    0,    0,    0,    0,    0,    0,    0,    0,\n",
       "          0,    0,    0,    0,    0, 1878, 2420, 1467, 2012, 1214, 4430,\n",
       "       1797, 1628, 4416, 1443, 3730, 4493, 2012,  878,  147, 1495, 3565,\n",
       "       4470, 1797,  885, 1554, 2041, 3917, 1360, 1283, 3562, 4926, 1776,\n",
       "        919, 3565, 2947,  250, 2126, 4909, 1709, 2012, 3602,  506, 1797,\n",
       "        898, 1616, 3664, 4915,  723, 3919,  298, 4489, 4349, 3588, 1650,\n",
       "        583,  330, 4067, 1433, 4914,  644, 1699, 4596, 2055, 4489, 4936,\n",
       "       1197, 3616, 2223, 1448, 1855,  589, 4642,   25, 3383, 2026, 1972,\n",
       "       4675,  354, 3948, 1421, 1903, 2791, 1046, 1344, 4449,  116, 3478,\n",
       "       3819, 4049, 3198, 1545, 2102,  510, 1128, 4049, 2253, 4049, 2041,\n",
       "       2488, 1214, 1017, 4493,  495, 3865, 3647, 1467,  505, 2582, 2012,\n",
       "       3142,  527, 1699, 3674, 3768, 3565, 3565, 1617,  895, 2730, 1249,\n",
       "        453, 3148, 4919, 2193, 3814,  398, 1633, 2031, 3148, 2135, 1650,\n",
       "       2601, 3872, 3502, 1153, 1650,  581, 1467, 2012, 3109,  847,    6,\n",
       "       3050,  613])"
      ]
     },
     "execution_count": 22,
     "metadata": {},
     "output_type": "execute_result"
    }
   ],
   "source": [
    "embedd_docs[0]"
   ]
  },
  {
   "cell_type": "code",
   "execution_count": 23,
   "metadata": {
    "execution": {
     "iopub.execute_input": "2023-03-13T11:11:01.494606Z",
     "iopub.status.busy": "2023-03-13T11:11:01.492149Z",
     "iopub.status.idle": "2023-03-13T11:11:01.503841Z",
     "shell.execute_reply": "2023-03-13T11:11:01.502548Z",
     "shell.execute_reply.started": "2023-03-13T11:11:01.494563Z"
    }
   },
   "outputs": [
    {
     "data": {
      "text/plain": [
       "(50000, (50000,))"
      ]
     },
     "execution_count": 23,
     "metadata": {},
     "output_type": "execute_result"
    }
   ],
   "source": [
    "#shape of data\n",
    "len(embedd_docs), y.shape"
   ]
  },
  {
   "cell_type": "code",
   "execution_count": 24,
   "metadata": {
    "execution": {
     "iopub.execute_input": "2023-03-13T11:11:47.269038Z",
     "iopub.status.busy": "2023-03-13T11:11:47.268678Z",
     "iopub.status.idle": "2023-03-13T11:11:47.291390Z",
     "shell.execute_reply": "2023-03-13T11:11:47.290397Z",
     "shell.execute_reply.started": "2023-03-13T11:11:47.269005Z"
    }
   },
   "outputs": [],
   "source": [
    "#convert into numpy array\n",
    "X_data = np.array(embedd_docs)\n",
    "y_data = np.array(y)\n",
    "#y_data = np.squeeze(y_data)"
   ]
  },
  {
   "cell_type": "code",
   "execution_count": 25,
   "metadata": {
    "execution": {
     "iopub.execute_input": "2023-03-13T11:11:51.586540Z",
     "iopub.status.busy": "2023-03-13T11:11:51.586178Z",
     "iopub.status.idle": "2023-03-13T11:11:51.593468Z",
     "shell.execute_reply": "2023-03-13T11:11:51.592196Z",
     "shell.execute_reply.started": "2023-03-13T11:11:51.586506Z"
    }
   },
   "outputs": [
    {
     "data": {
      "text/plain": [
       "((50000, 200), (50000,))"
      ]
     },
     "execution_count": 25,
     "metadata": {},
     "output_type": "execute_result"
    }
   ],
   "source": [
    "X_data.shape, y_data.shape"
   ]
  },
  {
   "cell_type": "code",
   "execution_count": 26,
   "metadata": {
    "execution": {
     "iopub.execute_input": "2023-03-13T11:11:56.643861Z",
     "iopub.status.busy": "2023-03-13T11:11:56.643108Z",
     "iopub.status.idle": "2023-03-13T11:11:56.669398Z",
     "shell.execute_reply": "2023-03-13T11:11:56.668394Z",
     "shell.execute_reply.started": "2023-03-13T11:11:56.643820Z"
    }
   },
   "outputs": [],
   "source": [
    "#split dataset for training and testing\n",
    "X_train, X_test, y_train, y_test = train_test_split(X_data, y_data, test_size=0.3, random_state=42)"
   ]
  },
  {
   "cell_type": "code",
   "execution_count": 27,
   "metadata": {
    "execution": {
     "iopub.execute_input": "2023-03-13T11:12:03.275575Z",
     "iopub.status.busy": "2023-03-13T11:12:03.275041Z",
     "iopub.status.idle": "2023-03-13T11:12:03.284719Z",
     "shell.execute_reply": "2023-03-13T11:12:03.282374Z",
     "shell.execute_reply.started": "2023-03-13T11:12:03.275541Z"
    }
   },
   "outputs": [
    {
     "name": "stdout",
     "output_type": "stream",
     "text": [
      "training: (35000, 200) - (35000,)\n",
      "testing: (15000, 200) - (15000,)\n"
     ]
    }
   ],
   "source": [
    "print(f'training: {X_train.shape} - {y_train.shape}')\n",
    "print(f'testing: {X_test.shape} - {y_test.shape}')"
   ]
  },
  {
   "cell_type": "code",
   "execution_count": 28,
   "metadata": {
    "execution": {
     "iopub.execute_input": "2023-03-13T11:12:13.457126Z",
     "iopub.status.busy": "2023-03-13T11:12:13.456157Z",
     "iopub.status.idle": "2023-03-13T11:12:13.466218Z",
     "shell.execute_reply": "2023-03-13T11:12:13.465140Z",
     "shell.execute_reply.started": "2023-03-13T11:12:13.457086Z"
    }
   },
   "outputs": [
    {
     "data": {
      "text/plain": [
       "array([0, 1, 0, 1, 0, 0, 0, 0, 1, 0], dtype=int64)"
      ]
     },
     "execution_count": 28,
     "metadata": {},
     "output_type": "execute_result"
    }
   ],
   "source": [
    "y_train[0:10]"
   ]
  },
  {
   "cell_type": "markdown",
   "metadata": {},
   "source": [
    "# Model"
   ]
  },
  {
   "cell_type": "code",
   "execution_count": 29,
   "metadata": {
    "execution": {
     "iopub.execute_input": "2023-03-13T11:11:35.388786Z",
     "iopub.status.busy": "2023-03-13T11:11:35.388058Z",
     "iopub.status.idle": "2023-03-13T11:11:39.495750Z",
     "shell.execute_reply": "2023-03-13T11:11:39.494798Z",
     "shell.execute_reply.started": "2023-03-13T11:11:35.388745Z"
    }
   },
   "outputs": [
    {
     "name": "stdout",
     "output_type": "stream",
     "text": [
      "Model: \"sequential\"\n",
      "_________________________________________________________________\n",
      " Layer (type)                Output Shape              Param #   \n",
      "=================================================================\n",
      " embedding (Embedding)       (None, 200, 100)          500000    \n",
      "                                                                 \n",
      " lstm (LSTM)                 (None, 100)               80400     \n",
      "                                                                 \n",
      " dense (Dense)               (None, 1)                 101       \n",
      "                                                                 \n",
      "=================================================================\n",
      "Total params: 580,501\n",
      "Trainable params: 580,501\n",
      "Non-trainable params: 0\n",
      "_________________________________________________________________\n",
      "None\n"
     ]
    }
   ],
   "source": [
    "## Creating model\n",
    "embedding_vector_features=100\n",
    "model=Sequential()\n",
    "model.add(Embedding(voc_size,embedding_vector_features,input_length=sent_length))\n",
    "model.add(LSTM(100))\n",
    "model.add(Dense(1,activation='sigmoid'))\n",
    "model.compile(loss='binary_crossentropy',optimizer='adam',metrics=['accuracy'])\n",
    "print(model.summary())"
   ]
  },
  {
   "cell_type": "code",
   "execution_count": 30,
   "metadata": {
    "execution": {
     "iopub.execute_input": "2023-03-13T11:12:30.087810Z",
     "iopub.status.busy": "2023-03-13T11:12:30.086878Z",
     "iopub.status.idle": "2023-03-13T11:15:28.548577Z",
     "shell.execute_reply": "2023-03-13T11:15:28.547593Z",
     "shell.execute_reply.started": "2023-03-13T11:12:30.087754Z"
    }
   },
   "outputs": [
    {
     "name": "stdout",
     "output_type": "stream",
     "text": [
      "Epoch 1/10\n",
      "547/547 [==============================] - 121s 218ms/step - loss: 0.4121 - accuracy: 0.8118 - val_loss: 0.3430 - val_accuracy: 0.8520\n",
      "Epoch 2/10\n",
      "547/547 [==============================] - 151s 276ms/step - loss: 0.3054 - accuracy: 0.8749 - val_loss: 0.3473 - val_accuracy: 0.8475\n",
      "Epoch 3/10\n",
      "547/547 [==============================] - 169s 309ms/step - loss: 0.2552 - accuracy: 0.8971 - val_loss: 0.3657 - val_accuracy: 0.8419\n",
      "Epoch 4/10\n",
      "547/547 [==============================] - 165s 302ms/step - loss: 0.2244 - accuracy: 0.9108 - val_loss: 0.4059 - val_accuracy: 0.8387\n",
      "Epoch 5/10\n",
      "547/547 [==============================] - 172s 315ms/step - loss: 0.1921 - accuracy: 0.9259 - val_loss: 0.4423 - val_accuracy: 0.8401\n",
      "Epoch 6/10\n",
      "547/547 [==============================] - 170s 310ms/step - loss: 0.1625 - accuracy: 0.9391 - val_loss: 0.4679 - val_accuracy: 0.8164\n",
      "Epoch 7/10\n",
      "547/547 [==============================] - 169s 308ms/step - loss: 0.1392 - accuracy: 0.9474 - val_loss: 0.5277 - val_accuracy: 0.8350\n",
      "Epoch 8/10\n",
      "547/547 [==============================] - 174s 319ms/step - loss: 0.1040 - accuracy: 0.9635 - val_loss: 0.5769 - val_accuracy: 0.8221\n",
      "Epoch 9/10\n",
      "547/547 [==============================] - 177s 323ms/step - loss: 0.0952 - accuracy: 0.9674 - val_loss: 0.6266 - val_accuracy: 0.8304\n",
      "Epoch 10/10\n",
      "547/547 [==============================] - 178s 325ms/step - loss: 0.0863 - accuracy: 0.9724 - val_loss: 0.7252 - val_accuracy: 0.8245\n"
     ]
    },
    {
     "data": {
      "text/plain": [
       "<keras.callbacks.History at 0x1fff9989790>"
      ]
     },
     "execution_count": 30,
     "metadata": {},
     "output_type": "execute_result"
    }
   ],
   "source": [
    "model.fit(X_train, y_train, validation_data=(X_test, y_test), epochs=10, batch_size=64)"
   ]
  },
  {
   "cell_type": "markdown",
   "metadata": {},
   "source": [
    "# Model Evaluation"
   ]
  },
  {
   "cell_type": "code",
   "execution_count": 31,
   "metadata": {
    "execution": {
     "iopub.execute_input": "2023-03-13T11:16:07.680744Z",
     "iopub.status.busy": "2023-03-13T11:16:07.680093Z",
     "iopub.status.idle": "2023-03-13T11:16:12.861538Z",
     "shell.execute_reply": "2023-03-13T11:16:12.860513Z",
     "shell.execute_reply.started": "2023-03-13T11:16:07.680703Z"
    }
   },
   "outputs": [
    {
     "name": "stdout",
     "output_type": "stream",
     "text": [
      "469/469 [==============================] - 12s 26ms/step - loss: 0.7252 - accuracy: 0.8245\n"
     ]
    },
    {
     "data": {
      "text/plain": [
       "[0.7251515984535217, 0.8245333433151245]"
      ]
     },
     "execution_count": 31,
     "metadata": {},
     "output_type": "execute_result"
    }
   ],
   "source": [
    "model.evaluate(X_test, y_test)"
   ]
  },
  {
   "cell_type": "code",
   "execution_count": 32,
   "metadata": {
    "execution": {
     "iopub.execute_input": "2023-03-13T11:18:37.458422Z",
     "iopub.status.busy": "2023-03-13T11:18:37.457367Z",
     "iopub.status.idle": "2023-03-13T11:18:43.314190Z",
     "shell.execute_reply": "2023-03-13T11:18:43.313092Z",
     "shell.execute_reply.started": "2023-03-13T11:18:37.458377Z"
    }
   },
   "outputs": [
    {
     "name": "stdout",
     "output_type": "stream",
     "text": [
      "469/469 [==============================] - 12s 26ms/step\n"
     ]
    }
   ],
   "source": [
    "predictions = (model.predict(X_test) > 0.5).astype(\"int32\")"
   ]
  },
  {
   "cell_type": "code",
   "execution_count": 33,
   "metadata": {
    "execution": {
     "iopub.execute_input": "2023-03-13T11:19:47.664858Z",
     "iopub.status.busy": "2023-03-13T11:19:47.663896Z",
     "iopub.status.idle": "2023-03-13T11:19:47.676285Z",
     "shell.execute_reply": "2023-03-13T11:19:47.674999Z",
     "shell.execute_reply.started": "2023-03-13T11:19:47.664818Z"
    }
   },
   "outputs": [
    {
     "data": {
      "text/plain": [
       "array([[6193, 1218],\n",
       "       [1414, 6175]], dtype=int64)"
      ]
     },
     "execution_count": 33,
     "metadata": {},
     "output_type": "execute_result"
    }
   ],
   "source": [
    "#confusion matrix \n",
    "confusion_matrix(y_test,predictions)"
   ]
  },
  {
   "cell_type": "code",
   "execution_count": 34,
   "metadata": {
    "execution": {
     "iopub.execute_input": "2023-03-13T11:20:27.696350Z",
     "iopub.status.busy": "2023-03-13T11:20:27.694916Z",
     "iopub.status.idle": "2023-03-13T11:20:27.709988Z",
     "shell.execute_reply": "2023-03-13T11:20:27.708921Z",
     "shell.execute_reply.started": "2023-03-13T11:20:27.696301Z"
    }
   },
   "outputs": [
    {
     "data": {
      "text/plain": [
       "0.8245333333333333"
      ]
     },
     "execution_count": 34,
     "metadata": {},
     "output_type": "execute_result"
    }
   ],
   "source": [
    "accuracy_score(y_test,predictions)"
   ]
  },
  {
   "cell_type": "markdown",
   "metadata": {},
   "source": [
    "# Testing model with text"
   ]
  },
  {
   "cell_type": "code",
   "execution_count": null,
   "metadata": {
    "execution": {
     "iopub.execute_input": "2023-03-13T11:22:15.357159Z",
     "iopub.status.busy": "2023-03-13T11:22:15.356477Z",
     "iopub.status.idle": "2023-03-13T11:22:15.362823Z",
     "shell.execute_reply": "2023-03-13T11:22:15.361561Z",
     "shell.execute_reply.started": "2023-03-13T11:22:15.357119Z"
    }
   },
   "outputs": [],
   "source": [
    "print(data['review'][0],'\\n')\n",
    "print(data['sentiment'][0])"
   ]
  },
  {
   "cell_type": "code",
   "execution_count": 35,
   "metadata": {},
   "outputs": [],
   "source": [
    "#preprocessing  text \n",
    "def preprocess_text_data(data):\n",
    "    corpus = []\n",
    "  \n",
    "    #split the sentence\n",
    "    plain = full_form(data)\n",
    "    #stemming\n",
    "    doc = nlp(plain)\n",
    "    # Apply stemming and remove stopwords\n",
    "    stemmed_text = []\n",
    "    for token in doc:\n",
    "        stemmed_text.append(token.lemma_)\n",
    "    \n",
    "    stemmed_text = [word for word in stemmed_text if word.lower() not in stop_word_text]\n",
    "    \n",
    "    #rejoining text\n",
    "    preprocessed_text = ' '.join(stemmed_text)\n",
    "    #add the sentence into list\n",
    "    corpus.append(preprocessed_text)\n",
    "    return corpus"
   ]
  },
  {
   "cell_type": "code",
   "execution_count": 36,
   "metadata": {},
   "outputs": [],
   "source": [
    "text = \"this movie is very bad and i don't like this movie\"\n",
    "#preprocessing \n",
    "processed_text = preprocess_text_data(text)\n",
    "#one hot encoding\n",
    "onehot_sent = [one_hot(word, voc_size) for word in processed_text]\n",
    "#embedding\n",
    "embedd_docs = pad_sequences(onehot_sent, padding='pre', maxlen=sent_length)\n",
    "#convert into numpy array\n",
    "X_sample = np.array(embedd_docs)"
   ]
  },
  {
   "cell_type": "code",
   "execution_count": 51,
   "metadata": {},
   "outputs": [
    {
     "data": {
      "text/plain": [
       "['movie be really fucking distinguish movie people really do not like type movie']"
      ]
     },
     "execution_count": 51,
     "metadata": {},
     "output_type": "execute_result"
    }
   ],
   "source": [
    "processed_text"
   ]
  },
  {
   "cell_type": "code",
   "execution_count": 52,
   "metadata": {
    "execution": {
     "iopub.execute_input": "2023-03-13T11:29:07.586878Z",
     "iopub.status.busy": "2023-03-13T11:29:07.586117Z",
     "iopub.status.idle": "2023-03-13T11:29:07.650480Z",
     "shell.execute_reply": "2023-03-13T11:29:07.649465Z",
     "shell.execute_reply.started": "2023-03-13T11:29:07.586840Z"
    }
   },
   "outputs": [
    {
     "name": "stdout",
     "output_type": "stream",
     "text": [
      "1/1 [==============================] - 0s 31ms/step\n"
     ]
    }
   ],
   "source": [
    "sample_prediction = (model.predict(X_sample) > 0.5).astype(\"int32\")"
   ]
  },
  {
   "cell_type": "code",
   "execution_count": 53,
   "metadata": {
    "execution": {
     "iopub.execute_input": "2023-03-13T11:29:10.242703Z",
     "iopub.status.busy": "2023-03-13T11:29:10.242069Z",
     "iopub.status.idle": "2023-03-13T11:29:10.249518Z",
     "shell.execute_reply": "2023-03-13T11:29:10.248328Z",
     "shell.execute_reply.started": "2023-03-13T11:29:10.242660Z"
    }
   },
   "outputs": [
    {
     "data": {
      "text/plain": [
       "array([[1]])"
      ]
     },
     "execution_count": 53,
     "metadata": {},
     "output_type": "execute_result"
    }
   ],
   "source": [
    "sample_prediction"
   ]
  },
  {
   "cell_type": "markdown",
   "metadata": {},
   "source": [
    "# Save the model"
   ]
  },
  {
   "cell_type": "code",
   "execution_count": 54,
   "metadata": {
    "execution": {
     "iopub.execute_input": "2023-03-13T11:30:38.084080Z",
     "iopub.status.busy": "2023-03-13T11:30:38.083374Z",
     "iopub.status.idle": "2023-03-13T11:30:38.133389Z",
     "shell.execute_reply": "2023-03-13T11:30:38.132423Z",
     "shell.execute_reply.started": "2023-03-13T11:30:38.084041Z"
    }
   },
   "outputs": [],
   "source": [
    "model.save(\"./assets/movieSentiAnalysisV-5.h5\")"
   ]
  },
  {
   "cell_type": "code",
   "execution_count": 55,
   "metadata": {},
   "outputs": [],
   "source": [
    "from tensorflow.keras.models import load_model\n",
    "\n",
    "model_json = model.to_json()\n",
    "\n",
    "# Save the JSON string to a file\n",
    "with open(\"./assets/my_model-V5.json\", \"w\") as json_file:\n",
    "    json_file.write(model_json)\n",
    "\n",
    "model.save_weights(\"./assets/my_model_weights-V5.h5\")"
   ]
  },
  {
   "cell_type": "code",
   "execution_count": 56,
   "metadata": {},
   "outputs": [],
   "source": [
    "from tensorflow.keras.models import load_model"
   ]
  },
  {
   "cell_type": "code",
   "execution_count": 57,
   "metadata": {},
   "outputs": [],
   "source": [
    "rnn = load_model(\"./assets/movieSentiAnalysisV-5.h5\")"
   ]
  },
  {
   "cell_type": "code",
   "execution_count": 58,
   "metadata": {},
   "outputs": [],
   "source": [
    "text = \"This movie is really fucking distinguish movie. people really do not like this type of movies.\""
   ]
  },
  {
   "cell_type": "code",
   "execution_count": 59,
   "metadata": {},
   "outputs": [],
   "source": [
    "#preprocessing \n",
    "processed_text = preprocess_text_data(text)\n",
    "#one hot encoding\n",
    "onehot_sent = [one_hot(word, voc_size) for word in processed_text]\n",
    "#embedding\n",
    "embedd_docs = pad_sequences(onehot_sent, padding='pre', maxlen=sent_length)\n",
    "#convert into numpy array\n",
    "X_sample = np.array(embedd_docs)"
   ]
  },
  {
   "cell_type": "code",
   "execution_count": 60,
   "metadata": {},
   "outputs": [
    {
     "data": {
      "text/plain": [
       "['movie be really fucking distinguish movie people really do not like type movie']"
      ]
     },
     "execution_count": 60,
     "metadata": {},
     "output_type": "execute_result"
    }
   ],
   "source": [
    "processed_text"
   ]
  },
  {
   "cell_type": "code",
   "execution_count": 61,
   "metadata": {},
   "outputs": [
    {
     "name": "stdout",
     "output_type": "stream",
     "text": [
      "1/1 [==============================] - 0s 276ms/step\n"
     ]
    },
    {
     "data": {
      "text/plain": [
       "array([[1]])"
      ]
     },
     "execution_count": 61,
     "metadata": {},
     "output_type": "execute_result"
    }
   ],
   "source": [
    "sample_prediction = (rnn.predict(X_sample) > 0.9).astype(\"int32\")\n",
    "sample_prediction"
   ]
  },
  {
   "cell_type": "code",
   "execution_count": null,
   "metadata": {},
   "outputs": [],
   "source": []
  }
 ],
 "metadata": {
  "kernelspec": {
   "display_name": "Python 3 (ipykernel)",
   "language": "python",
   "name": "python3"
  },
  "language_info": {
   "codemirror_mode": {
    "name": "ipython",
    "version": 3
   },
   "file_extension": ".py",
   "mimetype": "text/x-python",
   "name": "python",
   "nbconvert_exporter": "python",
   "pygments_lexer": "ipython3",
   "version": "3.9.13"
  }
 },
 "nbformat": 4,
 "nbformat_minor": 4
}
