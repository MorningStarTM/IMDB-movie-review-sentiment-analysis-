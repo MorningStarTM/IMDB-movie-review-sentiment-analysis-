{
 "cells": [
  {
   "cell_type": "markdown",
   "id": "8a38679b",
   "metadata": {
    "colab_type": "text",
    "id": "view-in-github"
   },
   "source": [
    "<a href=\"https://colab.research.google.com/github/MorningStarTM/IMDB-movie-review-sentiment-analysis-/blob/main/imdb_movie_review_sentiment_analysis.ipynb\" target=\"_parent\"><img src=\"https://colab.research.google.com/assets/colab-badge.svg\" alt=\"Open In Colab\"/></a>"
   ]
  },
  {
   "cell_type": "code",
   "execution_count": 2,
   "id": "8efb7afd",
   "metadata": {
    "execution": {
     "iopub.execute_input": "2023-03-09T09:37:26.689998Z",
     "iopub.status.busy": "2023-03-09T09:37:26.689169Z",
     "iopub.status.idle": "2023-03-09T09:37:34.237398Z",
     "shell.execute_reply": "2023-03-09T09:37:34.236304Z"
    },
    "id": "8efb7afd",
    "papermill": {
     "duration": 7.560555,
     "end_time": "2023-03-09T09:37:34.240073",
     "exception": false,
     "start_time": "2023-03-09T09:37:26.679518",
     "status": "completed"
    },
    "tags": []
   },
   "outputs": [],
   "source": [
    "import pandas as pd\n",
    "import numpy as np\n",
    "import re\n",
    "import nltk\n",
    "import tensorflow as tf\n",
    "from nltk.corpus import stopwords\n",
    "from nltk.stem import PorterStemmer, WordNetLemmatizer\n",
    "from nltk.corpus import wordnet\n",
    "from tensorflow.keras.layers import LSTM, Dense, Embedding\n",
    "from tensorflow.keras.layers import ReLU\n",
    "from tensorflow.keras.preprocessing.sequence import pad_sequences\n",
    "from tensorflow.keras.preprocessing.text import one_hot\n",
    "from tensorflow.keras.preprocessing.text import Tokenizer\n",
    "from tensorflow.keras.models import Model, Sequential\n",
    "from sklearn.model_selection import train_test_split\n",
    "from sklearn.metrics import confusion_matrix"
   ]
  },
  {
   "cell_type": "code",
   "execution_count": 3,
   "id": "4f618f1f",
   "metadata": {
    "colab": {
     "base_uri": "https://localhost:8080/"
    },
    "execution": {
     "iopub.execute_input": "2023-03-09T09:37:34.255906Z",
     "iopub.status.busy": "2023-03-09T09:37:34.255315Z",
     "iopub.status.idle": "2023-03-09T09:37:34.334421Z",
     "shell.execute_reply": "2023-03-09T09:37:34.332798Z"
    },
    "id": "4f618f1f",
    "outputId": "52a8ac36-cd33-4bef-c610-929d889b7801",
    "papermill": {
     "duration": 0.090982,
     "end_time": "2023-03-09T09:37:34.338181",
     "exception": false,
     "start_time": "2023-03-09T09:37:34.247199",
     "status": "completed"
    },
    "tags": []
   },
   "outputs": [
    {
     "name": "stderr",
     "output_type": "stream",
     "text": [
      "[nltk_data] Downloading package stopwords to /root/nltk_data...\n",
      "[nltk_data]   Unzipping corpora/stopwords.zip.\n"
     ]
    },
    {
     "data": {
      "text/plain": [
       "True"
      ]
     },
     "execution_count": 3,
     "metadata": {},
     "output_type": "execute_result"
    }
   ],
   "source": [
    "nltk.download('stopwords')"
   ]
  },
  {
   "cell_type": "code",
   "execution_count": 4,
   "id": "f5a53e29",
   "metadata": {
    "colab": {
     "base_uri": "https://localhost:8080/"
    },
    "execution": {
     "iopub.execute_input": "2023-03-09T09:37:34.353808Z",
     "iopub.status.busy": "2023-03-09T09:37:34.352990Z",
     "iopub.status.idle": "2023-03-09T09:37:34.425404Z",
     "shell.execute_reply": "2023-03-09T09:37:34.422909Z"
    },
    "id": "f5a53e29",
    "outputId": "d97dba79-9295-41c6-aee9-d8bc9ba1e1f7",
    "papermill": {
     "duration": 0.082744,
     "end_time": "2023-03-09T09:37:34.428007",
     "exception": false,
     "start_time": "2023-03-09T09:37:34.345263",
     "status": "completed"
    },
    "tags": []
   },
   "outputs": [
    {
     "name": "stderr",
     "output_type": "stream",
     "text": [
      "[nltk_data] Downloading package punkt to /root/nltk_data...\n",
      "[nltk_data]   Unzipping tokenizers/punkt.zip.\n"
     ]
    },
    {
     "data": {
      "text/plain": [
       "True"
      ]
     },
     "execution_count": 4,
     "metadata": {},
     "output_type": "execute_result"
    }
   ],
   "source": [
    "nltk.download('punkt')"
   ]
  },
  {
   "cell_type": "code",
   "execution_count": 5,
   "id": "44713ef5",
   "metadata": {
    "execution": {
     "iopub.execute_input": "2023-03-09T09:37:34.443635Z",
     "iopub.status.busy": "2023-03-09T09:37:34.443352Z",
     "iopub.status.idle": "2023-03-09T09:37:35.833953Z",
     "shell.execute_reply": "2023-03-09T09:37:35.832925Z"
    },
    "id": "44713ef5",
    "papermill": {
     "duration": 1.401332,
     "end_time": "2023-03-09T09:37:35.836823",
     "exception": false,
     "start_time": "2023-03-09T09:37:34.435491",
     "status": "completed"
    },
    "tags": []
   },
   "outputs": [],
   "source": [
    "#read data\n",
    "data = pd.read_csv(\"/content/drive/MyDrive/DataSet/csv dataset/IMDB Dataset.csv\")"
   ]
  },
  {
   "cell_type": "code",
   "execution_count": 6,
   "id": "c969de7d",
   "metadata": {
    "colab": {
     "base_uri": "https://localhost:8080/"
    },
    "execution": {
     "iopub.execute_input": "2023-03-09T09:37:35.853357Z",
     "iopub.status.busy": "2023-03-09T09:37:35.852455Z",
     "iopub.status.idle": "2023-03-09T09:37:35.859031Z",
     "shell.execute_reply": "2023-03-09T09:37:35.857972Z"
    },
    "id": "c969de7d",
    "outputId": "2bb922a7-3e3e-43c6-f92f-69dc9c5d89f4",
    "papermill": {
     "duration": 0.017047,
     "end_time": "2023-03-09T09:37:35.861643",
     "exception": false,
     "start_time": "2023-03-09T09:37:35.844596",
     "status": "completed"
    },
    "tags": []
   },
   "outputs": [
    {
     "data": {
      "text/plain": [
       "(50000, 2)"
      ]
     },
     "execution_count": 6,
     "metadata": {},
     "output_type": "execute_result"
    }
   ],
   "source": [
    "#size of data\n",
    "data.shape"
   ]
  },
  {
   "cell_type": "code",
   "execution_count": 7,
   "id": "7a2a1b19",
   "metadata": {
    "colab": {
     "base_uri": "https://localhost:8080/"
    },
    "execution": {
     "iopub.execute_input": "2023-03-09T09:37:35.876814Z",
     "iopub.status.busy": "2023-03-09T09:37:35.876543Z",
     "iopub.status.idle": "2023-03-09T09:37:35.884112Z",
     "shell.execute_reply": "2023-03-09T09:37:35.883256Z"
    },
    "id": "7a2a1b19",
    "outputId": "e4f2c5ca-6514-4840-db2b-f8c98887350c",
    "papermill": {
     "duration": 0.017659,
     "end_time": "2023-03-09T09:37:35.886170",
     "exception": false,
     "start_time": "2023-03-09T09:37:35.868511",
     "status": "completed"
    },
    "tags": []
   },
   "outputs": [
    {
     "data": {
      "text/plain": [
       "Index(['review', 'sentiment'], dtype='object')"
      ]
     },
     "execution_count": 7,
     "metadata": {},
     "output_type": "execute_result"
    }
   ],
   "source": [
    "data.columns"
   ]
  },
  {
   "cell_type": "code",
   "execution_count": 8,
   "id": "312845a9",
   "metadata": {
    "colab": {
     "base_uri": "https://localhost:8080/"
    },
    "execution": {
     "iopub.execute_input": "2023-03-09T09:37:35.901211Z",
     "iopub.status.busy": "2023-03-09T09:37:35.900952Z",
     "iopub.status.idle": "2023-03-09T09:37:35.927112Z",
     "shell.execute_reply": "2023-03-09T09:37:35.925856Z"
    },
    "id": "312845a9",
    "outputId": "73d0d6d5-4bfd-4886-c38e-e8eb39f1d534",
    "papermill": {
     "duration": 0.037953,
     "end_time": "2023-03-09T09:37:35.931157",
     "exception": false,
     "start_time": "2023-03-09T09:37:35.893204",
     "status": "completed"
    },
    "tags": []
   },
   "outputs": [
    {
     "name": "stdout",
     "output_type": "stream",
     "text": [
      "<class 'pandas.core.frame.DataFrame'>\n",
      "RangeIndex: 50000 entries, 0 to 49999\n",
      "Data columns (total 2 columns):\n",
      " #   Column     Non-Null Count  Dtype \n",
      "---  ------     --------------  ----- \n",
      " 0   review     50000 non-null  object\n",
      " 1   sentiment  50000 non-null  object\n",
      "dtypes: object(2)\n",
      "memory usage: 781.4+ KB\n"
     ]
    }
   ],
   "source": [
    "#check null value \n",
    "data.info()"
   ]
  },
  {
   "cell_type": "code",
   "execution_count": 9,
   "id": "be45d451",
   "metadata": {
    "colab": {
     "base_uri": "https://localhost:8080/",
     "height": 363
    },
    "execution": {
     "iopub.execute_input": "2023-03-09T09:37:35.948025Z",
     "iopub.status.busy": "2023-03-09T09:37:35.947360Z",
     "iopub.status.idle": "2023-03-09T09:37:35.960342Z",
     "shell.execute_reply": "2023-03-09T09:37:35.959307Z"
    },
    "id": "be45d451",
    "outputId": "e7c4ccb2-edb3-409f-d77d-debabecddf9d",
    "papermill": {
     "duration": 0.02312,
     "end_time": "2023-03-09T09:37:35.962423",
     "exception": false,
     "start_time": "2023-03-09T09:37:35.939303",
     "status": "completed"
    },
    "tags": []
   },
   "outputs": [
    {
     "data": {
      "text/html": [
       "\n",
       "  <div id=\"df-ba80699f-7259-4975-aba3-8afa43dbc0a9\">\n",
       "    <div class=\"colab-df-container\">\n",
       "      <div>\n",
       "<style scoped>\n",
       "    .dataframe tbody tr th:only-of-type {\n",
       "        vertical-align: middle;\n",
       "    }\n",
       "\n",
       "    .dataframe tbody tr th {\n",
       "        vertical-align: top;\n",
       "    }\n",
       "\n",
       "    .dataframe thead th {\n",
       "        text-align: right;\n",
       "    }\n",
       "</style>\n",
       "<table border=\"1\" class=\"dataframe\">\n",
       "  <thead>\n",
       "    <tr style=\"text-align: right;\">\n",
       "      <th></th>\n",
       "      <th>review</th>\n",
       "      <th>sentiment</th>\n",
       "    </tr>\n",
       "  </thead>\n",
       "  <tbody>\n",
       "    <tr>\n",
       "      <th>0</th>\n",
       "      <td>One of the other reviewers has mentioned that ...</td>\n",
       "      <td>positive</td>\n",
       "    </tr>\n",
       "    <tr>\n",
       "      <th>1</th>\n",
       "      <td>A wonderful little production. &lt;br /&gt;&lt;br /&gt;The...</td>\n",
       "      <td>positive</td>\n",
       "    </tr>\n",
       "    <tr>\n",
       "      <th>2</th>\n",
       "      <td>I thought this was a wonderful way to spend ti...</td>\n",
       "      <td>positive</td>\n",
       "    </tr>\n",
       "    <tr>\n",
       "      <th>3</th>\n",
       "      <td>Basically there's a family where a little boy ...</td>\n",
       "      <td>negative</td>\n",
       "    </tr>\n",
       "    <tr>\n",
       "      <th>4</th>\n",
       "      <td>Petter Mattei's \"Love in the Time of Money\" is...</td>\n",
       "      <td>positive</td>\n",
       "    </tr>\n",
       "    <tr>\n",
       "      <th>5</th>\n",
       "      <td>Probably my all-time favorite movie, a story o...</td>\n",
       "      <td>positive</td>\n",
       "    </tr>\n",
       "    <tr>\n",
       "      <th>6</th>\n",
       "      <td>I sure would like to see a resurrection of a u...</td>\n",
       "      <td>positive</td>\n",
       "    </tr>\n",
       "    <tr>\n",
       "      <th>7</th>\n",
       "      <td>This show was an amazing, fresh &amp; innovative i...</td>\n",
       "      <td>negative</td>\n",
       "    </tr>\n",
       "    <tr>\n",
       "      <th>8</th>\n",
       "      <td>Encouraged by the positive comments about this...</td>\n",
       "      <td>negative</td>\n",
       "    </tr>\n",
       "    <tr>\n",
       "      <th>9</th>\n",
       "      <td>If you like original gut wrenching laughter yo...</td>\n",
       "      <td>positive</td>\n",
       "    </tr>\n",
       "  </tbody>\n",
       "</table>\n",
       "</div>\n",
       "      <button class=\"colab-df-convert\" onclick=\"convertToInteractive('df-ba80699f-7259-4975-aba3-8afa43dbc0a9')\"\n",
       "              title=\"Convert this dataframe to an interactive table.\"\n",
       "              style=\"display:none;\">\n",
       "        \n",
       "  <svg xmlns=\"http://www.w3.org/2000/svg\" height=\"24px\"viewBox=\"0 0 24 24\"\n",
       "       width=\"24px\">\n",
       "    <path d=\"M0 0h24v24H0V0z\" fill=\"none\"/>\n",
       "    <path d=\"M18.56 5.44l.94 2.06.94-2.06 2.06-.94-2.06-.94-.94-2.06-.94 2.06-2.06.94zm-11 1L8.5 8.5l.94-2.06 2.06-.94-2.06-.94L8.5 2.5l-.94 2.06-2.06.94zm10 10l.94 2.06.94-2.06 2.06-.94-2.06-.94-.94-2.06-.94 2.06-2.06.94z\"/><path d=\"M17.41 7.96l-1.37-1.37c-.4-.4-.92-.59-1.43-.59-.52 0-1.04.2-1.43.59L10.3 9.45l-7.72 7.72c-.78.78-.78 2.05 0 2.83L4 21.41c.39.39.9.59 1.41.59.51 0 1.02-.2 1.41-.59l7.78-7.78 2.81-2.81c.8-.78.8-2.07 0-2.86zM5.41 20L4 18.59l7.72-7.72 1.47 1.35L5.41 20z\"/>\n",
       "  </svg>\n",
       "      </button>\n",
       "      \n",
       "  <style>\n",
       "    .colab-df-container {\n",
       "      display:flex;\n",
       "      flex-wrap:wrap;\n",
       "      gap: 12px;\n",
       "    }\n",
       "\n",
       "    .colab-df-convert {\n",
       "      background-color: #E8F0FE;\n",
       "      border: none;\n",
       "      border-radius: 50%;\n",
       "      cursor: pointer;\n",
       "      display: none;\n",
       "      fill: #1967D2;\n",
       "      height: 32px;\n",
       "      padding: 0 0 0 0;\n",
       "      width: 32px;\n",
       "    }\n",
       "\n",
       "    .colab-df-convert:hover {\n",
       "      background-color: #E2EBFA;\n",
       "      box-shadow: 0px 1px 2px rgba(60, 64, 67, 0.3), 0px 1px 3px 1px rgba(60, 64, 67, 0.15);\n",
       "      fill: #174EA6;\n",
       "    }\n",
       "\n",
       "    [theme=dark] .colab-df-convert {\n",
       "      background-color: #3B4455;\n",
       "      fill: #D2E3FC;\n",
       "    }\n",
       "\n",
       "    [theme=dark] .colab-df-convert:hover {\n",
       "      background-color: #434B5C;\n",
       "      box-shadow: 0px 1px 3px 1px rgba(0, 0, 0, 0.15);\n",
       "      filter: drop-shadow(0px 1px 2px rgba(0, 0, 0, 0.3));\n",
       "      fill: #FFFFFF;\n",
       "    }\n",
       "  </style>\n",
       "\n",
       "      <script>\n",
       "        const buttonEl =\n",
       "          document.querySelector('#df-ba80699f-7259-4975-aba3-8afa43dbc0a9 button.colab-df-convert');\n",
       "        buttonEl.style.display =\n",
       "          google.colab.kernel.accessAllowed ? 'block' : 'none';\n",
       "\n",
       "        async function convertToInteractive(key) {\n",
       "          const element = document.querySelector('#df-ba80699f-7259-4975-aba3-8afa43dbc0a9');\n",
       "          const dataTable =\n",
       "            await google.colab.kernel.invokeFunction('convertToInteractive',\n",
       "                                                     [key], {});\n",
       "          if (!dataTable) return;\n",
       "\n",
       "          const docLinkHtml = 'Like what you see? Visit the ' +\n",
       "            '<a target=\"_blank\" href=https://colab.research.google.com/notebooks/data_table.ipynb>data table notebook</a>'\n",
       "            + ' to learn more about interactive tables.';\n",
       "          element.innerHTML = '';\n",
       "          dataTable['output_type'] = 'display_data';\n",
       "          await google.colab.output.renderOutput(dataTable, element);\n",
       "          const docLink = document.createElement('div');\n",
       "          docLink.innerHTML = docLinkHtml;\n",
       "          element.appendChild(docLink);\n",
       "        }\n",
       "      </script>\n",
       "    </div>\n",
       "  </div>\n",
       "  "
      ],
      "text/plain": [
       "                                              review sentiment\n",
       "0  One of the other reviewers has mentioned that ...  positive\n",
       "1  A wonderful little production. <br /><br />The...  positive\n",
       "2  I thought this was a wonderful way to spend ti...  positive\n",
       "3  Basically there's a family where a little boy ...  negative\n",
       "4  Petter Mattei's \"Love in the Time of Money\" is...  positive\n",
       "5  Probably my all-time favorite movie, a story o...  positive\n",
       "6  I sure would like to see a resurrection of a u...  positive\n",
       "7  This show was an amazing, fresh & innovative i...  negative\n",
       "8  Encouraged by the positive comments about this...  negative\n",
       "9  If you like original gut wrenching laughter yo...  positive"
      ]
     },
     "execution_count": 9,
     "metadata": {},
     "output_type": "execute_result"
    }
   ],
   "source": [
    "data.head(10)"
   ]
  },
  {
   "cell_type": "code",
   "execution_count": 10,
   "id": "4125a6cc",
   "metadata": {
    "execution": {
     "iopub.execute_input": "2023-03-09T09:37:35.978725Z",
     "iopub.status.busy": "2023-03-09T09:37:35.977905Z",
     "iopub.status.idle": "2023-03-09T09:37:35.982903Z",
     "shell.execute_reply": "2023-03-09T09:37:35.981856Z"
    },
    "id": "4125a6cc",
    "papermill": {
     "duration": 0.015347,
     "end_time": "2023-03-09T09:37:35.985025",
     "exception": false,
     "start_time": "2023-03-09T09:37:35.969678",
     "status": "completed"
    },
    "tags": []
   },
   "outputs": [],
   "source": [
    "df = data[0:5000]"
   ]
  },
  {
   "cell_type": "code",
   "execution_count": 11,
   "id": "4e1ac53c",
   "metadata": {
    "colab": {
     "base_uri": "https://localhost:8080/"
    },
    "execution": {
     "iopub.execute_input": "2023-03-09T09:37:36.000516Z",
     "iopub.status.busy": "2023-03-09T09:37:36.000246Z",
     "iopub.status.idle": "2023-03-09T09:37:36.006196Z",
     "shell.execute_reply": "2023-03-09T09:37:36.005229Z"
    },
    "id": "4e1ac53c",
    "outputId": "4319cda0-4818-4e17-f2e2-1d91bda43438",
    "papermill": {
     "duration": 0.016151,
     "end_time": "2023-03-09T09:37:36.008439",
     "exception": false,
     "start_time": "2023-03-09T09:37:35.992288",
     "status": "completed"
    },
    "tags": []
   },
   "outputs": [
    {
     "data": {
      "text/plain": [
       "(5000, 2)"
      ]
     },
     "execution_count": 11,
     "metadata": {},
     "output_type": "execute_result"
    }
   ],
   "source": [
    "df.shape"
   ]
  },
  {
   "cell_type": "markdown",
   "id": "8c8YsE5lSG9A",
   "metadata": {
    "id": "8c8YsE5lSG9A"
   },
   "source": [
    "# Vectorization"
   ]
  },
  {
   "cell_type": "code",
   "execution_count": 15,
   "id": "6237e806",
   "metadata": {
    "execution": {
     "iopub.execute_input": "2023-03-09T09:40:17.770234Z",
     "iopub.status.busy": "2023-03-09T09:40:17.769266Z",
     "iopub.status.idle": "2023-03-09T09:40:17.774273Z",
     "shell.execute_reply": "2023-03-09T09:40:17.773275Z"
    },
    "id": "6237e806",
    "papermill": {
     "duration": 0.015696,
     "end_time": "2023-03-09T09:40:17.776365",
     "exception": false,
     "start_time": "2023-03-09T09:40:17.760669",
     "status": "completed"
    },
    "tags": []
   },
   "outputs": [],
   "source": [
    "#vocabular size\n",
    "voc_size = 5000"
   ]
  },
  {
   "cell_type": "code",
   "execution_count": 16,
   "id": "4177dc82",
   "metadata": {
    "execution": {
     "iopub.execute_input": "2023-03-09T09:40:18.278277Z",
     "iopub.status.busy": "2023-03-09T09:40:18.277501Z",
     "iopub.status.idle": "2023-03-09T09:40:18.282040Z",
     "shell.execute_reply": "2023-03-09T09:40:18.281069Z"
    },
    "id": "4177dc82",
    "papermill": {
     "duration": 0.015452,
     "end_time": "2023-03-09T09:40:18.284382",
     "exception": false,
     "start_time": "2023-03-09T09:40:18.268930",
     "status": "completed"
    },
    "tags": []
   },
   "outputs": [],
   "source": [
    "sent_length = 200"
   ]
  },
  {
   "cell_type": "code",
   "execution_count": 17,
   "id": "lMiO4oCO2T0x",
   "metadata": {
    "colab": {
     "base_uri": "https://localhost:8080/"
    },
    "id": "lMiO4oCO2T0x",
    "outputId": "ae161522-cb94-4eef-a8dc-b9bb7770b250"
   },
   "outputs": [
    {
     "name": "stderr",
     "output_type": "stream",
     "text": [
      "<ipython-input-17-6c908cd7c2d9>:1: SettingWithCopyWarning: \n",
      "A value is trying to be set on a copy of a slice from a DataFrame.\n",
      "Try using .loc[row_indexer,col_indexer] = value instead\n",
      "\n",
      "See the caveats in the documentation: https://pandas.pydata.org/pandas-docs/stable/user_guide/indexing.html#returning-a-view-versus-a-copy\n",
      "  df['review'] = df['review'].apply(lambda x: x.lower())\n",
      "<ipython-input-17-6c908cd7c2d9>:2: SettingWithCopyWarning: \n",
      "A value is trying to be set on a copy of a slice from a DataFrame.\n",
      "Try using .loc[row_indexer,col_indexer] = value instead\n",
      "\n",
      "See the caveats in the documentation: https://pandas.pydata.org/pandas-docs/stable/user_guide/indexing.html#returning-a-view-versus-a-copy\n",
      "  df['review'] = df['review'].apply((lambda x: re.sub('[^a-zA-z0-9\\s]','',x)))\n",
      "/usr/local/lib/python3.9/dist-packages/keras/preprocessing/text.py:246: UserWarning: The `nb_words` argument in `Tokenizer` has been renamed `num_words`.\n",
      "  warnings.warn(\n"
     ]
    }
   ],
   "source": [
    "df['review'] = df['review'].apply(lambda x: x.lower())\n",
    "df['review'] = df['review'].apply((lambda x: re.sub('[^a-zA-z0-9\\s]','',x)))\n",
    "\n",
    "max_fatures = 2000\n",
    "tokenizer = Tokenizer(nb_words=max_fatures, split=' ')\n",
    "tokenizer.fit_on_texts(df['review'].values)\n",
    "X = tokenizer.texts_to_sequences(df['review'].values)\n",
    "X = pad_sequences(X)"
   ]
  },
  {
   "cell_type": "code",
   "execution_count": 18,
   "id": "ql3oy-hG29x5",
   "metadata": {
    "colab": {
     "base_uri": "https://localhost:8080/"
    },
    "id": "ql3oy-hG29x5",
    "outputId": "da79deff-ef3c-47c8-9a13-3ccbead9dd63"
   },
   "outputs": [
    {
     "name": "stdout",
     "output_type": "stream",
     "text": [
      "Shape of training samples: (3350, 1319) (3350, 2)\n",
      "Shape of testing samples: (1650, 1319) (1650, 2)\n"
     ]
    }
   ],
   "source": [
    "Y = pd.get_dummies(df['sentiment']).values\n",
    "X_train, X_test, Y_train, Y_test = train_test_split(X,Y, test_size = 0.33, random_state = 42)\n",
    "print('Shape of training samples:',X_train.shape,Y_train.shape)\n",
    "print('Shape of testing samples:',X_test.shape,Y_test.shape)"
   ]
  },
  {
   "cell_type": "code",
   "execution_count": 20,
   "id": "6337ca59",
   "metadata": {
    "colab": {
     "base_uri": "https://localhost:8080/"
    },
    "execution": {
     "iopub.execute_input": "2023-03-09T09:40:18.546293Z",
     "iopub.status.busy": "2023-03-09T09:40:18.545485Z",
     "iopub.status.idle": "2023-03-09T09:40:18.552066Z",
     "shell.execute_reply": "2023-03-09T09:40:18.551029Z"
    },
    "id": "6337ca59",
    "outputId": "891b00fc-0e88-4278-afe9-0519adafd381",
    "papermill": {
     "duration": 0.017386,
     "end_time": "2023-03-09T09:40:18.554156",
     "exception": false,
     "start_time": "2023-03-09T09:40:18.536770",
     "status": "completed"
    },
    "tags": []
   },
   "outputs": [
    {
     "data": {
      "text/plain": [
       "array([[1, 0],\n",
       "       [0, 1],\n",
       "       [1, 0],\n",
       "       [0, 1],\n",
       "       [0, 1],\n",
       "       [0, 1],\n",
       "       [0, 1],\n",
       "       [0, 1],\n",
       "       [0, 1],\n",
       "       [0, 1]], dtype=uint8)"
      ]
     },
     "execution_count": 20,
     "metadata": {},
     "output_type": "execute_result"
    }
   ],
   "source": [
    "Y_train[0:10]"
   ]
  },
  {
   "cell_type": "markdown",
   "id": "a9f6fffb",
   "metadata": {
    "id": "a9f6fffb",
    "papermill": {
     "duration": 0.007737,
     "end_time": "2023-03-09T09:40:18.569864",
     "exception": false,
     "start_time": "2023-03-09T09:40:18.562127",
     "status": "completed"
    },
    "tags": []
   },
   "source": [
    "# Model"
   ]
  },
  {
   "cell_type": "code",
   "execution_count": 21,
   "id": "4pax3nid3g7i",
   "metadata": {
    "colab": {
     "base_uri": "https://localhost:8080/"
    },
    "id": "4pax3nid3g7i",
    "outputId": "153befbd-8170-41e9-cd50-86d219af1b2b"
   },
   "outputs": [
    {
     "data": {
      "text/plain": [
       "1319"
      ]
     },
     "execution_count": 21,
     "metadata": {},
     "output_type": "execute_result"
    }
   ],
   "source": [
    "X.shape[1]"
   ]
  },
  {
   "cell_type": "code",
   "execution_count": 34,
   "id": "9d381995",
   "metadata": {
    "colab": {
     "base_uri": "https://localhost:8080/"
    },
    "execution": {
     "iopub.execute_input": "2023-03-09T09:40:18.587344Z",
     "iopub.status.busy": "2023-03-09T09:40:18.586511Z",
     "iopub.status.idle": "2023-03-09T09:40:22.369169Z",
     "shell.execute_reply": "2023-03-09T09:40:22.368326Z"
    },
    "id": "9d381995",
    "outputId": "53d9b7f1-87f9-48aa-ebc6-0c0b1a23ae97",
    "papermill": {
     "duration": 3.804769,
     "end_time": "2023-03-09T09:40:22.382507",
     "exception": false,
     "start_time": "2023-03-09T09:40:18.577738",
     "status": "completed"
    },
    "tags": []
   },
   "outputs": [
    {
     "name": "stdout",
     "output_type": "stream",
     "text": [
      "Model: \"sequential_3\"\n",
      "_________________________________________________________________\n",
      " Layer (type)                Output Shape              Param #   \n",
      "=================================================================\n",
      " embedding_3 (Embedding)     (None, 1319, 128)         256000    \n",
      "                                                                 \n",
      " lstm_3 (LSTM)               (None, 128)               131584    \n",
      "                                                                 \n",
      " dense_3 (Dense)             (None, 2)                 258       \n",
      "                                                                 \n",
      "=================================================================\n",
      "Total params: 387,842\n",
      "Trainable params: 387,842\n",
      "Non-trainable params: 0\n",
      "_________________________________________________________________\n",
      "None\n"
     ]
    }
   ],
   "source": [
    "model = Sequential()\n",
    "model.add(Embedding(max_fatures, 128 ,input_length = X.shape[1]))\n",
    "model.add(LSTM(128))\n",
    "model.add(Dense(2, activation='sigmoid'))\n",
    "model.compile(loss = 'binary_crossentropy', optimizer='adam',metrics = ['accuracy'])\n",
    "print(model.summary())"
   ]
  },
  {
   "cell_type": "code",
   "execution_count": 36,
   "id": "3b4972ee",
   "metadata": {
    "colab": {
     "base_uri": "https://localhost:8080/"
    },
    "execution": {
     "iopub.execute_input": "2023-03-09T09:40:22.402269Z",
     "iopub.status.busy": "2023-03-09T09:40:22.401957Z",
     "iopub.status.idle": "2023-03-09T09:42:43.632142Z",
     "shell.execute_reply": "2023-03-09T09:42:43.631133Z"
    },
    "id": "3b4972ee",
    "outputId": "4e1c4bde-d077-46f2-c150-6314ef3832fa",
    "papermill": {
     "duration": 141.242588,
     "end_time": "2023-03-09T09:42:43.634461",
     "exception": false,
     "start_time": "2023-03-09T09:40:22.391873",
     "status": "completed"
    },
    "tags": []
   },
   "outputs": [
    {
     "name": "stdout",
     "output_type": "stream",
     "text": [
      "Epoch 1/5\n",
      "210/210 [==============================] - 21s 102ms/step - loss: 0.4503 - accuracy: 0.7982 - val_loss: 0.4493 - val_accuracy: 0.8000\n",
      "Epoch 2/5\n",
      "210/210 [==============================] - 19s 91ms/step - loss: 0.3570 - accuracy: 0.8567 - val_loss: 0.4558 - val_accuracy: 0.8000\n",
      "Epoch 3/5\n",
      "210/210 [==============================] - 15s 73ms/step - loss: 0.3193 - accuracy: 0.8615 - val_loss: 0.5984 - val_accuracy: 0.6958\n",
      "Epoch 4/5\n",
      "210/210 [==============================] - 14s 66ms/step - loss: 0.2441 - accuracy: 0.9039 - val_loss: 0.5790 - val_accuracy: 0.7685\n",
      "Epoch 5/5\n",
      "210/210 [==============================] - 13s 61ms/step - loss: 0.1601 - accuracy: 0.9418 - val_loss: 0.5986 - val_accuracy: 0.7952\n"
     ]
    },
    {
     "data": {
      "text/plain": [
       "<keras.callbacks.History at 0x7faf98d4b550>"
      ]
     },
     "execution_count": 36,
     "metadata": {},
     "output_type": "execute_result"
    }
   ],
   "source": [
    "model.fit(X_train, Y_train, validation_data=(X_test, Y_test), epochs=5, batch_size=16)"
   ]
  },
  {
   "cell_type": "markdown",
   "id": "MBURUJ5hSLtn",
   "metadata": {
    "id": "MBURUJ5hSLtn"
   },
   "source": [
    "# Evaluating Model"
   ]
  },
  {
   "cell_type": "code",
   "execution_count": 37,
   "id": "45de7b94",
   "metadata": {
    "colab": {
     "base_uri": "https://localhost:8080/"
    },
    "execution": {
     "iopub.execute_input": "2023-03-09T09:42:43.788336Z",
     "iopub.status.busy": "2023-03-09T09:42:43.787963Z",
     "iopub.status.idle": "2023-03-09T09:42:44.476128Z",
     "shell.execute_reply": "2023-03-09T09:42:44.475099Z"
    },
    "id": "45de7b94",
    "outputId": "bd3c3662-ad7c-4e51-a3d1-9934e712f1e7",
    "papermill": {
     "duration": 0.766414,
     "end_time": "2023-03-09T09:42:44.478359",
     "exception": false,
     "start_time": "2023-03-09T09:42:43.711945",
     "status": "completed"
    },
    "tags": []
   },
   "outputs": [
    {
     "name": "stdout",
     "output_type": "stream",
     "text": [
      "52/52 [==============================] - 1s 20ms/step - loss: 0.5986 - accuracy: 0.7952\n"
     ]
    },
    {
     "data": {
      "text/plain": [
       "[0.5986361503601074, 0.7951515316963196]"
      ]
     },
     "execution_count": 37,
     "metadata": {},
     "output_type": "execute_result"
    }
   ],
   "source": [
    "model.evaluate(X_test, Y_test)"
   ]
  },
  {
   "cell_type": "code",
   "execution_count": 64,
   "id": "QtyoZYipWX-n",
   "metadata": {
    "colab": {
     "base_uri": "https://localhost:8080/"
    },
    "id": "QtyoZYipWX-n",
    "outputId": "e288e79d-a6ef-428f-96d8-418cdc3ed0f3"
   },
   "outputs": [
    {
     "name": "stdout",
     "output_type": "stream",
     "text": [
      "52/52 [==============================] - 2s 20ms/step\n"
     ]
    }
   ],
   "source": [
    "prediction = model.predict(X_test)"
   ]
  },
  {
   "cell_type": "code",
   "execution_count": 79,
   "id": "2S5HvcG2WoB3",
   "metadata": {
    "id": "2S5HvcG2WoB3"
   },
   "outputs": [],
   "source": [
    "result = []\n",
    "for i in range(len(prediction)):\n",
    "  t = np.argmax(prediction[0])\n",
    "  result.append(t)"
   ]
  },
  {
   "cell_type": "code",
   "execution_count": 82,
   "id": "O34zZKjGXkKf",
   "metadata": {
    "id": "O34zZKjGXkKf"
   },
   "outputs": [],
   "source": [
    "temp_1 = []\n",
    "for i in range(1650):\n",
    "  if Y_test[i][0] == 1:\n",
    "    temp_1.append(1)\n",
    "  else:\n",
    "    temp_1.append(0)"
   ]
  },
  {
   "cell_type": "code",
   "execution_count": 84,
   "id": "mMqlUW7bYh25",
   "metadata": {
    "id": "mMqlUW7bYh25"
   },
   "outputs": [],
   "source": [
    "cm = confusion_matrix(temp_1, result)"
   ]
  },
  {
   "cell_type": "code",
   "execution_count": 85,
   "id": "pH2hcN9XZMUV",
   "metadata": {
    "colab": {
     "base_uri": "https://localhost:8080/"
    },
    "id": "pH2hcN9XZMUV",
    "outputId": "9eb38a77-e5e0-488e-ed4f-e804cfa3a9bf"
   },
   "outputs": [
    {
     "data": {
      "text/plain": [
       "array([[791,   0],\n",
       "       [859,   0]])"
      ]
     },
     "execution_count": 85,
     "metadata": {},
     "output_type": "execute_result"
    }
   ],
   "source": [
    "cm"
   ]
  },
  {
   "cell_type": "code",
   "execution_count": null,
   "id": "xfN_mhfKZSk-",
   "metadata": {
    "id": "xfN_mhfKZSk-"
   },
   "outputs": [],
   "source": []
  }
 ],
 "metadata": {
  "accelerator": "GPU",
  "colab": {
   "include_colab_link": true,
   "provenance": []
  },
  "gpuClass": "standard",
  "kernelspec": {
   "display_name": "Python 3 (ipykernel)",
   "language": "python",
   "name": "python3"
  },
  "language_info": {
   "codemirror_mode": {
    "name": "ipython",
    "version": 3
   },
   "file_extension": ".py",
   "mimetype": "text/x-python",
   "name": "python",
   "nbconvert_exporter": "python",
   "pygments_lexer": "ipython3",
   "version": "3.9.13"
  },
  "papermill": {
   "default_parameters": {},
   "duration": 329.878614,
   "end_time": "2023-03-09T09:42:47.996973",
   "environment_variables": {},
   "exception": null,
   "input_path": "__notebook__.ipynb",
   "output_path": "__notebook__.ipynb",
   "parameters": {},
   "start_time": "2023-03-09T09:37:18.118359",
   "version": "2.4.0"
  }
 },
 "nbformat": 4,
 "nbformat_minor": 5
}
